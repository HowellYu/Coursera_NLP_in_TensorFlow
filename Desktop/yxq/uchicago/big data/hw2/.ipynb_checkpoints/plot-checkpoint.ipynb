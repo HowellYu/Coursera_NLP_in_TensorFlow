{
 "cells": [
  {
   "cell_type": "code",
   "execution_count": 83,
   "metadata": {
    "ExecuteTime": {
     "end_time": "2021-10-30T17:41:02.743934Z",
     "start_time": "2021-10-30T17:41:02.709166Z"
    }
   },
   "outputs": [
    {
     "data": {
      "text/html": [
       "        <script type=\"text/javascript\">\n",
       "        window.PlotlyConfig = {MathJaxConfig: 'local'};\n",
       "        if (window.MathJax) {MathJax.Hub.Config({SVG: {font: \"STIX-Web\"}});}\n",
       "        if (typeof require !== 'undefined') {\n",
       "        require.undef(\"plotly\");\n",
       "        requirejs.config({\n",
       "            paths: {\n",
       "                'plotly': ['https://cdn.plot.ly/plotly-2.4.2.min']\n",
       "            }\n",
       "        });\n",
       "        require(['plotly'], function(Plotly) {\n",
       "            window._Plotly = Plotly;\n",
       "        });\n",
       "        }\n",
       "        </script>\n",
       "        "
      ]
     },
     "metadata": {},
     "output_type": "display_data"
    }
   ],
   "source": [
    "import pandas as pd\n",
    "import warnings\n",
    "import plotly.offline as py\n",
    "import plotly.graph_objs as go\n",
    "\n",
    "py.init_notebook_mode(connected=True)\n",
    "warnings.filterwarnings('ignore', category=FutureWarning)\n"
   ]
  },
  {
   "cell_type": "code",
   "execution_count": 84,
   "metadata": {
    "ExecuteTime": {
     "end_time": "2021-10-30T17:41:03.348715Z",
     "start_time": "2021-10-30T17:41:03.298169Z"
    }
   },
   "outputs": [],
   "source": [
    "q11 = pd.read_csv('temp_big_data-main/q11.csv', names=['type', 'community', 'count'])"
   ]
  },
  {
   "cell_type": "code",
   "execution_count": 85,
   "metadata": {
    "ExecuteTime": {
     "end_time": "2021-10-30T17:41:04.453707Z",
     "start_time": "2021-10-30T17:41:04.419931Z"
    }
   },
   "outputs": [
    {
     "data": {
      "text/html": [
       "<div>\n",
       "<style scoped>\n",
       "    .dataframe tbody tr th:only-of-type {\n",
       "        vertical-align: middle;\n",
       "    }\n",
       "\n",
       "    .dataframe tbody tr th {\n",
       "        vertical-align: top;\n",
       "    }\n",
       "\n",
       "    .dataframe thead th {\n",
       "        text-align: right;\n",
       "    }\n",
       "</style>\n",
       "<table border=\"1\" class=\"dataframe\">\n",
       "  <thead>\n",
       "    <tr style=\"text-align: right;\">\n",
       "      <th></th>\n",
       "      <th>type</th>\n",
       "      <th>community</th>\n",
       "      <th>count</th>\n",
       "    </tr>\n",
       "  </thead>\n",
       "  <tbody>\n",
       "    <tr>\n",
       "      <th>0</th>\n",
       "      <td>ARSON</td>\n",
       "      <td>33.0</td>\n",
       "      <td>34</td>\n",
       "    </tr>\n",
       "    <tr>\n",
       "      <th>1</th>\n",
       "      <td>ARSON</td>\n",
       "      <td>60.0</td>\n",
       "      <td>115</td>\n",
       "    </tr>\n",
       "    <tr>\n",
       "      <th>2</th>\n",
       "      <td>ASSAULT</td>\n",
       "      <td>4.0</td>\n",
       "      <td>5113</td>\n",
       "    </tr>\n",
       "    <tr>\n",
       "      <th>3</th>\n",
       "      <td>ASSAULT</td>\n",
       "      <td>31.0</td>\n",
       "      <td>4702</td>\n",
       "    </tr>\n",
       "    <tr>\n",
       "      <th>4</th>\n",
       "      <td>ASSAULT</td>\n",
       "      <td>58.0</td>\n",
       "      <td>3708</td>\n",
       "    </tr>\n",
       "    <tr>\n",
       "      <th>...</th>\n",
       "      <td>...</td>\n",
       "      <td>...</td>\n",
       "      <td>...</td>\n",
       "    </tr>\n",
       "    <tr>\n",
       "      <th>2879</th>\n",
       "      <td>THEFT</td>\n",
       "      <td>12.0</td>\n",
       "      <td>5833</td>\n",
       "    </tr>\n",
       "    <tr>\n",
       "      <th>2880</th>\n",
       "      <td>THEFT</td>\n",
       "      <td>39.0</td>\n",
       "      <td>8627</td>\n",
       "    </tr>\n",
       "    <tr>\n",
       "      <th>2881</th>\n",
       "      <td>THEFT</td>\n",
       "      <td>66.0</td>\n",
       "      <td>24478</td>\n",
       "    </tr>\n",
       "    <tr>\n",
       "      <th>2882</th>\n",
       "      <td>WEAPONS VIOLATION</td>\n",
       "      <td>26.0</td>\n",
       "      <td>2422</td>\n",
       "    </tr>\n",
       "    <tr>\n",
       "      <th>2883</th>\n",
       "      <td>WEAPONS VIOLATION</td>\n",
       "      <td>53.0</td>\n",
       "      <td>2586</td>\n",
       "    </tr>\n",
       "  </tbody>\n",
       "</table>\n",
       "<p>2884 rows × 3 columns</p>\n",
       "</div>"
      ],
      "text/plain": [
       "                   type  community  count\n",
       "0                 ARSON       33.0     34\n",
       "1                 ARSON       60.0    115\n",
       "2               ASSAULT        4.0   5113\n",
       "3               ASSAULT       31.0   4702\n",
       "4               ASSAULT       58.0   3708\n",
       "...                 ...        ...    ...\n",
       "2879              THEFT       12.0   5833\n",
       "2880              THEFT       39.0   8627\n",
       "2881              THEFT       66.0  24478\n",
       "2882  WEAPONS VIOLATION       26.0   2422\n",
       "2883  WEAPONS VIOLATION       53.0   2586\n",
       "\n",
       "[2884 rows x 3 columns]"
      ]
     },
     "execution_count": 85,
     "metadata": {},
     "output_type": "execute_result"
    }
   ],
   "source": [
    "q11"
   ]
  },
  {
   "cell_type": "code",
   "execution_count": 86,
   "metadata": {
    "ExecuteTime": {
     "end_time": "2021-10-30T17:41:23.602314Z",
     "start_time": "2021-10-30T17:41:23.383057Z"
    }
   },
   "outputs": [
    {
     "data": {
      "application/vnd.plotly.v1+json": {
       "config": {
        "plotlyServerURL": "https://plot.ly"
       },
       "data": [
        {
         "alignmentgroup": "True",
         "hovertemplate": "count=%{x}<br>community=%{y}<extra></extra>",
         "legendgroup": "",
         "marker": {
          "color": "#636efa",
          "pattern": {
           "shape": ""
          }
         },
         "name": "",
         "offsetgroup": "",
         "orientation": "h",
         "showlegend": false,
         "textposition": "auto",
         "type": "bar",
         "x": [
          733,
          1005,
          1427,
          587,
          1962,
          568,
          339,
          1073,
          1841,
          179,
          283,
          263,
          1348,
          1371,
          751,
          486,
          89,
          254,
          472,
          341,
          631,
          1110,
          1466,
          93,
          1578,
          348,
          349,
          771,
          528,
          2818,
          470,
          638,
          1086,
          2484,
          684,
          320,
          729,
          977,
          185,
          747,
          1254,
          383,
          665,
          1224,
          191,
          396,
          517,
          712,
          319,
          173,
          217,
          376,
          213,
          284,
          259,
          99,
          1201,
          608,
          344,
          206,
          107,
          172,
          658,
          297,
          193,
          321,
          320,
          568,
          489,
          136,
          311,
          1478,
          158,
          529,
          1421,
          557,
          248,
          1281
         ],
         "xaxis": "x",
         "y": [
          15,
          42,
          69,
          16,
          43,
          70,
          17,
          44,
          71,
          18,
          45,
          72,
          19,
          46,
          73,
          20,
          47,
          74,
          21,
          48,
          75,
          22,
          49,
          76,
          23,
          50,
          77,
          24,
          51,
          25,
          52,
          26,
          53,
          null,
          27,
          54,
          1,
          28,
          55,
          2,
          29,
          56,
          3,
          30,
          57,
          4,
          31,
          58,
          5,
          32,
          59,
          6,
          33,
          60,
          7,
          34,
          61,
          8,
          35,
          62,
          9,
          36,
          63,
          10,
          37,
          64,
          11,
          38,
          65,
          12,
          39,
          66,
          13,
          40,
          67,
          14,
          41,
          68
         ],
         "yaxis": "y"
        }
       ],
       "layout": {
        "barmode": "relative",
        "legend": {
         "tracegroupgap": 0
        },
        "template": {
         "data": {
          "bar": [
           {
            "error_x": {
             "color": "#2a3f5f"
            },
            "error_y": {
             "color": "#2a3f5f"
            },
            "marker": {
             "line": {
              "color": "#E5ECF6",
              "width": 0.5
             },
             "pattern": {
              "fillmode": "overlay",
              "size": 10,
              "solidity": 0.2
             }
            },
            "type": "bar"
           }
          ],
          "barpolar": [
           {
            "marker": {
             "line": {
              "color": "#E5ECF6",
              "width": 0.5
             },
             "pattern": {
              "fillmode": "overlay",
              "size": 10,
              "solidity": 0.2
             }
            },
            "type": "barpolar"
           }
          ],
          "carpet": [
           {
            "aaxis": {
             "endlinecolor": "#2a3f5f",
             "gridcolor": "white",
             "linecolor": "white",
             "minorgridcolor": "white",
             "startlinecolor": "#2a3f5f"
            },
            "baxis": {
             "endlinecolor": "#2a3f5f",
             "gridcolor": "white",
             "linecolor": "white",
             "minorgridcolor": "white",
             "startlinecolor": "#2a3f5f"
            },
            "type": "carpet"
           }
          ],
          "choropleth": [
           {
            "colorbar": {
             "outlinewidth": 0,
             "ticks": ""
            },
            "type": "choropleth"
           }
          ],
          "contour": [
           {
            "colorbar": {
             "outlinewidth": 0,
             "ticks": ""
            },
            "colorscale": [
             [
              0,
              "#0d0887"
             ],
             [
              0.1111111111111111,
              "#46039f"
             ],
             [
              0.2222222222222222,
              "#7201a8"
             ],
             [
              0.3333333333333333,
              "#9c179e"
             ],
             [
              0.4444444444444444,
              "#bd3786"
             ],
             [
              0.5555555555555556,
              "#d8576b"
             ],
             [
              0.6666666666666666,
              "#ed7953"
             ],
             [
              0.7777777777777778,
              "#fb9f3a"
             ],
             [
              0.8888888888888888,
              "#fdca26"
             ],
             [
              1,
              "#f0f921"
             ]
            ],
            "type": "contour"
           }
          ],
          "contourcarpet": [
           {
            "colorbar": {
             "outlinewidth": 0,
             "ticks": ""
            },
            "type": "contourcarpet"
           }
          ],
          "heatmap": [
           {
            "colorbar": {
             "outlinewidth": 0,
             "ticks": ""
            },
            "colorscale": [
             [
              0,
              "#0d0887"
             ],
             [
              0.1111111111111111,
              "#46039f"
             ],
             [
              0.2222222222222222,
              "#7201a8"
             ],
             [
              0.3333333333333333,
              "#9c179e"
             ],
             [
              0.4444444444444444,
              "#bd3786"
             ],
             [
              0.5555555555555556,
              "#d8576b"
             ],
             [
              0.6666666666666666,
              "#ed7953"
             ],
             [
              0.7777777777777778,
              "#fb9f3a"
             ],
             [
              0.8888888888888888,
              "#fdca26"
             ],
             [
              1,
              "#f0f921"
             ]
            ],
            "type": "heatmap"
           }
          ],
          "heatmapgl": [
           {
            "colorbar": {
             "outlinewidth": 0,
             "ticks": ""
            },
            "colorscale": [
             [
              0,
              "#0d0887"
             ],
             [
              0.1111111111111111,
              "#46039f"
             ],
             [
              0.2222222222222222,
              "#7201a8"
             ],
             [
              0.3333333333333333,
              "#9c179e"
             ],
             [
              0.4444444444444444,
              "#bd3786"
             ],
             [
              0.5555555555555556,
              "#d8576b"
             ],
             [
              0.6666666666666666,
              "#ed7953"
             ],
             [
              0.7777777777777778,
              "#fb9f3a"
             ],
             [
              0.8888888888888888,
              "#fdca26"
             ],
             [
              1,
              "#f0f921"
             ]
            ],
            "type": "heatmapgl"
           }
          ],
          "histogram": [
           {
            "marker": {
             "pattern": {
              "fillmode": "overlay",
              "size": 10,
              "solidity": 0.2
             }
            },
            "type": "histogram"
           }
          ],
          "histogram2d": [
           {
            "colorbar": {
             "outlinewidth": 0,
             "ticks": ""
            },
            "colorscale": [
             [
              0,
              "#0d0887"
             ],
             [
              0.1111111111111111,
              "#46039f"
             ],
             [
              0.2222222222222222,
              "#7201a8"
             ],
             [
              0.3333333333333333,
              "#9c179e"
             ],
             [
              0.4444444444444444,
              "#bd3786"
             ],
             [
              0.5555555555555556,
              "#d8576b"
             ],
             [
              0.6666666666666666,
              "#ed7953"
             ],
             [
              0.7777777777777778,
              "#fb9f3a"
             ],
             [
              0.8888888888888888,
              "#fdca26"
             ],
             [
              1,
              "#f0f921"
             ]
            ],
            "type": "histogram2d"
           }
          ],
          "histogram2dcontour": [
           {
            "colorbar": {
             "outlinewidth": 0,
             "ticks": ""
            },
            "colorscale": [
             [
              0,
              "#0d0887"
             ],
             [
              0.1111111111111111,
              "#46039f"
             ],
             [
              0.2222222222222222,
              "#7201a8"
             ],
             [
              0.3333333333333333,
              "#9c179e"
             ],
             [
              0.4444444444444444,
              "#bd3786"
             ],
             [
              0.5555555555555556,
              "#d8576b"
             ],
             [
              0.6666666666666666,
              "#ed7953"
             ],
             [
              0.7777777777777778,
              "#fb9f3a"
             ],
             [
              0.8888888888888888,
              "#fdca26"
             ],
             [
              1,
              "#f0f921"
             ]
            ],
            "type": "histogram2dcontour"
           }
          ],
          "mesh3d": [
           {
            "colorbar": {
             "outlinewidth": 0,
             "ticks": ""
            },
            "type": "mesh3d"
           }
          ],
          "parcoords": [
           {
            "line": {
             "colorbar": {
              "outlinewidth": 0,
              "ticks": ""
             }
            },
            "type": "parcoords"
           }
          ],
          "pie": [
           {
            "automargin": true,
            "type": "pie"
           }
          ],
          "scatter": [
           {
            "marker": {
             "colorbar": {
              "outlinewidth": 0,
              "ticks": ""
             }
            },
            "type": "scatter"
           }
          ],
          "scatter3d": [
           {
            "line": {
             "colorbar": {
              "outlinewidth": 0,
              "ticks": ""
             }
            },
            "marker": {
             "colorbar": {
              "outlinewidth": 0,
              "ticks": ""
             }
            },
            "type": "scatter3d"
           }
          ],
          "scattercarpet": [
           {
            "marker": {
             "colorbar": {
              "outlinewidth": 0,
              "ticks": ""
             }
            },
            "type": "scattercarpet"
           }
          ],
          "scattergeo": [
           {
            "marker": {
             "colorbar": {
              "outlinewidth": 0,
              "ticks": ""
             }
            },
            "type": "scattergeo"
           }
          ],
          "scattergl": [
           {
            "marker": {
             "colorbar": {
              "outlinewidth": 0,
              "ticks": ""
             }
            },
            "type": "scattergl"
           }
          ],
          "scattermapbox": [
           {
            "marker": {
             "colorbar": {
              "outlinewidth": 0,
              "ticks": ""
             }
            },
            "type": "scattermapbox"
           }
          ],
          "scatterpolar": [
           {
            "marker": {
             "colorbar": {
              "outlinewidth": 0,
              "ticks": ""
             }
            },
            "type": "scatterpolar"
           }
          ],
          "scatterpolargl": [
           {
            "marker": {
             "colorbar": {
              "outlinewidth": 0,
              "ticks": ""
             }
            },
            "type": "scatterpolargl"
           }
          ],
          "scatterternary": [
           {
            "marker": {
             "colorbar": {
              "outlinewidth": 0,
              "ticks": ""
             }
            },
            "type": "scatterternary"
           }
          ],
          "surface": [
           {
            "colorbar": {
             "outlinewidth": 0,
             "ticks": ""
            },
            "colorscale": [
             [
              0,
              "#0d0887"
             ],
             [
              0.1111111111111111,
              "#46039f"
             ],
             [
              0.2222222222222222,
              "#7201a8"
             ],
             [
              0.3333333333333333,
              "#9c179e"
             ],
             [
              0.4444444444444444,
              "#bd3786"
             ],
             [
              0.5555555555555556,
              "#d8576b"
             ],
             [
              0.6666666666666666,
              "#ed7953"
             ],
             [
              0.7777777777777778,
              "#fb9f3a"
             ],
             [
              0.8888888888888888,
              "#fdca26"
             ],
             [
              1,
              "#f0f921"
             ]
            ],
            "type": "surface"
           }
          ],
          "table": [
           {
            "cells": {
             "fill": {
              "color": "#EBF0F8"
             },
             "line": {
              "color": "white"
             }
            },
            "header": {
             "fill": {
              "color": "#C8D4E3"
             },
             "line": {
              "color": "white"
             }
            },
            "type": "table"
           }
          ]
         },
         "layout": {
          "annotationdefaults": {
           "arrowcolor": "#2a3f5f",
           "arrowhead": 0,
           "arrowwidth": 1
          },
          "autotypenumbers": "strict",
          "coloraxis": {
           "colorbar": {
            "outlinewidth": 0,
            "ticks": ""
           }
          },
          "colorscale": {
           "diverging": [
            [
             0,
             "#8e0152"
            ],
            [
             0.1,
             "#c51b7d"
            ],
            [
             0.2,
             "#de77ae"
            ],
            [
             0.3,
             "#f1b6da"
            ],
            [
             0.4,
             "#fde0ef"
            ],
            [
             0.5,
             "#f7f7f7"
            ],
            [
             0.6,
             "#e6f5d0"
            ],
            [
             0.7,
             "#b8e186"
            ],
            [
             0.8,
             "#7fbc41"
            ],
            [
             0.9,
             "#4d9221"
            ],
            [
             1,
             "#276419"
            ]
           ],
           "sequential": [
            [
             0,
             "#0d0887"
            ],
            [
             0.1111111111111111,
             "#46039f"
            ],
            [
             0.2222222222222222,
             "#7201a8"
            ],
            [
             0.3333333333333333,
             "#9c179e"
            ],
            [
             0.4444444444444444,
             "#bd3786"
            ],
            [
             0.5555555555555556,
             "#d8576b"
            ],
            [
             0.6666666666666666,
             "#ed7953"
            ],
            [
             0.7777777777777778,
             "#fb9f3a"
            ],
            [
             0.8888888888888888,
             "#fdca26"
            ],
            [
             1,
             "#f0f921"
            ]
           ],
           "sequentialminus": [
            [
             0,
             "#0d0887"
            ],
            [
             0.1111111111111111,
             "#46039f"
            ],
            [
             0.2222222222222222,
             "#7201a8"
            ],
            [
             0.3333333333333333,
             "#9c179e"
            ],
            [
             0.4444444444444444,
             "#bd3786"
            ],
            [
             0.5555555555555556,
             "#d8576b"
            ],
            [
             0.6666666666666666,
             "#ed7953"
            ],
            [
             0.7777777777777778,
             "#fb9f3a"
            ],
            [
             0.8888888888888888,
             "#fdca26"
            ],
            [
             1,
             "#f0f921"
            ]
           ]
          },
          "colorway": [
           "#636efa",
           "#EF553B",
           "#00cc96",
           "#ab63fa",
           "#FFA15A",
           "#19d3f3",
           "#FF6692",
           "#B6E880",
           "#FF97FF",
           "#FECB52"
          ],
          "font": {
           "color": "#2a3f5f"
          },
          "geo": {
           "bgcolor": "white",
           "lakecolor": "white",
           "landcolor": "#E5ECF6",
           "showlakes": true,
           "showland": true,
           "subunitcolor": "white"
          },
          "hoverlabel": {
           "align": "left"
          },
          "hovermode": "closest",
          "mapbox": {
           "style": "light"
          },
          "paper_bgcolor": "white",
          "plot_bgcolor": "#E5ECF6",
          "polar": {
           "angularaxis": {
            "gridcolor": "white",
            "linecolor": "white",
            "ticks": ""
           },
           "bgcolor": "#E5ECF6",
           "radialaxis": {
            "gridcolor": "white",
            "linecolor": "white",
            "ticks": ""
           }
          },
          "scene": {
           "xaxis": {
            "backgroundcolor": "#E5ECF6",
            "gridcolor": "white",
            "gridwidth": 2,
            "linecolor": "white",
            "showbackground": true,
            "ticks": "",
            "zerolinecolor": "white"
           },
           "yaxis": {
            "backgroundcolor": "#E5ECF6",
            "gridcolor": "white",
            "gridwidth": 2,
            "linecolor": "white",
            "showbackground": true,
            "ticks": "",
            "zerolinecolor": "white"
           },
           "zaxis": {
            "backgroundcolor": "#E5ECF6",
            "gridcolor": "white",
            "gridwidth": 2,
            "linecolor": "white",
            "showbackground": true,
            "ticks": "",
            "zerolinecolor": "white"
           }
          },
          "shapedefaults": {
           "line": {
            "color": "#2a3f5f"
           }
          },
          "ternary": {
           "aaxis": {
            "gridcolor": "white",
            "linecolor": "white",
            "ticks": ""
           },
           "baxis": {
            "gridcolor": "white",
            "linecolor": "white",
            "ticks": ""
           },
           "bgcolor": "#E5ECF6",
           "caxis": {
            "gridcolor": "white",
            "linecolor": "white",
            "ticks": ""
           }
          },
          "title": {
           "x": 0.05
          },
          "xaxis": {
           "automargin": true,
           "gridcolor": "white",
           "linecolor": "white",
           "ticks": "",
           "title": {
            "standoff": 15
           },
           "zerolinecolor": "white",
           "zerolinewidth": 2
          },
          "yaxis": {
           "automargin": true,
           "gridcolor": "white",
           "linecolor": "white",
           "ticks": "",
           "title": {
            "standoff": 15
           },
           "zerolinecolor": "white",
           "zerolinewidth": 2
          }
         }
        },
        "title": {
         "text": "Counts by Community"
        },
        "xaxis": {
         "anchor": "y",
         "domain": [
          0,
          1
         ],
         "title": {
          "text": "count"
         }
        },
        "yaxis": {
         "anchor": "x",
         "domain": [
          0,
          1
         ],
         "title": {
          "text": "community"
         }
        }
       }
      },
      "text/html": [
       "<div>                            <div id=\"6472e022-e272-4a65-8d00-60457759c35d\" class=\"plotly-graph-div\" style=\"height:525px; width:100%;\"></div>            <script type=\"text/javascript\">                require([\"plotly\"], function(Plotly) {                    window.PLOTLYENV=window.PLOTLYENV || {};                                    if (document.getElementById(\"6472e022-e272-4a65-8d00-60457759c35d\")) {                    Plotly.newPlot(                        \"6472e022-e272-4a65-8d00-60457759c35d\",                        [{\"alignmentgroup\":\"True\",\"hovertemplate\":\"count=%{x}<br>community=%{y}<extra></extra>\",\"legendgroup\":\"\",\"marker\":{\"color\":\"#636efa\",\"pattern\":{\"shape\":\"\"}},\"name\":\"\",\"offsetgroup\":\"\",\"orientation\":\"h\",\"showlegend\":false,\"textposition\":\"auto\",\"type\":\"bar\",\"x\":[733,1005,1427,587,1962,568,339,1073,1841,179,283,263,1348,1371,751,486,89,254,472,341,631,1110,1466,93,1578,348,349,771,528,2818,470,638,1086,2484,684,320,729,977,185,747,1254,383,665,1224,191,396,517,712,319,173,217,376,213,284,259,99,1201,608,344,206,107,172,658,297,193,321,320,568,489,136,311,1478,158,529,1421,557,248,1281],\"xaxis\":\"x\",\"y\":[15.0,42.0,69.0,16.0,43.0,70.0,17.0,44.0,71.0,18.0,45.0,72.0,19.0,46.0,73.0,20.0,47.0,74.0,21.0,48.0,75.0,22.0,49.0,76.0,23.0,50.0,77.0,24.0,51.0,25.0,52.0,26.0,53.0,null,27.0,54.0,1.0,28.0,55.0,2.0,29.0,56.0,3.0,30.0,57.0,4.0,31.0,58.0,5.0,32.0,59.0,6.0,33.0,60.0,7.0,34.0,61.0,8.0,35.0,62.0,9.0,36.0,63.0,10.0,37.0,64.0,11.0,38.0,65.0,12.0,39.0,66.0,13.0,40.0,67.0,14.0,41.0,68.0],\"yaxis\":\"y\"}],                        {\"barmode\":\"relative\",\"legend\":{\"tracegroupgap\":0},\"template\":{\"data\":{\"bar\":[{\"error_x\":{\"color\":\"#2a3f5f\"},\"error_y\":{\"color\":\"#2a3f5f\"},\"marker\":{\"line\":{\"color\":\"#E5ECF6\",\"width\":0.5},\"pattern\":{\"fillmode\":\"overlay\",\"size\":10,\"solidity\":0.2}},\"type\":\"bar\"}],\"barpolar\":[{\"marker\":{\"line\":{\"color\":\"#E5ECF6\",\"width\":0.5},\"pattern\":{\"fillmode\":\"overlay\",\"size\":10,\"solidity\":0.2}},\"type\":\"barpolar\"}],\"carpet\":[{\"aaxis\":{\"endlinecolor\":\"#2a3f5f\",\"gridcolor\":\"white\",\"linecolor\":\"white\",\"minorgridcolor\":\"white\",\"startlinecolor\":\"#2a3f5f\"},\"baxis\":{\"endlinecolor\":\"#2a3f5f\",\"gridcolor\":\"white\",\"linecolor\":\"white\",\"minorgridcolor\":\"white\",\"startlinecolor\":\"#2a3f5f\"},\"type\":\"carpet\"}],\"choropleth\":[{\"colorbar\":{\"outlinewidth\":0,\"ticks\":\"\"},\"type\":\"choropleth\"}],\"contour\":[{\"colorbar\":{\"outlinewidth\":0,\"ticks\":\"\"},\"colorscale\":[[0.0,\"#0d0887\"],[0.1111111111111111,\"#46039f\"],[0.2222222222222222,\"#7201a8\"],[0.3333333333333333,\"#9c179e\"],[0.4444444444444444,\"#bd3786\"],[0.5555555555555556,\"#d8576b\"],[0.6666666666666666,\"#ed7953\"],[0.7777777777777778,\"#fb9f3a\"],[0.8888888888888888,\"#fdca26\"],[1.0,\"#f0f921\"]],\"type\":\"contour\"}],\"contourcarpet\":[{\"colorbar\":{\"outlinewidth\":0,\"ticks\":\"\"},\"type\":\"contourcarpet\"}],\"heatmap\":[{\"colorbar\":{\"outlinewidth\":0,\"ticks\":\"\"},\"colorscale\":[[0.0,\"#0d0887\"],[0.1111111111111111,\"#46039f\"],[0.2222222222222222,\"#7201a8\"],[0.3333333333333333,\"#9c179e\"],[0.4444444444444444,\"#bd3786\"],[0.5555555555555556,\"#d8576b\"],[0.6666666666666666,\"#ed7953\"],[0.7777777777777778,\"#fb9f3a\"],[0.8888888888888888,\"#fdca26\"],[1.0,\"#f0f921\"]],\"type\":\"heatmap\"}],\"heatmapgl\":[{\"colorbar\":{\"outlinewidth\":0,\"ticks\":\"\"},\"colorscale\":[[0.0,\"#0d0887\"],[0.1111111111111111,\"#46039f\"],[0.2222222222222222,\"#7201a8\"],[0.3333333333333333,\"#9c179e\"],[0.4444444444444444,\"#bd3786\"],[0.5555555555555556,\"#d8576b\"],[0.6666666666666666,\"#ed7953\"],[0.7777777777777778,\"#fb9f3a\"],[0.8888888888888888,\"#fdca26\"],[1.0,\"#f0f921\"]],\"type\":\"heatmapgl\"}],\"histogram\":[{\"marker\":{\"pattern\":{\"fillmode\":\"overlay\",\"size\":10,\"solidity\":0.2}},\"type\":\"histogram\"}],\"histogram2d\":[{\"colorbar\":{\"outlinewidth\":0,\"ticks\":\"\"},\"colorscale\":[[0.0,\"#0d0887\"],[0.1111111111111111,\"#46039f\"],[0.2222222222222222,\"#7201a8\"],[0.3333333333333333,\"#9c179e\"],[0.4444444444444444,\"#bd3786\"],[0.5555555555555556,\"#d8576b\"],[0.6666666666666666,\"#ed7953\"],[0.7777777777777778,\"#fb9f3a\"],[0.8888888888888888,\"#fdca26\"],[1.0,\"#f0f921\"]],\"type\":\"histogram2d\"}],\"histogram2dcontour\":[{\"colorbar\":{\"outlinewidth\":0,\"ticks\":\"\"},\"colorscale\":[[0.0,\"#0d0887\"],[0.1111111111111111,\"#46039f\"],[0.2222222222222222,\"#7201a8\"],[0.3333333333333333,\"#9c179e\"],[0.4444444444444444,\"#bd3786\"],[0.5555555555555556,\"#d8576b\"],[0.6666666666666666,\"#ed7953\"],[0.7777777777777778,\"#fb9f3a\"],[0.8888888888888888,\"#fdca26\"],[1.0,\"#f0f921\"]],\"type\":\"histogram2dcontour\"}],\"mesh3d\":[{\"colorbar\":{\"outlinewidth\":0,\"ticks\":\"\"},\"type\":\"mesh3d\"}],\"parcoords\":[{\"line\":{\"colorbar\":{\"outlinewidth\":0,\"ticks\":\"\"}},\"type\":\"parcoords\"}],\"pie\":[{\"automargin\":true,\"type\":\"pie\"}],\"scatter\":[{\"marker\":{\"colorbar\":{\"outlinewidth\":0,\"ticks\":\"\"}},\"type\":\"scatter\"}],\"scatter3d\":[{\"line\":{\"colorbar\":{\"outlinewidth\":0,\"ticks\":\"\"}},\"marker\":{\"colorbar\":{\"outlinewidth\":0,\"ticks\":\"\"}},\"type\":\"scatter3d\"}],\"scattercarpet\":[{\"marker\":{\"colorbar\":{\"outlinewidth\":0,\"ticks\":\"\"}},\"type\":\"scattercarpet\"}],\"scattergeo\":[{\"marker\":{\"colorbar\":{\"outlinewidth\":0,\"ticks\":\"\"}},\"type\":\"scattergeo\"}],\"scattergl\":[{\"marker\":{\"colorbar\":{\"outlinewidth\":0,\"ticks\":\"\"}},\"type\":\"scattergl\"}],\"scattermapbox\":[{\"marker\":{\"colorbar\":{\"outlinewidth\":0,\"ticks\":\"\"}},\"type\":\"scattermapbox\"}],\"scatterpolar\":[{\"marker\":{\"colorbar\":{\"outlinewidth\":0,\"ticks\":\"\"}},\"type\":\"scatterpolar\"}],\"scatterpolargl\":[{\"marker\":{\"colorbar\":{\"outlinewidth\":0,\"ticks\":\"\"}},\"type\":\"scatterpolargl\"}],\"scatterternary\":[{\"marker\":{\"colorbar\":{\"outlinewidth\":0,\"ticks\":\"\"}},\"type\":\"scatterternary\"}],\"surface\":[{\"colorbar\":{\"outlinewidth\":0,\"ticks\":\"\"},\"colorscale\":[[0.0,\"#0d0887\"],[0.1111111111111111,\"#46039f\"],[0.2222222222222222,\"#7201a8\"],[0.3333333333333333,\"#9c179e\"],[0.4444444444444444,\"#bd3786\"],[0.5555555555555556,\"#d8576b\"],[0.6666666666666666,\"#ed7953\"],[0.7777777777777778,\"#fb9f3a\"],[0.8888888888888888,\"#fdca26\"],[1.0,\"#f0f921\"]],\"type\":\"surface\"}],\"table\":[{\"cells\":{\"fill\":{\"color\":\"#EBF0F8\"},\"line\":{\"color\":\"white\"}},\"header\":{\"fill\":{\"color\":\"#C8D4E3\"},\"line\":{\"color\":\"white\"}},\"type\":\"table\"}]},\"layout\":{\"annotationdefaults\":{\"arrowcolor\":\"#2a3f5f\",\"arrowhead\":0,\"arrowwidth\":1},\"autotypenumbers\":\"strict\",\"coloraxis\":{\"colorbar\":{\"outlinewidth\":0,\"ticks\":\"\"}},\"colorscale\":{\"diverging\":[[0,\"#8e0152\"],[0.1,\"#c51b7d\"],[0.2,\"#de77ae\"],[0.3,\"#f1b6da\"],[0.4,\"#fde0ef\"],[0.5,\"#f7f7f7\"],[0.6,\"#e6f5d0\"],[0.7,\"#b8e186\"],[0.8,\"#7fbc41\"],[0.9,\"#4d9221\"],[1,\"#276419\"]],\"sequential\":[[0.0,\"#0d0887\"],[0.1111111111111111,\"#46039f\"],[0.2222222222222222,\"#7201a8\"],[0.3333333333333333,\"#9c179e\"],[0.4444444444444444,\"#bd3786\"],[0.5555555555555556,\"#d8576b\"],[0.6666666666666666,\"#ed7953\"],[0.7777777777777778,\"#fb9f3a\"],[0.8888888888888888,\"#fdca26\"],[1.0,\"#f0f921\"]],\"sequentialminus\":[[0.0,\"#0d0887\"],[0.1111111111111111,\"#46039f\"],[0.2222222222222222,\"#7201a8\"],[0.3333333333333333,\"#9c179e\"],[0.4444444444444444,\"#bd3786\"],[0.5555555555555556,\"#d8576b\"],[0.6666666666666666,\"#ed7953\"],[0.7777777777777778,\"#fb9f3a\"],[0.8888888888888888,\"#fdca26\"],[1.0,\"#f0f921\"]]},\"colorway\":[\"#636efa\",\"#EF553B\",\"#00cc96\",\"#ab63fa\",\"#FFA15A\",\"#19d3f3\",\"#FF6692\",\"#B6E880\",\"#FF97FF\",\"#FECB52\"],\"font\":{\"color\":\"#2a3f5f\"},\"geo\":{\"bgcolor\":\"white\",\"lakecolor\":\"white\",\"landcolor\":\"#E5ECF6\",\"showlakes\":true,\"showland\":true,\"subunitcolor\":\"white\"},\"hoverlabel\":{\"align\":\"left\"},\"hovermode\":\"closest\",\"mapbox\":{\"style\":\"light\"},\"paper_bgcolor\":\"white\",\"plot_bgcolor\":\"#E5ECF6\",\"polar\":{\"angularaxis\":{\"gridcolor\":\"white\",\"linecolor\":\"white\",\"ticks\":\"\"},\"bgcolor\":\"#E5ECF6\",\"radialaxis\":{\"gridcolor\":\"white\",\"linecolor\":\"white\",\"ticks\":\"\"}},\"scene\":{\"xaxis\":{\"backgroundcolor\":\"#E5ECF6\",\"gridcolor\":\"white\",\"gridwidth\":2,\"linecolor\":\"white\",\"showbackground\":true,\"ticks\":\"\",\"zerolinecolor\":\"white\"},\"yaxis\":{\"backgroundcolor\":\"#E5ECF6\",\"gridcolor\":\"white\",\"gridwidth\":2,\"linecolor\":\"white\",\"showbackground\":true,\"ticks\":\"\",\"zerolinecolor\":\"white\"},\"zaxis\":{\"backgroundcolor\":\"#E5ECF6\",\"gridcolor\":\"white\",\"gridwidth\":2,\"linecolor\":\"white\",\"showbackground\":true,\"ticks\":\"\",\"zerolinecolor\":\"white\"}},\"shapedefaults\":{\"line\":{\"color\":\"#2a3f5f\"}},\"ternary\":{\"aaxis\":{\"gridcolor\":\"white\",\"linecolor\":\"white\",\"ticks\":\"\"},\"baxis\":{\"gridcolor\":\"white\",\"linecolor\":\"white\",\"ticks\":\"\"},\"bgcolor\":\"#E5ECF6\",\"caxis\":{\"gridcolor\":\"white\",\"linecolor\":\"white\",\"ticks\":\"\"}},\"title\":{\"x\":0.05},\"xaxis\":{\"automargin\":true,\"gridcolor\":\"white\",\"linecolor\":\"white\",\"ticks\":\"\",\"title\":{\"standoff\":15},\"zerolinecolor\":\"white\",\"zerolinewidth\":2},\"yaxis\":{\"automargin\":true,\"gridcolor\":\"white\",\"linecolor\":\"white\",\"ticks\":\"\",\"title\":{\"standoff\":15},\"zerolinecolor\":\"white\",\"zerolinewidth\":2}}},\"title\":{\"text\":\"Counts by Community\"},\"xaxis\":{\"anchor\":\"y\",\"domain\":[0.0,1.0],\"title\":{\"text\":\"count\"}},\"yaxis\":{\"anchor\":\"x\",\"domain\":[0.0,1.0],\"title\":{\"text\":\"community\"}}},                        {\"responsive\": true}                    ).then(function(){\n",
       "                            \n",
       "var gd = document.getElementById('6472e022-e272-4a65-8d00-60457759c35d');\n",
       "var x = new MutationObserver(function (mutations, observer) {{\n",
       "        var display = window.getComputedStyle(gd).display;\n",
       "        if (!display || display === 'none') {{\n",
       "            console.log([gd, 'removed!']);\n",
       "            Plotly.purge(gd);\n",
       "            observer.disconnect();\n",
       "        }}\n",
       "}});\n",
       "\n",
       "// Listen for the removal of the full notebook cells\n",
       "var notebookContainer = gd.closest('#notebook-container');\n",
       "if (notebookContainer) {{\n",
       "    x.observe(notebookContainer, {childList: true});\n",
       "}}\n",
       "\n",
       "// Listen for the clearing of the current output cell\n",
       "var outputEl = gd.closest('.output');\n",
       "if (outputEl) {{\n",
       "    x.observe(outputEl, {childList: true});\n",
       "}}\n",
       "\n",
       "                        })                };                });            </script>        </div>"
      ]
     },
     "metadata": {},
     "output_type": "display_data"
    }
   ],
   "source": [
    "import plotly.express as px\n",
    "fig = px.bar(q11[q11.type=='OFFENSE INVOLVING CHILDREN'], x='count', y='community', orientation='h', title=\"Counts by Community\")\n",
    "fig.show()"
   ]
  },
  {
   "cell_type": "code",
   "execution_count": 87,
   "metadata": {
    "ExecuteTime": {
     "end_time": "2021-10-30T17:41:32.509641Z",
     "start_time": "2021-10-30T17:41:32.500247Z"
    }
   },
   "outputs": [],
   "source": [
    "q11_new = q11[q11.community <=77]"
   ]
  },
  {
   "cell_type": "code",
   "execution_count": 88,
   "metadata": {
    "ExecuteTime": {
     "end_time": "2021-10-30T17:41:33.111892Z",
     "start_time": "2021-10-30T17:41:33.083555Z"
    },
    "scrolled": true
   },
   "outputs": [],
   "source": [
    "q11_table = q11_new.pivot(index='type', columns='community', values='count')\n",
    "q11_table = q11_table.fillna(0)"
   ]
  },
  {
   "cell_type": "code",
   "execution_count": 89,
   "metadata": {
    "ExecuteTime": {
     "end_time": "2021-10-30T17:41:33.926875Z",
     "start_time": "2021-10-30T17:41:33.757425Z"
    }
   },
   "outputs": [
    {
     "data": {
      "application/vnd.plotly.v1+json": {
       "config": {
        "plotlyServerURL": "https://plot.ly"
       },
       "data": [
        {
         "coloraxis": "coloraxis",
         "hovertemplate": "community: %{x}<br>type: %{y}<br>color: %{z}<extra></extra>",
         "name": "0",
         "type": "heatmap",
         "x": [
          0,
          1,
          2,
          3,
          4,
          5,
          6,
          7,
          8,
          9,
          10,
          11,
          12,
          13,
          14,
          15,
          16,
          17,
          18,
          19,
          20,
          21,
          22,
          23,
          24,
          25,
          26,
          27,
          28,
          29,
          30,
          31,
          32,
          33,
          34,
          35,
          36,
          37,
          38,
          39,
          40,
          41,
          42,
          43,
          44,
          45,
          46,
          47,
          48,
          49,
          50,
          51,
          52,
          53,
          54,
          55,
          56,
          57,
          58,
          59,
          60,
          61,
          62,
          63,
          64,
          65,
          66,
          67,
          68,
          69,
          70,
          71,
          72,
          73,
          74,
          75,
          76,
          77
         ],
         "xaxis": "x",
         "y": [
          "ARSON",
          "ASSAULT",
          "BATTERY",
          "BURGLARY",
          "CONCEALED CARRY LICENSE VIOLATION",
          "CRIM SEXUAL ASSAULT",
          "CRIMINAL DAMAGE",
          "CRIMINAL SEXUAL ASSAULT",
          "CRIMINAL TRESPASS",
          "DECEPTIVE PRACTICE",
          "GAMBLING",
          "HOMICIDE",
          "HUMAN TRAFFICKING",
          "INTERFERENCE WITH PUBLIC OFFICER",
          "INTIMIDATION",
          "KIDNAPPING",
          "LIQUOR LAW VIOLATION",
          "MOTOR VEHICLE THEFT",
          "NARCOTICS",
          "NON - CRIMINAL",
          "NON-CRIMINAL",
          "NON-CRIMINAL (SUBJECT SPECIFIED)",
          "OBSCENITY",
          "OFFENSE INVOLVING CHILDREN",
          "OTHER NARCOTIC VIOLATION",
          "OTHER OFFENSE",
          "PROSTITUTION",
          "PUBLIC INDECENCY",
          "PUBLIC PEACE VIOLATION",
          "RITUALISM",
          "ROBBERY",
          "SEX OFFENSE",
          "STALKING",
          "THEFT",
          "WEAPONS VIOLATION"
         ],
         "yaxis": "y",
         "z": [
          [
           0,
           0,
           0,
           0,
           0,
           0,
           0,
           0,
           0,
           0,
           0,
           0,
           0,
           0,
           0,
           0,
           0,
           0,
           0,
           0,
           0,
           0,
           0,
           0,
           0,
           0,
           0,
           170,
           118,
           367,
           323,
           150,
           49,
           34,
           41,
           39,
           22,
           34,
           85,
           34,
           73,
           28,
           126,
           278,
           187,
           50,
           220,
           27,
           39,
           346,
           35,
           83,
           106,
           264,
           44,
           56,
           106,
           57,
           203,
           79,
           115,
           358,
           64,
           228,
           55,
           113,
           346,
           445,
           386,
           260,
           106,
           291,
           27,
           110,
           15,
           69,
           13,
           62
          ],
          [
           3,
           6612,
           6551,
           7625,
           5113,
           3836,
           6494,
           5255,
           11058,
           1557,
           2973,
           3830,
           2631,
           993,
           4081,
           6104,
           4471,
           3110,
           1362,
           8033,
           3022,
           3564,
           9096,
           12798,
           9450,
           26956,
           6971,
           7689,
           10707,
           12261,
           7488,
           4702,
           6799,
           2535,
           1255,
           4232,
           1250,
           1568,
           6485,
           2572,
           5229,
           2196,
           7655,
           15852,
           10080,
           2247,
           9708,
           783,
           2398,
           13083,
           2183,
           3724,
           2477,
           8513,
           2968,
           1151,
           2840,
           1071,
           3708,
           1638,
           2971,
           9619,
           1328,
           3568,
           1691,
           2345,
           11240,
           14415,
           13347,
           12477,
           3876,
           13654,
           1254,
           5158,
           975,
           3537,
           1504,
           3605
          ],
          [
           13,
           19933,
           17080,
           19530,
           12646,
           8297,
           19625,
           13354,
           34663,
           3618,
           6470,
           8434,
           5823,
           2563,
           12275,
           15972,
           13688,
           8064,
           3678,
           21822,
           8935,
           9807,
           24307,
           39820,
           25571,
           87196,
           24552,
           24934,
           27514,
           42159,
           22468,
           11187,
           14173,
           7079,
           3779,
           12730,
           3202,
           4074,
           19361,
           6552,
           17009,
           4993,
           22352,
           47485,
           27653,
           5679,
           26021,
           1956,
           5975,
           35622,
           4960,
           8056,
           5663,
           23581,
           8313,
           2618,
           7040,
           2905,
           11585,
           4058,
           6846,
           28482,
           3317,
           10265,
           4258,
           6189,
           32375,
           45283,
           42517,
           36768,
           8997,
           39572,
           2610,
           13856,
           2033,
           9106,
           3834,
           10482
          ],
          [
           0,
           5411,
           6476,
           4045,
           3537,
           3941,
           10101,
           8037,
           5728,
           485,
           2006,
           1968,
           1531,
           2017,
           3908,
           5759,
           5938,
           3502,
           1374,
           8963,
           2860,
           4871,
           11010,
           8709,
           14863,
           16602,
           3626,
           3868,
           6372,
           7390,
           4948,
           3116,
           2352,
           1360,
           1179,
           1652,
           749,
           771,
           4842,
           2153,
           3870,
           3144,
           6706,
           16759,
           8847,
           2232,
           8162,
           833,
           2436,
           10908,
           1234,
           2573,
           2320,
           7772,
           1343,
           1050,
           3583,
           1941,
           4684,
           1911,
           3444,
           7292,
           2448,
           4432,
           2139,
           3735,
           12100,
           11831,
           10423,
           9569,
           5128,
           12579,
           2130,
           4817,
           664,
           3371,
           448,
           3784
          ],
          [
           0,
           0,
           4,
           5,
           2,
           0,
           9,
           6,
           18,
           0,
           0,
           1,
           1,
           0,
           3,
           5,
           2,
           0,
           1,
           18,
           1,
           1,
           4,
           9,
           4,
           24,
           17,
           15,
           18,
           45,
           17,
           7,
           9,
           4,
           1,
           6,
           2,
           1,
           3,
           0,
           1,
           0,
           8,
           14,
           22,
           3,
           10,
           2,
           4,
           19,
           4,
           7,
           2,
           15,
           2,
           2,
           111,
           1,
           1,
           6,
           2,
           6,
           0,
           6,
           1,
           2,
           7,
           43,
           38,
           17,
           0,
           26,
           1,
           8,
           2,
           5,
           159,
           1
          ],
          [
           1,
           462,
           324,
           486,
           216,
           145,
           595,
           314,
           801,
           35,
           122,
           78,
           64,
           73,
           249,
           276,
           301,
           113,
           61,
           497,
           179,
           245,
           519,
           741,
           582,
           1713,
           429,
           412,
           633,
           743,
           473,
           219,
           330,
           118,
           44,
           253,
           63,
           85,
           374,
           152,
           303,
           193,
           483,
           1010,
           577,
           157,
           526,
           45,
           158,
           788,
           103,
           162,
           107,
           519,
           142,
           49,
           158,
           82,
           265,
           69,
           142,
           554,
           80,
           264,
           74,
           155,
           676,
           881,
           836,
           766,
           216,
           793,
           60,
           331,
           45,
           185,
           52,
           259
          ],
          [
           12,
           12584,
           13234,
           9567,
           7464,
           5861,
           14165,
           12975,
           16072,
           1937,
           5745,
           4983,
           3104,
           3121,
           8933,
           13083,
           12209,
           7796,
           2849,
           16783,
           5356,
           8338,
           17706,
           19463,
           25693,
           38856,
           10182,
           10619,
           18792,
           18592,
           13227,
           9009,
           7697,
           3914,
           2994,
           5391,
           1872,
           2017,
           9904,
           4273,
           7869,
           4346,
           11936,
           26151,
           15422,
           3898,
           15223,
           1436,
           4801,
           21881,
           3196,
           6080,
           6385,
           14816,
           4110,
           2368,
           8793,
           3926,
           9258,
           4481,
           7621,
           15144,
           4695,
           8863,
           5093,
           7683,
           20448,
           22409,
           19256,
           18657,
           9464,
           21616,
           3523,
           9911,
           2249,
           6734,
           3146,
           7335
          ],
          [
           0,
           92,
           46,
           75,
           49,
           19,
           117,
           46,
           253,
           5,
           9,
           16,
           8,
           13,
           57,
           37,
           44,
           18,
           12,
           64,
           25,
           31,
           71,
           99,
           98,
           255,
           85,
           68,
           120,
           117,
           85,
           47,
           103,
           37,
           9,
           42,
           13,
           10,
           52,
           21,
           31,
           36,
           61,
           152,
           67,
           17,
           65,
           5,
           29,
           92,
           12,
           15,
           13,
           48,
           13,
           7,
           22,
           20,
           38,
           16,
           23,
           71,
           7,
           45,
           13,
           28,
           84,
           97,
           87,
           95,
           33,
           96,
           7,
           48,
           3,
           17,
           13,
           57
          ],
          [
           3,
           4203,
           2219,
           4163,
           1544,
           2002,
           4316,
           3405,
           13621,
           407,
           932,
           1041,
           670,
           441,
           1493,
           2024,
           1779,
           1196,
           463,
           2529,
           1030,
           1195,
           3123,
           3347,
           4271,
           7971,
           1999,
           2385,
           9867,
           3826,
           1639,
           1501,
           7460,
           7291,
           1080,
           5814,
           567,
           1066,
           2894,
           968,
           2555,
           1035,
           4696,
           5400,
           3758,
           575,
           2868,
           168,
           700,
           4335,
           744,
           1235,
           544,
           2035,
           977,
           310,
           1289,
           276,
           924,
           477,
           1065,
           2676,
           500,
           968,
           449,
           708,
           3481,
           3835,
           3821,
           5607,
           1108,
           5119,
           686,
           1859,
           396,
           1280,
           3363,
           2023
          ],
          [
           8,
           4878,
           4797,
           6730,
           3168,
           3099,
           11725,
           7729,
           24314,
           710,
           2494,
           2085,
           1244,
           1364,
           2476,
           4417,
           3345,
           2582,
           942,
           4938,
           1356,
           2919,
           5953,
           5667,
           8567,
           12132,
           4350,
           3369,
           11083,
           4328,
           2862,
           2513,
           19670,
           3488,
           1860,
           2953,
           621,
           1223,
           3043,
           1892,
           1623,
           4488,
           3459,
           7526,
           6885,
           1571,
           3545,
           308,
           1732,
           5724,
           1073,
           1854,
           1082,
           3054,
           520,
           653,
           2909,
           926,
           2135,
           1050,
           1960,
           3395,
           1225,
           1804,
           1545,
           2228,
           5038,
           4282,
           3889,
           5397,
           3189,
           6266,
           2125,
           3430,
           1251,
           2867,
           1993,
           4506
          ],
          [
           0,
           157,
           90,
           117,
           77,
           43,
           42,
           26,
           111,
           5,
           21,
           32,
           21,
           28,
           63,
           45,
           46,
           41,
           24,
           61,
           13,
           29,
           51,
           926,
           114,
           2412,
           452,
           495,
           219,
           1027,
           41,
           8,
           20,
           33,
           88,
           119,
           27,
           49,
           228,
           65,
           263,
           31,
           428,
           502,
           195,
           29,
           201,
           53,
           38,
           357,
           27,
           62,
           7,
           177,
           44,
           11,
           35,
           8,
           18,
           11,
           20,
           385,
           8,
           37,
           17,
           27,
           476,
           808,
           613,
           335,
           55,
           486,
           4,
           149,
           3,
           59,
           1,
           52
          ],
          [
           0,
           105,
           59,
           93,
           17,
           21,
           40,
           20,
           113,
           2,
           9,
           15,
           4,
           13,
           73,
           41,
           54,
           25,
           11,
           136,
           48,
           74,
           144,
           511,
           178,
           985,
           370,
           308,
           227,
           496,
           312,
           129,
           27,
           40,
           27,
           87,
           26,
           44,
           180,
           36,
           176,
           26,
           197,
           469,
           316,
           66,
           287,
           29,
           53,
           392,
           41,
           90,
           49,
           293,
           87,
           16,
           60,
           27,
           147,
           32,
           42,
           354,
           30,
           151,
           19,
           36,
           332,
           472,
           495,
           426,
           87,
           392,
           13,
           174,
           3,
           89,
           5,
           52
          ],
          [
           0,
           1,
           0,
           0,
           0,
           0,
           1,
           1,
           2,
           0,
           1,
           1,
           1,
           1,
           1,
           2,
           0,
           0,
           1,
           0,
           0,
           0,
           1,
           2,
           1,
           6,
           3,
           0,
           5,
           2,
           0,
           0,
           3,
           0,
           0,
           1,
           0,
           1,
           2,
           0,
           3,
           2,
           1,
           1,
           1,
           0,
           2,
           0,
           0,
           3,
           0,
           2,
           1,
           0,
           1,
           0,
           0,
           0,
           0,
           1,
           1,
           0,
           0,
           0,
           0,
           0,
           0,
           5,
           1,
           4,
           0,
           6,
           0,
           1,
           0,
           0,
           0,
           0
          ],
          [
           0,
           298,
           146,
           186,
           60,
           60,
           171,
           60,
           494,
           11,
           28,
           58,
           17,
           20,
           118,
           142,
           96,
           56,
           20,
           370,
           129,
           81,
           201,
           842,
           239,
           1664,
           641,
           486,
           288,
           637,
           244,
           108,
           195,
           98,
           46,
           122,
           18,
           112,
           205,
           29,
           175,
           33,
           380,
           593,
           370,
           75,
           416,
           24,
           72,
           649,
           107,
           126,
           66,
           387,
           95,
           21,
           75,
           19,
           142,
           45,
           73,
           502,
           33,
           133,
           30,
           41,
           486,
           834,
           620,
           562,
           69,
           711,
           27,
           206,
           14,
           130,
           42,
           75
          ],
          [
           0,
           55,
           64,
           60,
           48,
           46,
           78,
           41,
           134,
           30,
           28,
           32,
           23,
           17,
           53,
           68,
           51,
           41,
           13,
           121,
           23,
           27,
           89,
           82,
           103,
           170,
           39,
           69,
           134,
           73,
           151,
           52,
           123,
           27,
           19,
           49,
           10,
           34,
           42,
           18,
           29,
           14,
           67,
           110,
           65,
           24,
           91,
           4,
           22,
           101,
           58,
           34,
           28,
           73,
           12,
           17,
           30,
           13,
           51,
           23,
           49,
           80,
           6,
           43,
           20,
           27,
           69,
           75,
           86,
           79,
           38,
           106,
           16,
           32,
           18,
           42,
           14,
           35
          ],
          [
           0,
           73,
           98,
           56,
           61,
           41,
           56,
           56,
           82,
           32,
           63,
           46,
           35,
           20,
           53,
           108,
           85,
           74,
           26,
           163,
           53,
           58,
           138,
           156,
           88,
           326,
           82,
           77,
           66,
           104,
           100,
           40,
           38,
           26,
           6,
           48,
           10,
           15,
           70,
           27,
           58,
           28,
           112,
           189,
           136,
           40,
           141,
           7,
           45,
           199,
           49,
           53,
           74,
           140,
           27,
           18,
           41,
           40,
           88,
           18,
           47,
           102,
           35,
           58,
           26,
           58,
           161,
           167,
           143,
           156,
           81,
           183,
           73,
           113,
           86,
           102,
           10,
           33
          ],
          [
           0,
           283,
           227,
           242,
           221,
           122,
           472,
           397,
           639,
           33,
           66,
           95,
           51,
           51,
           278,
           311,
           244,
           160,
           29,
           339,
           126,
           179,
           443,
           291,
           666,
           586,
           142,
           133,
           269,
           227,
           759,
           368,
           261,
           65,
           75,
           32,
           2,
           12,
           70,
           11,
           65,
           27,
           86,
           131,
           101,
           13,
           190,
           8,
           60,
           98,
           11,
           64,
           71,
           91,
           15,
           27,
           93,
           51,
           194,
           81,
           108,
           310,
           47,
           154,
           53,
           78,
           232,
           172,
           144,
           162,
           60,
           213,
           69,
           38,
           79,
           57,
           20,
           184
          ],
          [
           2,
           3892,
           4464,
           5562,
           5704,
           4117,
           8244,
           4443,
           7400,
           1146,
           3190,
           2947,
           3644,
           1149,
           4679,
           5069,
           6274,
           2963,
           1959,
           9490,
           2989,
           4360,
           10076,
           8864,
           9832,
           17542,
           4323,
           4782,
           8365,
           6622,
           5795,
           3187,
           2149,
           1524,
           1316,
           2688,
           722,
           1014,
           4300,
           1791,
           3155,
           2240,
           3305,
           7770,
           6340,
           1663,
           4116,
           378,
           2114,
           6482,
           1055,
           1610,
           1088,
           4121,
           835,
           480,
           2295,
           1524,
           4359,
           1547,
           2036,
           5727,
           1412,
           3918,
           1054,
           2546,
           8261,
           7213,
           6958,
           7513,
           3247,
           7212,
           919,
           3566,
           258,
           1859,
           1417,
           2231
          ],
          [
           2,
           9826,
           4479,
           10897,
           2754,
           1829,
           4237,
           1878,
           11487,
           594,
           1064,
           1483,
           1333,
           803,
           3318,
           5498,
           3790,
           2103,
           716,
           7730,
           3416,
           2668,
           7371,
           48699,
           9071,
           92986,
           35643,
           29240,
           12568,
           44244,
           9067,
           3987,
           3576,
           3333,
           1489,
           12263,
           1036,
           3462,
           9612,
           1789,
           7059,
           979,
           12515,
           18311,
           11284,
           1584,
           11850,
           974,
           2066,
           19033,
           1343,
           2734,
           2069,
           11458,
           2009,
           793,
           3235,
           811,
           4454,
           1722,
           1803,
           17053,
           1167,
           5281,
           1035,
           1693,
           17796,
           25079,
           20287,
           15486,
           2228,
           19639,
           582,
           6797,
           462,
           3878,
           2459,
           3009
          ],
          [
           0,
           0,
           0,
           0,
           0,
           0,
           0,
           0,
           1,
           0,
           0,
           3,
           0,
           0,
           0,
           1,
           0,
           0,
           0,
           0,
           0,
           0,
           1,
           1,
           1,
           1,
           1,
           1,
           1,
           2,
           1,
           1,
           0,
           0,
           0,
           1,
           0,
           1,
           0,
           0,
           0,
           0,
           0,
           1,
           0,
           0,
           0,
           0,
           0,
           1,
           2,
           1,
           0,
           0,
           0,
           0,
           1,
           0,
           1,
           0,
           2,
           0,
           0,
           1,
           1,
           0,
           5,
           0,
           0,
           0,
           3,
           0,
           0,
           0,
           0,
           0,
           1,
           0
          ],
          [
           0,
           2,
           1,
           5,
           3,
           3,
           13,
           1,
           12,
           0,
           4,
           2,
           2,
           2,
           2,
           1,
           1,
           1,
           0,
           9,
           2,
           0,
           3,
           1,
           4,
           5,
           0,
           0,
           7,
           4,
           4,
           1,
           10,
           3,
           1,
           2,
           1,
           1,
           0,
           1,
           0,
           0,
           2,
           1,
           2,
           0,
           0,
           0,
           0,
           0,
           2,
           2,
           0,
           0,
           0,
           1,
           5,
           1,
           0,
           1,
           2,
           3,
           0,
           0,
           0,
           1,
           7,
           2,
           0,
           2,
           0,
           2,
           0,
           1,
           0,
           2,
           20,
           2
          ],
          [
           0,
           0,
           1,
           0,
           0,
           0,
           0,
           0,
           0,
           0,
           0,
           0,
           0,
           0,
           0,
           0,
           0,
           0,
           0,
           0,
           0,
           0,
           0,
           2,
           0,
           0,
           0,
           1,
           0,
           0,
           0,
           0,
           0,
           0,
           0,
           0,
           0,
           1,
           0,
           0,
           0,
           0,
           0,
           0,
           0,
           0,
           0,
           0,
           0,
           0,
           1,
           0,
           0,
           0,
           0,
           0,
           0,
           0,
           0,
           0,
           1,
           1,
           0,
           0,
           0,
           1,
           0,
           0,
           0,
           0,
           0,
           0,
           0,
           0,
           0,
           0,
           0,
           0
          ],
          [
           0,
           13,
           21,
           11,
           7,
           12,
           14,
           9,
           27,
           4,
           8,
           14,
           8,
           4,
           8,
           14,
           15,
           11,
           4,
           11,
           9,
           10,
           14,
           12,
           24,
           36,
           4,
           11,
           18,
           18,
           10,
           9,
           12,
           8,
           2,
           4,
           3,
           2,
           13,
           5,
           8,
           9,
           9,
           20,
           11,
           3,
           6,
           0,
           5,
           13,
           3,
           2,
           2,
           2,
           4,
           3,
           7,
           5,
           15,
           3,
           8,
           14,
           7,
           10,
           6,
           7,
           17,
           11,
           11,
           9,
           15,
           10,
           3,
           5,
           5,
           9,
           2,
           6
          ],
          [
           0,
           729,
           747,
           665,
           396,
           319,
           376,
           259,
           608,
           107,
           297,
           320,
           136,
           158,
           557,
           733,
           587,
           339,
           179,
           1348,
           486,
           472,
           1110,
           1578,
           771,
           2818,
           638,
           684,
           977,
           1254,
           1224,
           517,
           173,
           213,
           99,
           344,
           172,
           193,
           568,
           311,
           529,
           248,
           1005,
           1962,
           1073,
           283,
           1371,
           89,
           341,
           1466,
           348,
           528,
           470,
           1086,
           320,
           185,
           383,
           191,
           712,
           217,
           284,
           1201,
           206,
           658,
           321,
           489,
           1478,
           1421,
           1281,
           1427,
           568,
           1841,
           263,
           751,
           254,
           631,
           93,
           349
          ],
          [
           0,
           5,
           1,
           5,
           4,
           0,
           15,
           3,
           10,
           0,
           0,
           4,
           2,
           7,
           7,
           6,
           2,
           2,
           0,
           1,
           1,
           0,
           5,
           3,
           9,
           4,
           1,
           0,
           3,
           0,
           1,
           1,
           14,
           2,
           0,
           0,
           0,
           1,
           1,
           0,
           0,
           0,
           0,
           0,
           1,
           0,
           3,
           0,
           0,
           1,
           0,
           0,
           0,
           0,
           1,
           0,
           0,
           0,
           0,
           0,
           0,
           1,
           0,
           0,
           0,
           1,
           0,
           0,
           0,
           0,
           0,
           1,
           0,
           0,
           0,
           0,
           1,
           1
          ],
          [
           11,
           7264,
           6628,
           6133,
           3572,
           2614,
           6198,
           3740,
           8675,
           930,
           2969,
           2769,
           1329,
           1441,
           4336,
           7359,
           5335,
           4166,
           1531,
           9409,
           3359,
           3978,
           8029,
           11345,
           8410,
           26082,
           5449,
           6272,
           10036,
           10779,
           8833,
           3778,
           6458,
           2952,
           1059,
           4071,
           1300,
           917,
           5779,
           3000,
           4238,
           2683,
           7620,
           16246,
           9316,
           2397,
           8666,
           708,
           2836,
           11799,
           2071,
           3319,
           2574,
           7827,
           2014,
           1284,
           3497,
           1246,
           4216,
           1581,
           3064,
           7651,
           1597,
           3840,
           2479,
           3005,
           10722,
           11180,
           10093,
           11070,
           4797,
           13041,
           2114,
           6167,
           1522,
           4279,
           6569,
           4807
          ],
          [
           0,
           931,
           140,
           796,
           199,
           127,
           628,
           345,
           3914,
           7,
           37,
           10,
           8,
           48,
           576,
           366,
           87,
           14,
           17,
           1339,
           842,
           280,
           1559,
           3099,
           2099,
           7882,
           3674,
           3191,
           1861,
           1461,
           1251,
           587,
           510,
           56,
           44,
           76,
           0,
           35,
           2061,
           10,
           1280,
           4,
           634,
           1045,
           401,
           15,
           512,
           2,
           2,
           1409,
           5,
           7,
           3,
           1050,
           4,
           2,
           2868,
           550,
           2213,
           32,
           214,
           2205,
           7,
           172,
           11,
           20,
           561,
           2166,
           2032,
           481,
           41,
           1001,
           2,
           114,
           3,
           14,
           30,
           150
          ],
          [
           0,
           4,
           2,
           1,
           4,
           1,
           8,
           9,
           18,
           2,
           2,
           1,
           0,
           0,
           2,
           2,
           1,
           1,
           0,
           4,
           0,
           1,
           4,
           1,
           5,
           6,
           2,
           2,
           5,
           2,
           4,
           2,
           16,
           1,
           2,
           1,
           1,
           1,
           3,
           0,
           1,
           2,
           1,
           3,
           7,
           1,
           0,
           0,
           0,
           1,
           2,
           2,
           0,
           1,
           1,
           0,
           0,
           2,
           2,
           0,
           1,
           4,
           1,
           1,
           2,
           3,
           0,
           2,
           2,
           4,
           0,
           3,
           0,
           1,
           0,
           2,
           0,
           2
          ],
          [
           0,
           687,
           616,
           1127,
           899,
           436,
           1258,
           651,
           1700,
           418,
           282,
           407,
           530,
           109,
           566,
           621,
           570,
           481,
           132,
           1047,
           533,
           377,
           1328,
           1312,
           972,
           2738,
           668,
           645,
           1076,
           1286,
           2501,
           926,
           1375,
           204,
           106,
           230,
           53,
           155,
           384,
           111,
           333,
           122,
           812,
           1077,
           639,
           142,
           827,
           68,
           145,
           890,
           132,
           258,
           269,
           592,
           121,
           102,
           356,
           108,
           710,
           161,
           300,
           1203,
           238,
           882,
           191,
           303,
           1571,
           1220,
           1124,
           904,
           358,
           1062,
           120,
           348,
           74,
           253,
           398,
           453
          ],
          [
           0,
           0,
           0,
           0,
           0,
           1,
           0,
           0,
           2,
           0,
           0,
           0,
           0,
           0,
           0,
           0,
           0,
           0,
           0,
           0,
           0,
           0,
           0,
           0,
           0,
           2,
           1,
           0,
           0,
           0,
           0,
           0,
           0,
           0,
           0,
           0,
           0,
           0,
           0,
           0,
           0,
           0,
           0,
           0,
           1,
           0,
           2,
           0,
           0,
           0,
           0,
           1,
           0,
           1,
           0,
           0,
           0,
           0,
           0,
           0,
           0,
           0,
           0,
           0,
           0,
           0,
           0,
           1,
           1,
           1,
           0,
           1,
           0,
           0,
           0,
           0,
           0,
           0
          ],
          [
           1,
           4394,
           2905,
           3091,
           1253,
           1037,
           5137,
           3140,
           6353,
           113,
           309,
           548,
           183,
           493,
           2354,
           2081,
           2263,
           748,
           403,
           4241,
           1383,
           2587,
           5265,
           8079,
           7437,
           18467,
           5981,
           5349,
           7017,
           8174,
           4664,
           1830,
           4482,
           1249,
           1558,
           2782,
           491,
           1171,
           4091,
           1535,
           3418,
           2379,
           4687,
           9935,
           7819,
           1838,
           4823,
           351,
           1865,
           7676,
           748,
           1456,
           570,
           3947,
           1041,
           235,
           1411,
           898,
           2327,
           693,
           914,
           4735,
           946,
           2452,
           407,
           1632,
           8006,
           7773,
           7858,
           8567,
           2616,
           8729,
           748,
           3229,
           193,
           1583,
           167,
           2270
          ],
          [
           0,
           575,
           483,
           775,
           384,
           234,
           653,
           488,
           846,
           134,
           228,
           213,
           168,
           133,
           446,
           447,
           462,
           274,
           113,
           710,
           249,
           318,
           712,
           598,
           752,
           1234,
           253,
           284,
           640,
           571,
           647,
           352,
           612,
           148,
           87,
           200,
           57,
           54,
           274,
           119,
           202,
           189,
           377,
           657,
           377,
           99,
           386,
           25,
           90,
           535,
           79,
           117,
           147,
           353,
           132,
           55,
           204,
           124,
           440,
           134,
           201,
           588,
           137,
           344,
           121,
           224,
           609,
           569,
           567,
           518,
           228,
           526,
           96,
           255,
           70,
           143,
           133,
           325
          ],
          [
           0,
           69,
           58,
           44,
           40,
           47,
           87,
           55,
           147,
           11,
           26,
           38,
           21,
           15,
           35,
           45,
           62,
           26,
           10,
           52,
           27,
           32,
           85,
           88,
           110,
           127,
           37,
           75,
           120,
           95,
           64,
           45,
           109,
           43,
           16,
           48,
           14,
           13,
           46,
           26,
           32,
           40,
           59,
           127,
           134,
           27,
           80,
           6,
           32,
           94,
           27,
           34,
           24,
           61,
           23,
           24,
           35,
           9,
           38,
           17,
           27,
           52,
           22,
           31,
           24,
           27,
           57,
           79,
           74,
           100,
           40,
           123,
           19,
           47,
           21,
           34,
           24,
           38
          ],
          [
           18,
           24386,
           23824,
           25231,
           15515,
           14044,
           51886,
           48658,
           100099,
           2710,
           8731,
           8169,
           5833,
           6153,
           13014,
           20405,
           18124,
           10234,
           5095,
           25029,
           7056,
           15175,
           43106,
           27498,
           64838,
           56793,
           13823,
           15214,
           65164,
           23930,
           18250,
           14215,
           83854,
           14697,
           6563,
           13595,
           2624,
           4091,
           15190,
           8627,
           9629,
           13656,
           14398,
           34636,
           30817,
           6408,
           17815,
           1398,
           7313,
           25375,
           4607,
           8238,
           4447,
           14029,
           2979,
           2861,
           11228,
           5408,
           9985,
           6994,
           9130,
           21866,
           5692,
           10204,
           5134,
           15141,
           24478,
           26053,
           22500,
           23578,
           11475,
           28422,
           6395,
           13630,
           3282,
           10613,
           12648,
           19113
          ],
          [
           0,
           927,
           722,
           753,
           720,
           413,
           604,
           520,
           1585,
           305,
           279,
           479,
           361,
           91,
           659,
           749,
           540,
           370,
           196,
           1519,
           675,
           443,
           1238,
           3353,
           1259,
           6880,
           2422,
           1971,
           1118,
           3771,
           2091,
           904,
           434,
           259,
           208,
           538,
           176,
           392,
           1119,
           277,
           1059,
           179,
           1668,
           2831,
           2116,
           575,
           2200,
           200,
           580,
           3417,
           408,
           767,
           537,
           2586,
           662,
           136,
           504,
           184,
           956,
           295,
           326,
           2769,
           226,
           1038,
           159,
           317,
           2567,
           4602,
           3882,
           3083,
           570,
           3610,
           111,
           1241,
           44,
           647,
           253,
           260
          ]
         ]
        }
       ],
       "layout": {
        "coloraxis": {
         "colorscale": [
          [
           0,
           "rgb(255,245,235)"
          ],
          [
           0.125,
           "rgb(254,230,206)"
          ],
          [
           0.25,
           "rgb(253,208,162)"
          ],
          [
           0.375,
           "rgb(253,174,107)"
          ],
          [
           0.5,
           "rgb(253,141,60)"
          ],
          [
           0.625,
           "rgb(241,105,19)"
          ],
          [
           0.75,
           "rgb(217,72,1)"
          ],
          [
           0.875,
           "rgb(166,54,3)"
          ],
          [
           1,
           "rgb(127,39,4)"
          ]
         ]
        },
        "height": 800,
        "template": {
         "data": {
          "bar": [
           {
            "error_x": {
             "color": "#2a3f5f"
            },
            "error_y": {
             "color": "#2a3f5f"
            },
            "marker": {
             "line": {
              "color": "#E5ECF6",
              "width": 0.5
             },
             "pattern": {
              "fillmode": "overlay",
              "size": 10,
              "solidity": 0.2
             }
            },
            "type": "bar"
           }
          ],
          "barpolar": [
           {
            "marker": {
             "line": {
              "color": "#E5ECF6",
              "width": 0.5
             },
             "pattern": {
              "fillmode": "overlay",
              "size": 10,
              "solidity": 0.2
             }
            },
            "type": "barpolar"
           }
          ],
          "carpet": [
           {
            "aaxis": {
             "endlinecolor": "#2a3f5f",
             "gridcolor": "white",
             "linecolor": "white",
             "minorgridcolor": "white",
             "startlinecolor": "#2a3f5f"
            },
            "baxis": {
             "endlinecolor": "#2a3f5f",
             "gridcolor": "white",
             "linecolor": "white",
             "minorgridcolor": "white",
             "startlinecolor": "#2a3f5f"
            },
            "type": "carpet"
           }
          ],
          "choropleth": [
           {
            "colorbar": {
             "outlinewidth": 0,
             "ticks": ""
            },
            "type": "choropleth"
           }
          ],
          "contour": [
           {
            "colorbar": {
             "outlinewidth": 0,
             "ticks": ""
            },
            "colorscale": [
             [
              0,
              "#0d0887"
             ],
             [
              0.1111111111111111,
              "#46039f"
             ],
             [
              0.2222222222222222,
              "#7201a8"
             ],
             [
              0.3333333333333333,
              "#9c179e"
             ],
             [
              0.4444444444444444,
              "#bd3786"
             ],
             [
              0.5555555555555556,
              "#d8576b"
             ],
             [
              0.6666666666666666,
              "#ed7953"
             ],
             [
              0.7777777777777778,
              "#fb9f3a"
             ],
             [
              0.8888888888888888,
              "#fdca26"
             ],
             [
              1,
              "#f0f921"
             ]
            ],
            "type": "contour"
           }
          ],
          "contourcarpet": [
           {
            "colorbar": {
             "outlinewidth": 0,
             "ticks": ""
            },
            "type": "contourcarpet"
           }
          ],
          "heatmap": [
           {
            "colorbar": {
             "outlinewidth": 0,
             "ticks": ""
            },
            "colorscale": [
             [
              0,
              "#0d0887"
             ],
             [
              0.1111111111111111,
              "#46039f"
             ],
             [
              0.2222222222222222,
              "#7201a8"
             ],
             [
              0.3333333333333333,
              "#9c179e"
             ],
             [
              0.4444444444444444,
              "#bd3786"
             ],
             [
              0.5555555555555556,
              "#d8576b"
             ],
             [
              0.6666666666666666,
              "#ed7953"
             ],
             [
              0.7777777777777778,
              "#fb9f3a"
             ],
             [
              0.8888888888888888,
              "#fdca26"
             ],
             [
              1,
              "#f0f921"
             ]
            ],
            "type": "heatmap"
           }
          ],
          "heatmapgl": [
           {
            "colorbar": {
             "outlinewidth": 0,
             "ticks": ""
            },
            "colorscale": [
             [
              0,
              "#0d0887"
             ],
             [
              0.1111111111111111,
              "#46039f"
             ],
             [
              0.2222222222222222,
              "#7201a8"
             ],
             [
              0.3333333333333333,
              "#9c179e"
             ],
             [
              0.4444444444444444,
              "#bd3786"
             ],
             [
              0.5555555555555556,
              "#d8576b"
             ],
             [
              0.6666666666666666,
              "#ed7953"
             ],
             [
              0.7777777777777778,
              "#fb9f3a"
             ],
             [
              0.8888888888888888,
              "#fdca26"
             ],
             [
              1,
              "#f0f921"
             ]
            ],
            "type": "heatmapgl"
           }
          ],
          "histogram": [
           {
            "marker": {
             "pattern": {
              "fillmode": "overlay",
              "size": 10,
              "solidity": 0.2
             }
            },
            "type": "histogram"
           }
          ],
          "histogram2d": [
           {
            "colorbar": {
             "outlinewidth": 0,
             "ticks": ""
            },
            "colorscale": [
             [
              0,
              "#0d0887"
             ],
             [
              0.1111111111111111,
              "#46039f"
             ],
             [
              0.2222222222222222,
              "#7201a8"
             ],
             [
              0.3333333333333333,
              "#9c179e"
             ],
             [
              0.4444444444444444,
              "#bd3786"
             ],
             [
              0.5555555555555556,
              "#d8576b"
             ],
             [
              0.6666666666666666,
              "#ed7953"
             ],
             [
              0.7777777777777778,
              "#fb9f3a"
             ],
             [
              0.8888888888888888,
              "#fdca26"
             ],
             [
              1,
              "#f0f921"
             ]
            ],
            "type": "histogram2d"
           }
          ],
          "histogram2dcontour": [
           {
            "colorbar": {
             "outlinewidth": 0,
             "ticks": ""
            },
            "colorscale": [
             [
              0,
              "#0d0887"
             ],
             [
              0.1111111111111111,
              "#46039f"
             ],
             [
              0.2222222222222222,
              "#7201a8"
             ],
             [
              0.3333333333333333,
              "#9c179e"
             ],
             [
              0.4444444444444444,
              "#bd3786"
             ],
             [
              0.5555555555555556,
              "#d8576b"
             ],
             [
              0.6666666666666666,
              "#ed7953"
             ],
             [
              0.7777777777777778,
              "#fb9f3a"
             ],
             [
              0.8888888888888888,
              "#fdca26"
             ],
             [
              1,
              "#f0f921"
             ]
            ],
            "type": "histogram2dcontour"
           }
          ],
          "mesh3d": [
           {
            "colorbar": {
             "outlinewidth": 0,
             "ticks": ""
            },
            "type": "mesh3d"
           }
          ],
          "parcoords": [
           {
            "line": {
             "colorbar": {
              "outlinewidth": 0,
              "ticks": ""
             }
            },
            "type": "parcoords"
           }
          ],
          "pie": [
           {
            "automargin": true,
            "type": "pie"
           }
          ],
          "scatter": [
           {
            "marker": {
             "colorbar": {
              "outlinewidth": 0,
              "ticks": ""
             }
            },
            "type": "scatter"
           }
          ],
          "scatter3d": [
           {
            "line": {
             "colorbar": {
              "outlinewidth": 0,
              "ticks": ""
             }
            },
            "marker": {
             "colorbar": {
              "outlinewidth": 0,
              "ticks": ""
             }
            },
            "type": "scatter3d"
           }
          ],
          "scattercarpet": [
           {
            "marker": {
             "colorbar": {
              "outlinewidth": 0,
              "ticks": ""
             }
            },
            "type": "scattercarpet"
           }
          ],
          "scattergeo": [
           {
            "marker": {
             "colorbar": {
              "outlinewidth": 0,
              "ticks": ""
             }
            },
            "type": "scattergeo"
           }
          ],
          "scattergl": [
           {
            "marker": {
             "colorbar": {
              "outlinewidth": 0,
              "ticks": ""
             }
            },
            "type": "scattergl"
           }
          ],
          "scattermapbox": [
           {
            "marker": {
             "colorbar": {
              "outlinewidth": 0,
              "ticks": ""
             }
            },
            "type": "scattermapbox"
           }
          ],
          "scatterpolar": [
           {
            "marker": {
             "colorbar": {
              "outlinewidth": 0,
              "ticks": ""
             }
            },
            "type": "scatterpolar"
           }
          ],
          "scatterpolargl": [
           {
            "marker": {
             "colorbar": {
              "outlinewidth": 0,
              "ticks": ""
             }
            },
            "type": "scatterpolargl"
           }
          ],
          "scatterternary": [
           {
            "marker": {
             "colorbar": {
              "outlinewidth": 0,
              "ticks": ""
             }
            },
            "type": "scatterternary"
           }
          ],
          "surface": [
           {
            "colorbar": {
             "outlinewidth": 0,
             "ticks": ""
            },
            "colorscale": [
             [
              0,
              "#0d0887"
             ],
             [
              0.1111111111111111,
              "#46039f"
             ],
             [
              0.2222222222222222,
              "#7201a8"
             ],
             [
              0.3333333333333333,
              "#9c179e"
             ],
             [
              0.4444444444444444,
              "#bd3786"
             ],
             [
              0.5555555555555556,
              "#d8576b"
             ],
             [
              0.6666666666666666,
              "#ed7953"
             ],
             [
              0.7777777777777778,
              "#fb9f3a"
             ],
             [
              0.8888888888888888,
              "#fdca26"
             ],
             [
              1,
              "#f0f921"
             ]
            ],
            "type": "surface"
           }
          ],
          "table": [
           {
            "cells": {
             "fill": {
              "color": "#EBF0F8"
             },
             "line": {
              "color": "white"
             }
            },
            "header": {
             "fill": {
              "color": "#C8D4E3"
             },
             "line": {
              "color": "white"
             }
            },
            "type": "table"
           }
          ]
         },
         "layout": {
          "annotationdefaults": {
           "arrowcolor": "#2a3f5f",
           "arrowhead": 0,
           "arrowwidth": 1
          },
          "autotypenumbers": "strict",
          "coloraxis": {
           "colorbar": {
            "outlinewidth": 0,
            "ticks": ""
           }
          },
          "colorscale": {
           "diverging": [
            [
             0,
             "#8e0152"
            ],
            [
             0.1,
             "#c51b7d"
            ],
            [
             0.2,
             "#de77ae"
            ],
            [
             0.3,
             "#f1b6da"
            ],
            [
             0.4,
             "#fde0ef"
            ],
            [
             0.5,
             "#f7f7f7"
            ],
            [
             0.6,
             "#e6f5d0"
            ],
            [
             0.7,
             "#b8e186"
            ],
            [
             0.8,
             "#7fbc41"
            ],
            [
             0.9,
             "#4d9221"
            ],
            [
             1,
             "#276419"
            ]
           ],
           "sequential": [
            [
             0,
             "#0d0887"
            ],
            [
             0.1111111111111111,
             "#46039f"
            ],
            [
             0.2222222222222222,
             "#7201a8"
            ],
            [
             0.3333333333333333,
             "#9c179e"
            ],
            [
             0.4444444444444444,
             "#bd3786"
            ],
            [
             0.5555555555555556,
             "#d8576b"
            ],
            [
             0.6666666666666666,
             "#ed7953"
            ],
            [
             0.7777777777777778,
             "#fb9f3a"
            ],
            [
             0.8888888888888888,
             "#fdca26"
            ],
            [
             1,
             "#f0f921"
            ]
           ],
           "sequentialminus": [
            [
             0,
             "#0d0887"
            ],
            [
             0.1111111111111111,
             "#46039f"
            ],
            [
             0.2222222222222222,
             "#7201a8"
            ],
            [
             0.3333333333333333,
             "#9c179e"
            ],
            [
             0.4444444444444444,
             "#bd3786"
            ],
            [
             0.5555555555555556,
             "#d8576b"
            ],
            [
             0.6666666666666666,
             "#ed7953"
            ],
            [
             0.7777777777777778,
             "#fb9f3a"
            ],
            [
             0.8888888888888888,
             "#fdca26"
            ],
            [
             1,
             "#f0f921"
            ]
           ]
          },
          "colorway": [
           "#636efa",
           "#EF553B",
           "#00cc96",
           "#ab63fa",
           "#FFA15A",
           "#19d3f3",
           "#FF6692",
           "#B6E880",
           "#FF97FF",
           "#FECB52"
          ],
          "font": {
           "color": "#2a3f5f"
          },
          "geo": {
           "bgcolor": "white",
           "lakecolor": "white",
           "landcolor": "#E5ECF6",
           "showlakes": true,
           "showland": true,
           "subunitcolor": "white"
          },
          "hoverlabel": {
           "align": "left"
          },
          "hovermode": "closest",
          "mapbox": {
           "style": "light"
          },
          "paper_bgcolor": "white",
          "plot_bgcolor": "#E5ECF6",
          "polar": {
           "angularaxis": {
            "gridcolor": "white",
            "linecolor": "white",
            "ticks": ""
           },
           "bgcolor": "#E5ECF6",
           "radialaxis": {
            "gridcolor": "white",
            "linecolor": "white",
            "ticks": ""
           }
          },
          "scene": {
           "xaxis": {
            "backgroundcolor": "#E5ECF6",
            "gridcolor": "white",
            "gridwidth": 2,
            "linecolor": "white",
            "showbackground": true,
            "ticks": "",
            "zerolinecolor": "white"
           },
           "yaxis": {
            "backgroundcolor": "#E5ECF6",
            "gridcolor": "white",
            "gridwidth": 2,
            "linecolor": "white",
            "showbackground": true,
            "ticks": "",
            "zerolinecolor": "white"
           },
           "zaxis": {
            "backgroundcolor": "#E5ECF6",
            "gridcolor": "white",
            "gridwidth": 2,
            "linecolor": "white",
            "showbackground": true,
            "ticks": "",
            "zerolinecolor": "white"
           }
          },
          "shapedefaults": {
           "line": {
            "color": "#2a3f5f"
           }
          },
          "ternary": {
           "aaxis": {
            "gridcolor": "white",
            "linecolor": "white",
            "ticks": ""
           },
           "baxis": {
            "gridcolor": "white",
            "linecolor": "white",
            "ticks": ""
           },
           "bgcolor": "#E5ECF6",
           "caxis": {
            "gridcolor": "white",
            "linecolor": "white",
            "ticks": ""
           }
          },
          "title": {
           "x": 0.05
          },
          "xaxis": {
           "automargin": true,
           "gridcolor": "white",
           "linecolor": "white",
           "ticks": "",
           "title": {
            "standoff": 15
           },
           "zerolinecolor": "white",
           "zerolinewidth": 2
          },
          "yaxis": {
           "automargin": true,
           "gridcolor": "white",
           "linecolor": "white",
           "ticks": "",
           "title": {
            "standoff": 15
           },
           "zerolinecolor": "white",
           "zerolinewidth": 2
          }
         }
        },
        "title": {
         "text": "Crime Type & Counts by Community"
        },
        "width": 1000,
        "xaxis": {
         "anchor": "y",
         "constrain": "domain",
         "domain": [
          0,
          1
         ],
         "scaleanchor": "y",
         "title": {
          "text": "community"
         }
        },
        "yaxis": {
         "anchor": "x",
         "autorange": "reversed",
         "constrain": "domain",
         "domain": [
          0,
          1
         ],
         "title": {
          "text": "type"
         }
        }
       }
      },
      "text/html": [
       "<div>                            <div id=\"c821258f-e5cf-45ba-998e-a46178dfdb97\" class=\"plotly-graph-div\" style=\"height:800px; width:1000px;\"></div>            <script type=\"text/javascript\">                require([\"plotly\"], function(Plotly) {                    window.PLOTLYENV=window.PLOTLYENV || {};                                    if (document.getElementById(\"c821258f-e5cf-45ba-998e-a46178dfdb97\")) {                    Plotly.newPlot(                        \"c821258f-e5cf-45ba-998e-a46178dfdb97\",                        [{\"coloraxis\":\"coloraxis\",\"hovertemplate\":\"community: %{x}<br>type: %{y}<br>color: %{z}<extra></extra>\",\"name\":\"0\",\"type\":\"heatmap\",\"x\":[0.0,1.0,2.0,3.0,4.0,5.0,6.0,7.0,8.0,9.0,10.0,11.0,12.0,13.0,14.0,15.0,16.0,17.0,18.0,19.0,20.0,21.0,22.0,23.0,24.0,25.0,26.0,27.0,28.0,29.0,30.0,31.0,32.0,33.0,34.0,35.0,36.0,37.0,38.0,39.0,40.0,41.0,42.0,43.0,44.0,45.0,46.0,47.0,48.0,49.0,50.0,51.0,52.0,53.0,54.0,55.0,56.0,57.0,58.0,59.0,60.0,61.0,62.0,63.0,64.0,65.0,66.0,67.0,68.0,69.0,70.0,71.0,72.0,73.0,74.0,75.0,76.0,77.0],\"xaxis\":\"x\",\"y\":[\"ARSON\",\"ASSAULT\",\"BATTERY\",\"BURGLARY\",\"CONCEALED CARRY LICENSE VIOLATION\",\"CRIM SEXUAL ASSAULT\",\"CRIMINAL DAMAGE\",\"CRIMINAL SEXUAL ASSAULT\",\"CRIMINAL TRESPASS\",\"DECEPTIVE PRACTICE\",\"GAMBLING\",\"HOMICIDE\",\"HUMAN TRAFFICKING\",\"INTERFERENCE WITH PUBLIC OFFICER\",\"INTIMIDATION\",\"KIDNAPPING\",\"LIQUOR LAW VIOLATION\",\"MOTOR VEHICLE THEFT\",\"NARCOTICS\",\"NON - CRIMINAL\",\"NON-CRIMINAL\",\"NON-CRIMINAL (SUBJECT SPECIFIED)\",\"OBSCENITY\",\"OFFENSE INVOLVING CHILDREN\",\"OTHER NARCOTIC VIOLATION\",\"OTHER OFFENSE\",\"PROSTITUTION\",\"PUBLIC INDECENCY\",\"PUBLIC PEACE VIOLATION\",\"RITUALISM\",\"ROBBERY\",\"SEX OFFENSE\",\"STALKING\",\"THEFT\",\"WEAPONS VIOLATION\"],\"yaxis\":\"y\",\"z\":[[0.0,0.0,0.0,0.0,0.0,0.0,0.0,0.0,0.0,0.0,0.0,0.0,0.0,0.0,0.0,0.0,0.0,0.0,0.0,0.0,0.0,0.0,0.0,0.0,0.0,0.0,0.0,170.0,118.0,367.0,323.0,150.0,49.0,34.0,41.0,39.0,22.0,34.0,85.0,34.0,73.0,28.0,126.0,278.0,187.0,50.0,220.0,27.0,39.0,346.0,35.0,83.0,106.0,264.0,44.0,56.0,106.0,57.0,203.0,79.0,115.0,358.0,64.0,228.0,55.0,113.0,346.0,445.0,386.0,260.0,106.0,291.0,27.0,110.0,15.0,69.0,13.0,62.0],[3.0,6612.0,6551.0,7625.0,5113.0,3836.0,6494.0,5255.0,11058.0,1557.0,2973.0,3830.0,2631.0,993.0,4081.0,6104.0,4471.0,3110.0,1362.0,8033.0,3022.0,3564.0,9096.0,12798.0,9450.0,26956.0,6971.0,7689.0,10707.0,12261.0,7488.0,4702.0,6799.0,2535.0,1255.0,4232.0,1250.0,1568.0,6485.0,2572.0,5229.0,2196.0,7655.0,15852.0,10080.0,2247.0,9708.0,783.0,2398.0,13083.0,2183.0,3724.0,2477.0,8513.0,2968.0,1151.0,2840.0,1071.0,3708.0,1638.0,2971.0,9619.0,1328.0,3568.0,1691.0,2345.0,11240.0,14415.0,13347.0,12477.0,3876.0,13654.0,1254.0,5158.0,975.0,3537.0,1504.0,3605.0],[13.0,19933.0,17080.0,19530.0,12646.0,8297.0,19625.0,13354.0,34663.0,3618.0,6470.0,8434.0,5823.0,2563.0,12275.0,15972.0,13688.0,8064.0,3678.0,21822.0,8935.0,9807.0,24307.0,39820.0,25571.0,87196.0,24552.0,24934.0,27514.0,42159.0,22468.0,11187.0,14173.0,7079.0,3779.0,12730.0,3202.0,4074.0,19361.0,6552.0,17009.0,4993.0,22352.0,47485.0,27653.0,5679.0,26021.0,1956.0,5975.0,35622.0,4960.0,8056.0,5663.0,23581.0,8313.0,2618.0,7040.0,2905.0,11585.0,4058.0,6846.0,28482.0,3317.0,10265.0,4258.0,6189.0,32375.0,45283.0,42517.0,36768.0,8997.0,39572.0,2610.0,13856.0,2033.0,9106.0,3834.0,10482.0],[0.0,5411.0,6476.0,4045.0,3537.0,3941.0,10101.0,8037.0,5728.0,485.0,2006.0,1968.0,1531.0,2017.0,3908.0,5759.0,5938.0,3502.0,1374.0,8963.0,2860.0,4871.0,11010.0,8709.0,14863.0,16602.0,3626.0,3868.0,6372.0,7390.0,4948.0,3116.0,2352.0,1360.0,1179.0,1652.0,749.0,771.0,4842.0,2153.0,3870.0,3144.0,6706.0,16759.0,8847.0,2232.0,8162.0,833.0,2436.0,10908.0,1234.0,2573.0,2320.0,7772.0,1343.0,1050.0,3583.0,1941.0,4684.0,1911.0,3444.0,7292.0,2448.0,4432.0,2139.0,3735.0,12100.0,11831.0,10423.0,9569.0,5128.0,12579.0,2130.0,4817.0,664.0,3371.0,448.0,3784.0],[0.0,0.0,4.0,5.0,2.0,0.0,9.0,6.0,18.0,0.0,0.0,1.0,1.0,0.0,3.0,5.0,2.0,0.0,1.0,18.0,1.0,1.0,4.0,9.0,4.0,24.0,17.0,15.0,18.0,45.0,17.0,7.0,9.0,4.0,1.0,6.0,2.0,1.0,3.0,0.0,1.0,0.0,8.0,14.0,22.0,3.0,10.0,2.0,4.0,19.0,4.0,7.0,2.0,15.0,2.0,2.0,111.0,1.0,1.0,6.0,2.0,6.0,0.0,6.0,1.0,2.0,7.0,43.0,38.0,17.0,0.0,26.0,1.0,8.0,2.0,5.0,159.0,1.0],[1.0,462.0,324.0,486.0,216.0,145.0,595.0,314.0,801.0,35.0,122.0,78.0,64.0,73.0,249.0,276.0,301.0,113.0,61.0,497.0,179.0,245.0,519.0,741.0,582.0,1713.0,429.0,412.0,633.0,743.0,473.0,219.0,330.0,118.0,44.0,253.0,63.0,85.0,374.0,152.0,303.0,193.0,483.0,1010.0,577.0,157.0,526.0,45.0,158.0,788.0,103.0,162.0,107.0,519.0,142.0,49.0,158.0,82.0,265.0,69.0,142.0,554.0,80.0,264.0,74.0,155.0,676.0,881.0,836.0,766.0,216.0,793.0,60.0,331.0,45.0,185.0,52.0,259.0],[12.0,12584.0,13234.0,9567.0,7464.0,5861.0,14165.0,12975.0,16072.0,1937.0,5745.0,4983.0,3104.0,3121.0,8933.0,13083.0,12209.0,7796.0,2849.0,16783.0,5356.0,8338.0,17706.0,19463.0,25693.0,38856.0,10182.0,10619.0,18792.0,18592.0,13227.0,9009.0,7697.0,3914.0,2994.0,5391.0,1872.0,2017.0,9904.0,4273.0,7869.0,4346.0,11936.0,26151.0,15422.0,3898.0,15223.0,1436.0,4801.0,21881.0,3196.0,6080.0,6385.0,14816.0,4110.0,2368.0,8793.0,3926.0,9258.0,4481.0,7621.0,15144.0,4695.0,8863.0,5093.0,7683.0,20448.0,22409.0,19256.0,18657.0,9464.0,21616.0,3523.0,9911.0,2249.0,6734.0,3146.0,7335.0],[0.0,92.0,46.0,75.0,49.0,19.0,117.0,46.0,253.0,5.0,9.0,16.0,8.0,13.0,57.0,37.0,44.0,18.0,12.0,64.0,25.0,31.0,71.0,99.0,98.0,255.0,85.0,68.0,120.0,117.0,85.0,47.0,103.0,37.0,9.0,42.0,13.0,10.0,52.0,21.0,31.0,36.0,61.0,152.0,67.0,17.0,65.0,5.0,29.0,92.0,12.0,15.0,13.0,48.0,13.0,7.0,22.0,20.0,38.0,16.0,23.0,71.0,7.0,45.0,13.0,28.0,84.0,97.0,87.0,95.0,33.0,96.0,7.0,48.0,3.0,17.0,13.0,57.0],[3.0,4203.0,2219.0,4163.0,1544.0,2002.0,4316.0,3405.0,13621.0,407.0,932.0,1041.0,670.0,441.0,1493.0,2024.0,1779.0,1196.0,463.0,2529.0,1030.0,1195.0,3123.0,3347.0,4271.0,7971.0,1999.0,2385.0,9867.0,3826.0,1639.0,1501.0,7460.0,7291.0,1080.0,5814.0,567.0,1066.0,2894.0,968.0,2555.0,1035.0,4696.0,5400.0,3758.0,575.0,2868.0,168.0,700.0,4335.0,744.0,1235.0,544.0,2035.0,977.0,310.0,1289.0,276.0,924.0,477.0,1065.0,2676.0,500.0,968.0,449.0,708.0,3481.0,3835.0,3821.0,5607.0,1108.0,5119.0,686.0,1859.0,396.0,1280.0,3363.0,2023.0],[8.0,4878.0,4797.0,6730.0,3168.0,3099.0,11725.0,7729.0,24314.0,710.0,2494.0,2085.0,1244.0,1364.0,2476.0,4417.0,3345.0,2582.0,942.0,4938.0,1356.0,2919.0,5953.0,5667.0,8567.0,12132.0,4350.0,3369.0,11083.0,4328.0,2862.0,2513.0,19670.0,3488.0,1860.0,2953.0,621.0,1223.0,3043.0,1892.0,1623.0,4488.0,3459.0,7526.0,6885.0,1571.0,3545.0,308.0,1732.0,5724.0,1073.0,1854.0,1082.0,3054.0,520.0,653.0,2909.0,926.0,2135.0,1050.0,1960.0,3395.0,1225.0,1804.0,1545.0,2228.0,5038.0,4282.0,3889.0,5397.0,3189.0,6266.0,2125.0,3430.0,1251.0,2867.0,1993.0,4506.0],[0.0,157.0,90.0,117.0,77.0,43.0,42.0,26.0,111.0,5.0,21.0,32.0,21.0,28.0,63.0,45.0,46.0,41.0,24.0,61.0,13.0,29.0,51.0,926.0,114.0,2412.0,452.0,495.0,219.0,1027.0,41.0,8.0,20.0,33.0,88.0,119.0,27.0,49.0,228.0,65.0,263.0,31.0,428.0,502.0,195.0,29.0,201.0,53.0,38.0,357.0,27.0,62.0,7.0,177.0,44.0,11.0,35.0,8.0,18.0,11.0,20.0,385.0,8.0,37.0,17.0,27.0,476.0,808.0,613.0,335.0,55.0,486.0,4.0,149.0,3.0,59.0,1.0,52.0],[0.0,105.0,59.0,93.0,17.0,21.0,40.0,20.0,113.0,2.0,9.0,15.0,4.0,13.0,73.0,41.0,54.0,25.0,11.0,136.0,48.0,74.0,144.0,511.0,178.0,985.0,370.0,308.0,227.0,496.0,312.0,129.0,27.0,40.0,27.0,87.0,26.0,44.0,180.0,36.0,176.0,26.0,197.0,469.0,316.0,66.0,287.0,29.0,53.0,392.0,41.0,90.0,49.0,293.0,87.0,16.0,60.0,27.0,147.0,32.0,42.0,354.0,30.0,151.0,19.0,36.0,332.0,472.0,495.0,426.0,87.0,392.0,13.0,174.0,3.0,89.0,5.0,52.0],[0.0,1.0,0.0,0.0,0.0,0.0,1.0,1.0,2.0,0.0,1.0,1.0,1.0,1.0,1.0,2.0,0.0,0.0,1.0,0.0,0.0,0.0,1.0,2.0,1.0,6.0,3.0,0.0,5.0,2.0,0.0,0.0,3.0,0.0,0.0,1.0,0.0,1.0,2.0,0.0,3.0,2.0,1.0,1.0,1.0,0.0,2.0,0.0,0.0,3.0,0.0,2.0,1.0,0.0,1.0,0.0,0.0,0.0,0.0,1.0,1.0,0.0,0.0,0.0,0.0,0.0,0.0,5.0,1.0,4.0,0.0,6.0,0.0,1.0,0.0,0.0,0.0,0.0],[0.0,298.0,146.0,186.0,60.0,60.0,171.0,60.0,494.0,11.0,28.0,58.0,17.0,20.0,118.0,142.0,96.0,56.0,20.0,370.0,129.0,81.0,201.0,842.0,239.0,1664.0,641.0,486.0,288.0,637.0,244.0,108.0,195.0,98.0,46.0,122.0,18.0,112.0,205.0,29.0,175.0,33.0,380.0,593.0,370.0,75.0,416.0,24.0,72.0,649.0,107.0,126.0,66.0,387.0,95.0,21.0,75.0,19.0,142.0,45.0,73.0,502.0,33.0,133.0,30.0,41.0,486.0,834.0,620.0,562.0,69.0,711.0,27.0,206.0,14.0,130.0,42.0,75.0],[0.0,55.0,64.0,60.0,48.0,46.0,78.0,41.0,134.0,30.0,28.0,32.0,23.0,17.0,53.0,68.0,51.0,41.0,13.0,121.0,23.0,27.0,89.0,82.0,103.0,170.0,39.0,69.0,134.0,73.0,151.0,52.0,123.0,27.0,19.0,49.0,10.0,34.0,42.0,18.0,29.0,14.0,67.0,110.0,65.0,24.0,91.0,4.0,22.0,101.0,58.0,34.0,28.0,73.0,12.0,17.0,30.0,13.0,51.0,23.0,49.0,80.0,6.0,43.0,20.0,27.0,69.0,75.0,86.0,79.0,38.0,106.0,16.0,32.0,18.0,42.0,14.0,35.0],[0.0,73.0,98.0,56.0,61.0,41.0,56.0,56.0,82.0,32.0,63.0,46.0,35.0,20.0,53.0,108.0,85.0,74.0,26.0,163.0,53.0,58.0,138.0,156.0,88.0,326.0,82.0,77.0,66.0,104.0,100.0,40.0,38.0,26.0,6.0,48.0,10.0,15.0,70.0,27.0,58.0,28.0,112.0,189.0,136.0,40.0,141.0,7.0,45.0,199.0,49.0,53.0,74.0,140.0,27.0,18.0,41.0,40.0,88.0,18.0,47.0,102.0,35.0,58.0,26.0,58.0,161.0,167.0,143.0,156.0,81.0,183.0,73.0,113.0,86.0,102.0,10.0,33.0],[0.0,283.0,227.0,242.0,221.0,122.0,472.0,397.0,639.0,33.0,66.0,95.0,51.0,51.0,278.0,311.0,244.0,160.0,29.0,339.0,126.0,179.0,443.0,291.0,666.0,586.0,142.0,133.0,269.0,227.0,759.0,368.0,261.0,65.0,75.0,32.0,2.0,12.0,70.0,11.0,65.0,27.0,86.0,131.0,101.0,13.0,190.0,8.0,60.0,98.0,11.0,64.0,71.0,91.0,15.0,27.0,93.0,51.0,194.0,81.0,108.0,310.0,47.0,154.0,53.0,78.0,232.0,172.0,144.0,162.0,60.0,213.0,69.0,38.0,79.0,57.0,20.0,184.0],[2.0,3892.0,4464.0,5562.0,5704.0,4117.0,8244.0,4443.0,7400.0,1146.0,3190.0,2947.0,3644.0,1149.0,4679.0,5069.0,6274.0,2963.0,1959.0,9490.0,2989.0,4360.0,10076.0,8864.0,9832.0,17542.0,4323.0,4782.0,8365.0,6622.0,5795.0,3187.0,2149.0,1524.0,1316.0,2688.0,722.0,1014.0,4300.0,1791.0,3155.0,2240.0,3305.0,7770.0,6340.0,1663.0,4116.0,378.0,2114.0,6482.0,1055.0,1610.0,1088.0,4121.0,835.0,480.0,2295.0,1524.0,4359.0,1547.0,2036.0,5727.0,1412.0,3918.0,1054.0,2546.0,8261.0,7213.0,6958.0,7513.0,3247.0,7212.0,919.0,3566.0,258.0,1859.0,1417.0,2231.0],[2.0,9826.0,4479.0,10897.0,2754.0,1829.0,4237.0,1878.0,11487.0,594.0,1064.0,1483.0,1333.0,803.0,3318.0,5498.0,3790.0,2103.0,716.0,7730.0,3416.0,2668.0,7371.0,48699.0,9071.0,92986.0,35643.0,29240.0,12568.0,44244.0,9067.0,3987.0,3576.0,3333.0,1489.0,12263.0,1036.0,3462.0,9612.0,1789.0,7059.0,979.0,12515.0,18311.0,11284.0,1584.0,11850.0,974.0,2066.0,19033.0,1343.0,2734.0,2069.0,11458.0,2009.0,793.0,3235.0,811.0,4454.0,1722.0,1803.0,17053.0,1167.0,5281.0,1035.0,1693.0,17796.0,25079.0,20287.0,15486.0,2228.0,19639.0,582.0,6797.0,462.0,3878.0,2459.0,3009.0],[0.0,0.0,0.0,0.0,0.0,0.0,0.0,0.0,1.0,0.0,0.0,3.0,0.0,0.0,0.0,1.0,0.0,0.0,0.0,0.0,0.0,0.0,1.0,1.0,1.0,1.0,1.0,1.0,1.0,2.0,1.0,1.0,0.0,0.0,0.0,1.0,0.0,1.0,0.0,0.0,0.0,0.0,0.0,1.0,0.0,0.0,0.0,0.0,0.0,1.0,2.0,1.0,0.0,0.0,0.0,0.0,1.0,0.0,1.0,0.0,2.0,0.0,0.0,1.0,1.0,0.0,5.0,0.0,0.0,0.0,3.0,0.0,0.0,0.0,0.0,0.0,1.0,0.0],[0.0,2.0,1.0,5.0,3.0,3.0,13.0,1.0,12.0,0.0,4.0,2.0,2.0,2.0,2.0,1.0,1.0,1.0,0.0,9.0,2.0,0.0,3.0,1.0,4.0,5.0,0.0,0.0,7.0,4.0,4.0,1.0,10.0,3.0,1.0,2.0,1.0,1.0,0.0,1.0,0.0,0.0,2.0,1.0,2.0,0.0,0.0,0.0,0.0,0.0,2.0,2.0,0.0,0.0,0.0,1.0,5.0,1.0,0.0,1.0,2.0,3.0,0.0,0.0,0.0,1.0,7.0,2.0,0.0,2.0,0.0,2.0,0.0,1.0,0.0,2.0,20.0,2.0],[0.0,0.0,1.0,0.0,0.0,0.0,0.0,0.0,0.0,0.0,0.0,0.0,0.0,0.0,0.0,0.0,0.0,0.0,0.0,0.0,0.0,0.0,0.0,2.0,0.0,0.0,0.0,1.0,0.0,0.0,0.0,0.0,0.0,0.0,0.0,0.0,0.0,1.0,0.0,0.0,0.0,0.0,0.0,0.0,0.0,0.0,0.0,0.0,0.0,0.0,1.0,0.0,0.0,0.0,0.0,0.0,0.0,0.0,0.0,0.0,1.0,1.0,0.0,0.0,0.0,1.0,0.0,0.0,0.0,0.0,0.0,0.0,0.0,0.0,0.0,0.0,0.0,0.0],[0.0,13.0,21.0,11.0,7.0,12.0,14.0,9.0,27.0,4.0,8.0,14.0,8.0,4.0,8.0,14.0,15.0,11.0,4.0,11.0,9.0,10.0,14.0,12.0,24.0,36.0,4.0,11.0,18.0,18.0,10.0,9.0,12.0,8.0,2.0,4.0,3.0,2.0,13.0,5.0,8.0,9.0,9.0,20.0,11.0,3.0,6.0,0.0,5.0,13.0,3.0,2.0,2.0,2.0,4.0,3.0,7.0,5.0,15.0,3.0,8.0,14.0,7.0,10.0,6.0,7.0,17.0,11.0,11.0,9.0,15.0,10.0,3.0,5.0,5.0,9.0,2.0,6.0],[0.0,729.0,747.0,665.0,396.0,319.0,376.0,259.0,608.0,107.0,297.0,320.0,136.0,158.0,557.0,733.0,587.0,339.0,179.0,1348.0,486.0,472.0,1110.0,1578.0,771.0,2818.0,638.0,684.0,977.0,1254.0,1224.0,517.0,173.0,213.0,99.0,344.0,172.0,193.0,568.0,311.0,529.0,248.0,1005.0,1962.0,1073.0,283.0,1371.0,89.0,341.0,1466.0,348.0,528.0,470.0,1086.0,320.0,185.0,383.0,191.0,712.0,217.0,284.0,1201.0,206.0,658.0,321.0,489.0,1478.0,1421.0,1281.0,1427.0,568.0,1841.0,263.0,751.0,254.0,631.0,93.0,349.0],[0.0,5.0,1.0,5.0,4.0,0.0,15.0,3.0,10.0,0.0,0.0,4.0,2.0,7.0,7.0,6.0,2.0,2.0,0.0,1.0,1.0,0.0,5.0,3.0,9.0,4.0,1.0,0.0,3.0,0.0,1.0,1.0,14.0,2.0,0.0,0.0,0.0,1.0,1.0,0.0,0.0,0.0,0.0,0.0,1.0,0.0,3.0,0.0,0.0,1.0,0.0,0.0,0.0,0.0,1.0,0.0,0.0,0.0,0.0,0.0,0.0,1.0,0.0,0.0,0.0,1.0,0.0,0.0,0.0,0.0,0.0,1.0,0.0,0.0,0.0,0.0,1.0,1.0],[11.0,7264.0,6628.0,6133.0,3572.0,2614.0,6198.0,3740.0,8675.0,930.0,2969.0,2769.0,1329.0,1441.0,4336.0,7359.0,5335.0,4166.0,1531.0,9409.0,3359.0,3978.0,8029.0,11345.0,8410.0,26082.0,5449.0,6272.0,10036.0,10779.0,8833.0,3778.0,6458.0,2952.0,1059.0,4071.0,1300.0,917.0,5779.0,3000.0,4238.0,2683.0,7620.0,16246.0,9316.0,2397.0,8666.0,708.0,2836.0,11799.0,2071.0,3319.0,2574.0,7827.0,2014.0,1284.0,3497.0,1246.0,4216.0,1581.0,3064.0,7651.0,1597.0,3840.0,2479.0,3005.0,10722.0,11180.0,10093.0,11070.0,4797.0,13041.0,2114.0,6167.0,1522.0,4279.0,6569.0,4807.0],[0.0,931.0,140.0,796.0,199.0,127.0,628.0,345.0,3914.0,7.0,37.0,10.0,8.0,48.0,576.0,366.0,87.0,14.0,17.0,1339.0,842.0,280.0,1559.0,3099.0,2099.0,7882.0,3674.0,3191.0,1861.0,1461.0,1251.0,587.0,510.0,56.0,44.0,76.0,0.0,35.0,2061.0,10.0,1280.0,4.0,634.0,1045.0,401.0,15.0,512.0,2.0,2.0,1409.0,5.0,7.0,3.0,1050.0,4.0,2.0,2868.0,550.0,2213.0,32.0,214.0,2205.0,7.0,172.0,11.0,20.0,561.0,2166.0,2032.0,481.0,41.0,1001.0,2.0,114.0,3.0,14.0,30.0,150.0],[0.0,4.0,2.0,1.0,4.0,1.0,8.0,9.0,18.0,2.0,2.0,1.0,0.0,0.0,2.0,2.0,1.0,1.0,0.0,4.0,0.0,1.0,4.0,1.0,5.0,6.0,2.0,2.0,5.0,2.0,4.0,2.0,16.0,1.0,2.0,1.0,1.0,1.0,3.0,0.0,1.0,2.0,1.0,3.0,7.0,1.0,0.0,0.0,0.0,1.0,2.0,2.0,0.0,1.0,1.0,0.0,0.0,2.0,2.0,0.0,1.0,4.0,1.0,1.0,2.0,3.0,0.0,2.0,2.0,4.0,0.0,3.0,0.0,1.0,0.0,2.0,0.0,2.0],[0.0,687.0,616.0,1127.0,899.0,436.0,1258.0,651.0,1700.0,418.0,282.0,407.0,530.0,109.0,566.0,621.0,570.0,481.0,132.0,1047.0,533.0,377.0,1328.0,1312.0,972.0,2738.0,668.0,645.0,1076.0,1286.0,2501.0,926.0,1375.0,204.0,106.0,230.0,53.0,155.0,384.0,111.0,333.0,122.0,812.0,1077.0,639.0,142.0,827.0,68.0,145.0,890.0,132.0,258.0,269.0,592.0,121.0,102.0,356.0,108.0,710.0,161.0,300.0,1203.0,238.0,882.0,191.0,303.0,1571.0,1220.0,1124.0,904.0,358.0,1062.0,120.0,348.0,74.0,253.0,398.0,453.0],[0.0,0.0,0.0,0.0,0.0,1.0,0.0,0.0,2.0,0.0,0.0,0.0,0.0,0.0,0.0,0.0,0.0,0.0,0.0,0.0,0.0,0.0,0.0,0.0,0.0,2.0,1.0,0.0,0.0,0.0,0.0,0.0,0.0,0.0,0.0,0.0,0.0,0.0,0.0,0.0,0.0,0.0,0.0,0.0,1.0,0.0,2.0,0.0,0.0,0.0,0.0,1.0,0.0,1.0,0.0,0.0,0.0,0.0,0.0,0.0,0.0,0.0,0.0,0.0,0.0,0.0,0.0,1.0,1.0,1.0,0.0,1.0,0.0,0.0,0.0,0.0,0.0,0.0],[1.0,4394.0,2905.0,3091.0,1253.0,1037.0,5137.0,3140.0,6353.0,113.0,309.0,548.0,183.0,493.0,2354.0,2081.0,2263.0,748.0,403.0,4241.0,1383.0,2587.0,5265.0,8079.0,7437.0,18467.0,5981.0,5349.0,7017.0,8174.0,4664.0,1830.0,4482.0,1249.0,1558.0,2782.0,491.0,1171.0,4091.0,1535.0,3418.0,2379.0,4687.0,9935.0,7819.0,1838.0,4823.0,351.0,1865.0,7676.0,748.0,1456.0,570.0,3947.0,1041.0,235.0,1411.0,898.0,2327.0,693.0,914.0,4735.0,946.0,2452.0,407.0,1632.0,8006.0,7773.0,7858.0,8567.0,2616.0,8729.0,748.0,3229.0,193.0,1583.0,167.0,2270.0],[0.0,575.0,483.0,775.0,384.0,234.0,653.0,488.0,846.0,134.0,228.0,213.0,168.0,133.0,446.0,447.0,462.0,274.0,113.0,710.0,249.0,318.0,712.0,598.0,752.0,1234.0,253.0,284.0,640.0,571.0,647.0,352.0,612.0,148.0,87.0,200.0,57.0,54.0,274.0,119.0,202.0,189.0,377.0,657.0,377.0,99.0,386.0,25.0,90.0,535.0,79.0,117.0,147.0,353.0,132.0,55.0,204.0,124.0,440.0,134.0,201.0,588.0,137.0,344.0,121.0,224.0,609.0,569.0,567.0,518.0,228.0,526.0,96.0,255.0,70.0,143.0,133.0,325.0],[0.0,69.0,58.0,44.0,40.0,47.0,87.0,55.0,147.0,11.0,26.0,38.0,21.0,15.0,35.0,45.0,62.0,26.0,10.0,52.0,27.0,32.0,85.0,88.0,110.0,127.0,37.0,75.0,120.0,95.0,64.0,45.0,109.0,43.0,16.0,48.0,14.0,13.0,46.0,26.0,32.0,40.0,59.0,127.0,134.0,27.0,80.0,6.0,32.0,94.0,27.0,34.0,24.0,61.0,23.0,24.0,35.0,9.0,38.0,17.0,27.0,52.0,22.0,31.0,24.0,27.0,57.0,79.0,74.0,100.0,40.0,123.0,19.0,47.0,21.0,34.0,24.0,38.0],[18.0,24386.0,23824.0,25231.0,15515.0,14044.0,51886.0,48658.0,100099.0,2710.0,8731.0,8169.0,5833.0,6153.0,13014.0,20405.0,18124.0,10234.0,5095.0,25029.0,7056.0,15175.0,43106.0,27498.0,64838.0,56793.0,13823.0,15214.0,65164.0,23930.0,18250.0,14215.0,83854.0,14697.0,6563.0,13595.0,2624.0,4091.0,15190.0,8627.0,9629.0,13656.0,14398.0,34636.0,30817.0,6408.0,17815.0,1398.0,7313.0,25375.0,4607.0,8238.0,4447.0,14029.0,2979.0,2861.0,11228.0,5408.0,9985.0,6994.0,9130.0,21866.0,5692.0,10204.0,5134.0,15141.0,24478.0,26053.0,22500.0,23578.0,11475.0,28422.0,6395.0,13630.0,3282.0,10613.0,12648.0,19113.0],[0.0,927.0,722.0,753.0,720.0,413.0,604.0,520.0,1585.0,305.0,279.0,479.0,361.0,91.0,659.0,749.0,540.0,370.0,196.0,1519.0,675.0,443.0,1238.0,3353.0,1259.0,6880.0,2422.0,1971.0,1118.0,3771.0,2091.0,904.0,434.0,259.0,208.0,538.0,176.0,392.0,1119.0,277.0,1059.0,179.0,1668.0,2831.0,2116.0,575.0,2200.0,200.0,580.0,3417.0,408.0,767.0,537.0,2586.0,662.0,136.0,504.0,184.0,956.0,295.0,326.0,2769.0,226.0,1038.0,159.0,317.0,2567.0,4602.0,3882.0,3083.0,570.0,3610.0,111.0,1241.0,44.0,647.0,253.0,260.0]]}],                        {\"coloraxis\":{\"colorscale\":[[0.0,\"rgb(255,245,235)\"],[0.125,\"rgb(254,230,206)\"],[0.25,\"rgb(253,208,162)\"],[0.375,\"rgb(253,174,107)\"],[0.5,\"rgb(253,141,60)\"],[0.625,\"rgb(241,105,19)\"],[0.75,\"rgb(217,72,1)\"],[0.875,\"rgb(166,54,3)\"],[1.0,\"rgb(127,39,4)\"]]},\"height\":800,\"template\":{\"data\":{\"bar\":[{\"error_x\":{\"color\":\"#2a3f5f\"},\"error_y\":{\"color\":\"#2a3f5f\"},\"marker\":{\"line\":{\"color\":\"#E5ECF6\",\"width\":0.5},\"pattern\":{\"fillmode\":\"overlay\",\"size\":10,\"solidity\":0.2}},\"type\":\"bar\"}],\"barpolar\":[{\"marker\":{\"line\":{\"color\":\"#E5ECF6\",\"width\":0.5},\"pattern\":{\"fillmode\":\"overlay\",\"size\":10,\"solidity\":0.2}},\"type\":\"barpolar\"}],\"carpet\":[{\"aaxis\":{\"endlinecolor\":\"#2a3f5f\",\"gridcolor\":\"white\",\"linecolor\":\"white\",\"minorgridcolor\":\"white\",\"startlinecolor\":\"#2a3f5f\"},\"baxis\":{\"endlinecolor\":\"#2a3f5f\",\"gridcolor\":\"white\",\"linecolor\":\"white\",\"minorgridcolor\":\"white\",\"startlinecolor\":\"#2a3f5f\"},\"type\":\"carpet\"}],\"choropleth\":[{\"colorbar\":{\"outlinewidth\":0,\"ticks\":\"\"},\"type\":\"choropleth\"}],\"contour\":[{\"colorbar\":{\"outlinewidth\":0,\"ticks\":\"\"},\"colorscale\":[[0.0,\"#0d0887\"],[0.1111111111111111,\"#46039f\"],[0.2222222222222222,\"#7201a8\"],[0.3333333333333333,\"#9c179e\"],[0.4444444444444444,\"#bd3786\"],[0.5555555555555556,\"#d8576b\"],[0.6666666666666666,\"#ed7953\"],[0.7777777777777778,\"#fb9f3a\"],[0.8888888888888888,\"#fdca26\"],[1.0,\"#f0f921\"]],\"type\":\"contour\"}],\"contourcarpet\":[{\"colorbar\":{\"outlinewidth\":0,\"ticks\":\"\"},\"type\":\"contourcarpet\"}],\"heatmap\":[{\"colorbar\":{\"outlinewidth\":0,\"ticks\":\"\"},\"colorscale\":[[0.0,\"#0d0887\"],[0.1111111111111111,\"#46039f\"],[0.2222222222222222,\"#7201a8\"],[0.3333333333333333,\"#9c179e\"],[0.4444444444444444,\"#bd3786\"],[0.5555555555555556,\"#d8576b\"],[0.6666666666666666,\"#ed7953\"],[0.7777777777777778,\"#fb9f3a\"],[0.8888888888888888,\"#fdca26\"],[1.0,\"#f0f921\"]],\"type\":\"heatmap\"}],\"heatmapgl\":[{\"colorbar\":{\"outlinewidth\":0,\"ticks\":\"\"},\"colorscale\":[[0.0,\"#0d0887\"],[0.1111111111111111,\"#46039f\"],[0.2222222222222222,\"#7201a8\"],[0.3333333333333333,\"#9c179e\"],[0.4444444444444444,\"#bd3786\"],[0.5555555555555556,\"#d8576b\"],[0.6666666666666666,\"#ed7953\"],[0.7777777777777778,\"#fb9f3a\"],[0.8888888888888888,\"#fdca26\"],[1.0,\"#f0f921\"]],\"type\":\"heatmapgl\"}],\"histogram\":[{\"marker\":{\"pattern\":{\"fillmode\":\"overlay\",\"size\":10,\"solidity\":0.2}},\"type\":\"histogram\"}],\"histogram2d\":[{\"colorbar\":{\"outlinewidth\":0,\"ticks\":\"\"},\"colorscale\":[[0.0,\"#0d0887\"],[0.1111111111111111,\"#46039f\"],[0.2222222222222222,\"#7201a8\"],[0.3333333333333333,\"#9c179e\"],[0.4444444444444444,\"#bd3786\"],[0.5555555555555556,\"#d8576b\"],[0.6666666666666666,\"#ed7953\"],[0.7777777777777778,\"#fb9f3a\"],[0.8888888888888888,\"#fdca26\"],[1.0,\"#f0f921\"]],\"type\":\"histogram2d\"}],\"histogram2dcontour\":[{\"colorbar\":{\"outlinewidth\":0,\"ticks\":\"\"},\"colorscale\":[[0.0,\"#0d0887\"],[0.1111111111111111,\"#46039f\"],[0.2222222222222222,\"#7201a8\"],[0.3333333333333333,\"#9c179e\"],[0.4444444444444444,\"#bd3786\"],[0.5555555555555556,\"#d8576b\"],[0.6666666666666666,\"#ed7953\"],[0.7777777777777778,\"#fb9f3a\"],[0.8888888888888888,\"#fdca26\"],[1.0,\"#f0f921\"]],\"type\":\"histogram2dcontour\"}],\"mesh3d\":[{\"colorbar\":{\"outlinewidth\":0,\"ticks\":\"\"},\"type\":\"mesh3d\"}],\"parcoords\":[{\"line\":{\"colorbar\":{\"outlinewidth\":0,\"ticks\":\"\"}},\"type\":\"parcoords\"}],\"pie\":[{\"automargin\":true,\"type\":\"pie\"}],\"scatter\":[{\"marker\":{\"colorbar\":{\"outlinewidth\":0,\"ticks\":\"\"}},\"type\":\"scatter\"}],\"scatter3d\":[{\"line\":{\"colorbar\":{\"outlinewidth\":0,\"ticks\":\"\"}},\"marker\":{\"colorbar\":{\"outlinewidth\":0,\"ticks\":\"\"}},\"type\":\"scatter3d\"}],\"scattercarpet\":[{\"marker\":{\"colorbar\":{\"outlinewidth\":0,\"ticks\":\"\"}},\"type\":\"scattercarpet\"}],\"scattergeo\":[{\"marker\":{\"colorbar\":{\"outlinewidth\":0,\"ticks\":\"\"}},\"type\":\"scattergeo\"}],\"scattergl\":[{\"marker\":{\"colorbar\":{\"outlinewidth\":0,\"ticks\":\"\"}},\"type\":\"scattergl\"}],\"scattermapbox\":[{\"marker\":{\"colorbar\":{\"outlinewidth\":0,\"ticks\":\"\"}},\"type\":\"scattermapbox\"}],\"scatterpolar\":[{\"marker\":{\"colorbar\":{\"outlinewidth\":0,\"ticks\":\"\"}},\"type\":\"scatterpolar\"}],\"scatterpolargl\":[{\"marker\":{\"colorbar\":{\"outlinewidth\":0,\"ticks\":\"\"}},\"type\":\"scatterpolargl\"}],\"scatterternary\":[{\"marker\":{\"colorbar\":{\"outlinewidth\":0,\"ticks\":\"\"}},\"type\":\"scatterternary\"}],\"surface\":[{\"colorbar\":{\"outlinewidth\":0,\"ticks\":\"\"},\"colorscale\":[[0.0,\"#0d0887\"],[0.1111111111111111,\"#46039f\"],[0.2222222222222222,\"#7201a8\"],[0.3333333333333333,\"#9c179e\"],[0.4444444444444444,\"#bd3786\"],[0.5555555555555556,\"#d8576b\"],[0.6666666666666666,\"#ed7953\"],[0.7777777777777778,\"#fb9f3a\"],[0.8888888888888888,\"#fdca26\"],[1.0,\"#f0f921\"]],\"type\":\"surface\"}],\"table\":[{\"cells\":{\"fill\":{\"color\":\"#EBF0F8\"},\"line\":{\"color\":\"white\"}},\"header\":{\"fill\":{\"color\":\"#C8D4E3\"},\"line\":{\"color\":\"white\"}},\"type\":\"table\"}]},\"layout\":{\"annotationdefaults\":{\"arrowcolor\":\"#2a3f5f\",\"arrowhead\":0,\"arrowwidth\":1},\"autotypenumbers\":\"strict\",\"coloraxis\":{\"colorbar\":{\"outlinewidth\":0,\"ticks\":\"\"}},\"colorscale\":{\"diverging\":[[0,\"#8e0152\"],[0.1,\"#c51b7d\"],[0.2,\"#de77ae\"],[0.3,\"#f1b6da\"],[0.4,\"#fde0ef\"],[0.5,\"#f7f7f7\"],[0.6,\"#e6f5d0\"],[0.7,\"#b8e186\"],[0.8,\"#7fbc41\"],[0.9,\"#4d9221\"],[1,\"#276419\"]],\"sequential\":[[0.0,\"#0d0887\"],[0.1111111111111111,\"#46039f\"],[0.2222222222222222,\"#7201a8\"],[0.3333333333333333,\"#9c179e\"],[0.4444444444444444,\"#bd3786\"],[0.5555555555555556,\"#d8576b\"],[0.6666666666666666,\"#ed7953\"],[0.7777777777777778,\"#fb9f3a\"],[0.8888888888888888,\"#fdca26\"],[1.0,\"#f0f921\"]],\"sequentialminus\":[[0.0,\"#0d0887\"],[0.1111111111111111,\"#46039f\"],[0.2222222222222222,\"#7201a8\"],[0.3333333333333333,\"#9c179e\"],[0.4444444444444444,\"#bd3786\"],[0.5555555555555556,\"#d8576b\"],[0.6666666666666666,\"#ed7953\"],[0.7777777777777778,\"#fb9f3a\"],[0.8888888888888888,\"#fdca26\"],[1.0,\"#f0f921\"]]},\"colorway\":[\"#636efa\",\"#EF553B\",\"#00cc96\",\"#ab63fa\",\"#FFA15A\",\"#19d3f3\",\"#FF6692\",\"#B6E880\",\"#FF97FF\",\"#FECB52\"],\"font\":{\"color\":\"#2a3f5f\"},\"geo\":{\"bgcolor\":\"white\",\"lakecolor\":\"white\",\"landcolor\":\"#E5ECF6\",\"showlakes\":true,\"showland\":true,\"subunitcolor\":\"white\"},\"hoverlabel\":{\"align\":\"left\"},\"hovermode\":\"closest\",\"mapbox\":{\"style\":\"light\"},\"paper_bgcolor\":\"white\",\"plot_bgcolor\":\"#E5ECF6\",\"polar\":{\"angularaxis\":{\"gridcolor\":\"white\",\"linecolor\":\"white\",\"ticks\":\"\"},\"bgcolor\":\"#E5ECF6\",\"radialaxis\":{\"gridcolor\":\"white\",\"linecolor\":\"white\",\"ticks\":\"\"}},\"scene\":{\"xaxis\":{\"backgroundcolor\":\"#E5ECF6\",\"gridcolor\":\"white\",\"gridwidth\":2,\"linecolor\":\"white\",\"showbackground\":true,\"ticks\":\"\",\"zerolinecolor\":\"white\"},\"yaxis\":{\"backgroundcolor\":\"#E5ECF6\",\"gridcolor\":\"white\",\"gridwidth\":2,\"linecolor\":\"white\",\"showbackground\":true,\"ticks\":\"\",\"zerolinecolor\":\"white\"},\"zaxis\":{\"backgroundcolor\":\"#E5ECF6\",\"gridcolor\":\"white\",\"gridwidth\":2,\"linecolor\":\"white\",\"showbackground\":true,\"ticks\":\"\",\"zerolinecolor\":\"white\"}},\"shapedefaults\":{\"line\":{\"color\":\"#2a3f5f\"}},\"ternary\":{\"aaxis\":{\"gridcolor\":\"white\",\"linecolor\":\"white\",\"ticks\":\"\"},\"baxis\":{\"gridcolor\":\"white\",\"linecolor\":\"white\",\"ticks\":\"\"},\"bgcolor\":\"#E5ECF6\",\"caxis\":{\"gridcolor\":\"white\",\"linecolor\":\"white\",\"ticks\":\"\"}},\"title\":{\"x\":0.05},\"xaxis\":{\"automargin\":true,\"gridcolor\":\"white\",\"linecolor\":\"white\",\"ticks\":\"\",\"title\":{\"standoff\":15},\"zerolinecolor\":\"white\",\"zerolinewidth\":2},\"yaxis\":{\"automargin\":true,\"gridcolor\":\"white\",\"linecolor\":\"white\",\"ticks\":\"\",\"title\":{\"standoff\":15},\"zerolinecolor\":\"white\",\"zerolinewidth\":2}}},\"title\":{\"text\":\"Crime Type & Counts by Community\"},\"width\":1000,\"xaxis\":{\"anchor\":\"y\",\"constrain\":\"domain\",\"domain\":[0.0,1.0],\"scaleanchor\":\"y\",\"title\":{\"text\":\"community\"}},\"yaxis\":{\"anchor\":\"x\",\"autorange\":\"reversed\",\"constrain\":\"domain\",\"domain\":[0.0,1.0],\"title\":{\"text\":\"type\"}}},                        {\"responsive\": true}                    ).then(function(){\n",
       "                            \n",
       "var gd = document.getElementById('c821258f-e5cf-45ba-998e-a46178dfdb97');\n",
       "var x = new MutationObserver(function (mutations, observer) {{\n",
       "        var display = window.getComputedStyle(gd).display;\n",
       "        if (!display || display === 'none') {{\n",
       "            console.log([gd, 'removed!']);\n",
       "            Plotly.purge(gd);\n",
       "            observer.disconnect();\n",
       "        }}\n",
       "}});\n",
       "\n",
       "// Listen for the removal of the full notebook cells\n",
       "var notebookContainer = gd.closest('#notebook-container');\n",
       "if (notebookContainer) {{\n",
       "    x.observe(notebookContainer, {childList: true});\n",
       "}}\n",
       "\n",
       "// Listen for the clearing of the current output cell\n",
       "var outputEl = gd.closest('.output');\n",
       "if (outputEl) {{\n",
       "    x.observe(outputEl, {childList: true});\n",
       "}}\n",
       "\n",
       "                        })                };                });            </script>        </div>"
      ]
     },
     "metadata": {},
     "output_type": "display_data"
    }
   ],
   "source": [
    "import plotly.express as px\n",
    "\n",
    "fig = px.imshow(q11_table, \n",
    "                color_continuous_scale=px.colors.sequential.Oranges, \n",
    "                title=\"Crime Type & Counts by Community\"\n",
    "               )\n",
    "fig.update_layout(\n",
    "    width=1000,\n",
    "    height=800,)\n",
    "fig.show()"
   ]
  },
  {
   "cell_type": "code",
   "execution_count": null,
   "metadata": {},
   "outputs": [],
   "source": []
  }
 ],
 "metadata": {
  "kernelspec": {
   "display_name": "yxq_py37",
   "language": "python",
   "name": "yxq_py37"
  },
  "language_info": {
   "codemirror_mode": {
    "name": "ipython",
    "version": 3
   },
   "file_extension": ".py",
   "mimetype": "text/x-python",
   "name": "python",
   "nbconvert_exporter": "python",
   "pygments_lexer": "ipython3",
   "version": "3.7.6"
  },
  "varInspector": {
   "cols": {
    "lenName": 16,
    "lenType": 16,
    "lenVar": 40
   },
   "kernels_config": {
    "python": {
     "delete_cmd_postfix": "",
     "delete_cmd_prefix": "del ",
     "library": "var_list.py",
     "varRefreshCmd": "print(var_dic_list())"
    },
    "r": {
     "delete_cmd_postfix": ") ",
     "delete_cmd_prefix": "rm(",
     "library": "var_list.r",
     "varRefreshCmd": "cat(var_dic_list()) "
    }
   },
   "types_to_exclude": [
    "module",
    "function",
    "builtin_function_or_method",
    "instance",
    "_Feature"
   ],
   "window_display": false
  }
 },
 "nbformat": 4,
 "nbformat_minor": 4
}
