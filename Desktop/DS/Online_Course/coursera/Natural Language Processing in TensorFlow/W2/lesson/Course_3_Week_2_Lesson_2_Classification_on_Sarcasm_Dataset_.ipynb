{
  "nbformat": 4,
  "nbformat_minor": 0,
  "metadata": {
    "accelerator": "GPU",
    "colab": {
      "name": "Course 3 - Week 2 - Lesson 2 - Classification on Sarcasm Dataset .ipynb",
      "provenance": [],
      "collapsed_sections": [],
      "toc_visible": true
    },
    "kernelspec": {
      "display_name": "Python 3",
      "name": "python3"
    }
  },
  "cells": [
    {
      "cell_type": "code",
      "metadata": {
        "id": "zX4Kg8DUTKWO",
        "colab_type": "code",
        "colab": {}
      },
      "source": [
        "#@title Licensed under the Apache License, Version 2.0 (the \"License\");\n",
        "# you may not use this file except in compliance with the License.\n",
        "# You may obtain a copy of the License at\n",
        "#\n",
        "# https://www.apache.org/licenses/LICENSE-2.0\n",
        "#\n",
        "# Unless required by applicable law or agreed to in writing, software\n",
        "# distributed under the License is distributed on an \"AS IS\" BASIS,\n",
        "# WITHOUT WARRANTIES OR CONDITIONS OF ANY KIND, either express or implied.\n",
        "# See the License for the specific language governing permissions and\n",
        "# limitations under the License."
      ],
      "execution_count": 1,
      "outputs": []
    },
    {
      "cell_type": "markdown",
      "metadata": {
        "colab_type": "text",
        "id": "view-in-github"
      },
      "source": [
        "<a href=\"https://colab.research.google.com/github/lmoroney/dlaicourse/blob/master/TensorFlow%20In%20Practice/Course%203%20-%20NLP/Course%203%20-%20Week%202%20-%20Lesson%202.ipynb\" target=\"_parent\"><img src=\"https://colab.research.google.com/assets/colab-badge.svg\" alt=\"Open In Colab\"/></a>"
      ]
    },
    {
      "cell_type": "code",
      "metadata": {
        "colab_type": "code",
        "id": "4gs9htvM7n_x",
        "colab": {}
      },
      "source": [
        "# Run this to ensure TensorFlow 2.x is used\n",
        "try:\n",
        "  # %tensorflow_version only exists in Colab.\n",
        "  %tensorflow_version 2.x\n",
        "except Exception:\n",
        "  pass"
      ],
      "execution_count": 2,
      "outputs": []
    },
    {
      "cell_type": "code",
      "metadata": {
        "colab_type": "code",
        "id": "XYYDvoskkE61",
        "colab": {}
      },
      "source": [
        "import json\n",
        "import tensorflow as tf\n",
        "\n",
        "from tensorflow.keras.preprocessing.text import Tokenizer\n",
        "from tensorflow.keras.preprocessing.sequence import pad_sequences"
      ],
      "execution_count": 3,
      "outputs": []
    },
    {
      "cell_type": "code",
      "metadata": {
        "colab_type": "code",
        "id": "0eJSTTYnkJQd",
        "colab": {}
      },
      "source": [
        "vocab_size = 10000\n",
        "embedding_dim = 16\n",
        "max_length = 100\n",
        "trunc_type='post'\n",
        "padding_type='post'\n",
        "oov_tok = \"<OOV>\"\n",
        "training_size = 20000\n"
      ],
      "execution_count": 4,
      "outputs": []
    },
    {
      "cell_type": "code",
      "metadata": {
        "colab_type": "code",
        "id": "BQVuQrZNkPn9",
        "colab": {
          "base_uri": "https://localhost:8080/",
          "height": 204
        },
        "outputId": "29a0a348-0731-4924-a45d-aae488cb49c4"
      },
      "source": [
        "!wget --no-check-certificate \\\n",
        "    https://storage.googleapis.com/laurencemoroney-blog.appspot.com/sarcasm.json \\\n",
        "    -O /tmp/sarcasm.json\n"
      ],
      "execution_count": 5,
      "outputs": [
        {
          "output_type": "stream",
          "text": [
            "--2020-09-09 03:57:17--  https://storage.googleapis.com/laurencemoroney-blog.appspot.com/sarcasm.json\n",
            "Resolving storage.googleapis.com (storage.googleapis.com)... 74.125.20.128, 74.125.142.128, 74.125.195.128, ...\n",
            "Connecting to storage.googleapis.com (storage.googleapis.com)|74.125.20.128|:443... connected.\n",
            "HTTP request sent, awaiting response... 200 OK\n",
            "Length: 5643545 (5.4M) [application/json]\n",
            "Saving to: ‘/tmp/sarcasm.json’\n",
            "\n",
            "/tmp/sarcasm.json   100%[===================>]   5.38M  --.-KB/s    in 0.1s    \n",
            "\n",
            "2020-09-09 03:57:17 (47.7 MB/s) - ‘/tmp/sarcasm.json’ saved [5643545/5643545]\n",
            "\n"
          ],
          "name": "stdout"
        }
      ]
    },
    {
      "cell_type": "code",
      "metadata": {
        "colab_type": "code",
        "id": "oaLaaqhNkUPd",
        "colab": {}
      },
      "source": [
        "with open(\"/tmp/sarcasm.json\", 'r') as f:\n",
        "    datastore = json.load(f)\n",
        "\n",
        "sentences = []\n",
        "labels = []\n",
        "\n",
        "for item in datastore:\n",
        "    sentences.append(item['headline'])\n",
        "    labels.append(item['is_sarcastic'])"
      ],
      "execution_count": 6,
      "outputs": []
    },
    {
      "cell_type": "code",
      "metadata": {
        "colab_type": "code",
        "id": "S1sD-7v0kYWk",
        "colab": {}
      },
      "source": [
        "training_sentences = sentences[0:training_size]\n",
        "testing_sentences = sentences[training_size:]\n",
        "training_labels = labels[0:training_size]\n",
        "testing_labels = labels[training_size:]"
      ],
      "execution_count": 7,
      "outputs": []
    },
    {
      "cell_type": "code",
      "metadata": {
        "colab_type": "code",
        "id": "3u8UB0MCkZ5N",
        "colab": {}
      },
      "source": [
        "tokenizer = Tokenizer(num_words=vocab_size, oov_token=oov_tok)\n",
        "tokenizer.fit_on_texts(training_sentences)\n",
        "\n",
        "word_index = tokenizer.word_index\n",
        "\n",
        "training_sequences = tokenizer.texts_to_sequences(training_sentences)\n",
        "training_padded = pad_sequences(training_sequences, maxlen=max_length, padding=padding_type, truncating=trunc_type)\n",
        "\n",
        "testing_sequences = tokenizer.texts_to_sequences(testing_sentences)\n",
        "testing_padded = pad_sequences(testing_sequences, maxlen=max_length, padding=padding_type, truncating=trunc_type)"
      ],
      "execution_count": 8,
      "outputs": []
    },
    {
      "cell_type": "code",
      "metadata": {
        "colab_type": "code",
        "id": "GrAlWBKf99Ya",
        "colab": {}
      },
      "source": [
        "# Need this block to get it to work with TensorFlow 2.x\n",
        "import numpy as np\n",
        "training_padded = np.array(training_padded)\n",
        "training_labels = np.array(training_labels)\n",
        "testing_padded = np.array(testing_padded)\n",
        "testing_labels = np.array(testing_labels)"
      ],
      "execution_count": 9,
      "outputs": []
    },
    {
      "cell_type": "code",
      "metadata": {
        "colab_type": "code",
        "id": "FufaT4vlkiDE",
        "colab": {}
      },
      "source": [
        "model = tf.keras.Sequential([\n",
        "    tf.keras.layers.Embedding(vocab_size, embedding_dim, input_length=max_length),\n",
        "    tf.keras.layers.GlobalAveragePooling1D(),\n",
        "    tf.keras.layers.Dense(24, activation='relu'),\n",
        "    tf.keras.layers.Dense(1, activation='sigmoid')\n",
        "])\n",
        "model.compile(loss='binary_crossentropy',optimizer='adam',metrics=['accuracy'])"
      ],
      "execution_count": 10,
      "outputs": []
    },
    {
      "cell_type": "code",
      "metadata": {
        "colab_type": "code",
        "id": "XfDt1hmYkiys",
        "colab": {
          "base_uri": "https://localhost:8080/",
          "height": 289
        },
        "outputId": "63518267-f43e-409d-ac89-64d8419c0e86"
      },
      "source": [
        "model.summary()\n"
      ],
      "execution_count": 11,
      "outputs": [
        {
          "output_type": "stream",
          "text": [
            "Model: \"sequential\"\n",
            "_________________________________________________________________\n",
            "Layer (type)                 Output Shape              Param #   \n",
            "=================================================================\n",
            "embedding (Embedding)        (None, 100, 16)           160000    \n",
            "_________________________________________________________________\n",
            "global_average_pooling1d (Gl (None, 16)                0         \n",
            "_________________________________________________________________\n",
            "dense (Dense)                (None, 24)                408       \n",
            "_________________________________________________________________\n",
            "dense_1 (Dense)              (None, 1)                 25        \n",
            "=================================================================\n",
            "Total params: 160,433\n",
            "Trainable params: 160,433\n",
            "Non-trainable params: 0\n",
            "_________________________________________________________________\n"
          ],
          "name": "stdout"
        }
      ]
    },
    {
      "cell_type": "code",
      "metadata": {
        "colab_type": "code",
        "id": "2DTKQFf1kkyc",
        "colab": {
          "base_uri": "https://localhost:8080/",
          "height": 1000
        },
        "outputId": "a3c29ecc-de57-43da-939b-26e7ea2205df"
      },
      "source": [
        "num_epochs = 30\n",
        "history = model.fit(training_padded, training_labels, epochs=num_epochs, validation_data=(testing_padded, testing_labels), verbose=2)"
      ],
      "execution_count": 12,
      "outputs": [
        {
          "output_type": "stream",
          "text": [
            "Epoch 1/30\n",
            "625/625 - 3s - loss: 0.6677 - accuracy: 0.5778 - val_loss: 0.5937 - val_accuracy: 0.7415\n",
            "Epoch 2/30\n",
            "625/625 - 3s - loss: 0.4460 - accuracy: 0.8230 - val_loss: 0.3915 - val_accuracy: 0.8398\n",
            "Epoch 3/30\n",
            "625/625 - 3s - loss: 0.3182 - accuracy: 0.8757 - val_loss: 0.3674 - val_accuracy: 0.8377\n",
            "Epoch 4/30\n",
            "625/625 - 3s - loss: 0.2662 - accuracy: 0.8963 - val_loss: 0.3469 - val_accuracy: 0.8562\n",
            "Epoch 5/30\n",
            "625/625 - 3s - loss: 0.2312 - accuracy: 0.9082 - val_loss: 0.3429 - val_accuracy: 0.8569\n",
            "Epoch 6/30\n",
            "625/625 - 3s - loss: 0.2033 - accuracy: 0.9237 - val_loss: 0.3468 - val_accuracy: 0.8556\n",
            "Epoch 7/30\n",
            "625/625 - 3s - loss: 0.1815 - accuracy: 0.9326 - val_loss: 0.3584 - val_accuracy: 0.8529\n",
            "Epoch 8/30\n",
            "625/625 - 3s - loss: 0.1631 - accuracy: 0.9402 - val_loss: 0.3676 - val_accuracy: 0.8544\n",
            "Epoch 9/30\n",
            "625/625 - 2s - loss: 0.1475 - accuracy: 0.9471 - val_loss: 0.3894 - val_accuracy: 0.8487\n",
            "Epoch 10/30\n",
            "625/625 - 2s - loss: 0.1343 - accuracy: 0.9528 - val_loss: 0.3969 - val_accuracy: 0.8521\n",
            "Epoch 11/30\n",
            "625/625 - 3s - loss: 0.1226 - accuracy: 0.9582 - val_loss: 0.4421 - val_accuracy: 0.8375\n",
            "Epoch 12/30\n",
            "625/625 - 3s - loss: 0.1138 - accuracy: 0.9608 - val_loss: 0.4366 - val_accuracy: 0.8457\n",
            "Epoch 13/30\n",
            "625/625 - 3s - loss: 0.1033 - accuracy: 0.9665 - val_loss: 0.4559 - val_accuracy: 0.8438\n",
            "Epoch 14/30\n",
            "625/625 - 3s - loss: 0.0957 - accuracy: 0.9682 - val_loss: 0.5124 - val_accuracy: 0.8314\n",
            "Epoch 15/30\n",
            "625/625 - 3s - loss: 0.0882 - accuracy: 0.9712 - val_loss: 0.5226 - val_accuracy: 0.8340\n",
            "Epoch 16/30\n",
            "625/625 - 3s - loss: 0.0812 - accuracy: 0.9732 - val_loss: 0.5289 - val_accuracy: 0.8386\n",
            "Epoch 17/30\n",
            "625/625 - 3s - loss: 0.0753 - accuracy: 0.9765 - val_loss: 0.5527 - val_accuracy: 0.8375\n",
            "Epoch 18/30\n",
            "625/625 - 2s - loss: 0.0711 - accuracy: 0.9776 - val_loss: 0.5914 - val_accuracy: 0.8337\n",
            "Epoch 19/30\n",
            "625/625 - 3s - loss: 0.0646 - accuracy: 0.9801 - val_loss: 0.6081 - val_accuracy: 0.8319\n",
            "Epoch 20/30\n",
            "625/625 - 2s - loss: 0.0598 - accuracy: 0.9818 - val_loss: 0.6364 - val_accuracy: 0.8317\n",
            "Epoch 21/30\n",
            "625/625 - 2s - loss: 0.0563 - accuracy: 0.9826 - val_loss: 0.6703 - val_accuracy: 0.8307\n",
            "Epoch 22/30\n",
            "625/625 - 3s - loss: 0.0522 - accuracy: 0.9844 - val_loss: 0.7105 - val_accuracy: 0.8259\n",
            "Epoch 23/30\n",
            "625/625 - 3s - loss: 0.0477 - accuracy: 0.9865 - val_loss: 0.7355 - val_accuracy: 0.8244\n",
            "Epoch 24/30\n",
            "625/625 - 3s - loss: 0.0455 - accuracy: 0.9871 - val_loss: 0.8425 - val_accuracy: 0.8186\n",
            "Epoch 25/30\n",
            "625/625 - 2s - loss: 0.0422 - accuracy: 0.9880 - val_loss: 0.7931 - val_accuracy: 0.8222\n",
            "Epoch 26/30\n",
            "625/625 - 3s - loss: 0.0384 - accuracy: 0.9895 - val_loss: 0.8432 - val_accuracy: 0.8196\n",
            "Epoch 27/30\n",
            "625/625 - 3s - loss: 0.0355 - accuracy: 0.9900 - val_loss: 0.8635 - val_accuracy: 0.8192\n",
            "Epoch 28/30\n",
            "625/625 - 2s - loss: 0.0336 - accuracy: 0.9908 - val_loss: 0.8835 - val_accuracy: 0.8144\n",
            "Epoch 29/30\n",
            "625/625 - 3s - loss: 0.0302 - accuracy: 0.9919 - val_loss: 0.9214 - val_accuracy: 0.8174\n",
            "Epoch 30/30\n",
            "625/625 - 3s - loss: 0.0283 - accuracy: 0.9925 - val_loss: 0.9717 - val_accuracy: 0.8177\n"
          ],
          "name": "stdout"
        }
      ]
    },
    {
      "cell_type": "code",
      "metadata": {
        "colab_type": "code",
        "id": "2HYfBKXjkmU8",
        "colab": {
          "base_uri": "https://localhost:8080/",
          "height": 541
        },
        "outputId": "2e01e2b2-1e9a-4e36-d129-023a20a66b56"
      },
      "source": [
        "import matplotlib.pyplot as plt\n",
        "\n",
        "\n",
        "def plot_graphs(history, string):\n",
        "  plt.plot(history.history[string])\n",
        "  plt.plot(history.history['val_'+string])\n",
        "  plt.xlabel(\"Epochs\")\n",
        "  plt.ylabel(string)\n",
        "  plt.legend([string, 'val_'+string])\n",
        "  plt.show()\n",
        "  \n",
        "plot_graphs(history, \"accuracy\")\n",
        "plot_graphs(history, \"loss\")"
      ],
      "execution_count": 13,
      "outputs": [
        {
          "output_type": "display_data",
          "data": {
            "image/png": "[encoded data removed]",
            "text/plain": [
              "<Figure size 432x288 with 1 Axes>"
            ]
          },
          "metadata": {
            "tags": [],
            "needs_background": "light"
          }
        },
        {
          "output_type": "display_data",
          "data": {
            "image/png": "[encoded data removed]",
            "text/plain": [
              "<Figure size 432x288 with 1 Axes>"
            ]
          },
          "metadata": {
            "tags": [],
            "needs_background": "light"
          }
        }
      ]
    },
    {
      "cell_type": "code",
      "metadata": {
        "colab_type": "code",
        "id": "7SBdAZAenvzL",
        "colab": {
          "base_uri": "https://localhost:8080/",
          "height": 88
        },
        "outputId": "3043c7ed-f3d1-4134-c665-acff9b17e0af"
      },
      "source": [
        "reverse_word_index = dict([(value, key) for (key, value) in word_index.items()])\n",
        "\n",
        "def decode_sentence(text):\n",
        "    return ' '.join([reverse_word_index.get(i, '?') for i in text])\n",
        "\n",
        "print(decode_sentence(training_padded[0]))\n",
        "print(training_sentences[2])\n",
        "print(labels[2])"
      ],
      "execution_count": 14,
      "outputs": [
        {
          "output_type": "stream",
          "text": [
            "former <OOV> store clerk sues over secret 'black <OOV> for minority shoppers ? ? ? ? ? ? ? ? ? ? ? ? ? ? ? ? ? ? ? ? ? ? ? ? ? ? ? ? ? ? ? ? ? ? ? ? ? ? ? ? ? ? ? ? ? ? ? ? ? ? ? ? ? ? ? ? ? ? ? ? ? ? ? ? ? ? ? ? ? ? ? ? ? ? ? ? ? ? ? ? ? ? ? ? ? ? ? ?\n",
            "mom starting to fear son's web series closest thing she will have to grandchild\n",
            "1\n"
          ],
          "name": "stdout"
        }
      ]
    },
    {
      "cell_type": "code",
      "metadata": {
        "colab_type": "code",
        "id": "c9MqihtEkzQ9",
        "colab": {
          "base_uri": "https://localhost:8080/",
          "height": 34
        },
        "outputId": "c12b3579-1666-4144-9336-f8cc8303ed0d"
      },
      "source": [
        "e = model.layers[0]\n",
        "weights = e.get_weights()[0]\n",
        "print(weights.shape) # shape: (vocab_size, embedding_dim)\n"
      ],
      "execution_count": 15,
      "outputs": [
        {
          "output_type": "stream",
          "text": [
            "(10000, 16)\n"
          ],
          "name": "stdout"
        }
      ]
    },
    {
      "cell_type": "code",
      "metadata": {
        "colab_type": "code",
        "id": "LoBXVffknldU",
        "colab": {}
      },
      "source": [
        "import io\n",
        "\n",
        "out_v = io.open('vecs.tsv', 'w', encoding='utf-8')\n",
        "out_m = io.open('meta.tsv', 'w', encoding='utf-8')\n",
        "for word_num in range(1, vocab_size):\n",
        "  word = reverse_word_index[word_num]\n",
        "  embeddings = weights[word_num]\n",
        "  out_m.write(word + \"\\n\")\n",
        "  out_v.write('\\t'.join([str(x) for x in embeddings]) + \"\\n\")\n",
        "out_v.close()\n",
        "out_m.close()"
      ],
      "execution_count": 16,
      "outputs": []
    },
    {
      "cell_type": "code",
      "metadata": {
        "colab_type": "code",
        "id": "U4eZ5HtVnnEE",
        "colab": {
          "base_uri": "https://localhost:8080/",
          "height": 17
        },
        "outputId": "161d7775-1381-461b-92e7-d333444ef5a1"
      },
      "source": [
        "try:\n",
        "  from google.colab import files\n",
        "except ImportError:\n",
        "  pass\n",
        "else:\n",
        "  files.download('vecs.tsv')\n",
        "  files.download('meta.tsv')"
      ],
      "execution_count": 17,
      "outputs": [
        {
          "output_type": "display_data",
          "data": {
            "application/javascript": [
              "\n",
              "    async function download(id, filename, size) {\n",
              "      if (!google.colab.kernel.accessAllowed) {\n",
              "        return;\n",
              "      }\n",
              "      const div = document.createElement('div');\n",
              "      const label = document.createElement('label');\n",
              "      label.textContent = `Downloading \"${filename}\": `;\n",
              "      div.appendChild(label);\n",
              "      const progress = document.createElement('progress');\n",
              "      progress.max = size;\n",
              "      div.appendChild(progress);\n",
              "      document.body.appendChild(div);\n",
              "\n",
              "      const buffers = [];\n",
              "      let downloaded = 0;\n",
              "\n",
              "      const channel = await google.colab.kernel.comms.open(id);\n",
              "      // Send a message to notify the kernel that we're ready.\n",
              "      channel.send({})\n",
              "\n",
              "      for await (const message of channel.messages) {\n",
              "        // Send a message to notify the kernel that we're ready.\n",
              "        channel.send({})\n",
              "        if (message.buffers) {\n",
              "          for (const buffer of message.buffers) {\n",
              "            buffers.push(buffer);\n",
              "            downloaded += buffer.byteLength;\n",
              "            progress.value = downloaded;\n",
              "          }\n",
              "        }\n",
              "      }\n",
              "      const blob = new Blob(buffers, {type: 'application/binary'});\n",
              "      const a = document.createElement('a');\n",
              "      a.href = window.URL.createObjectURL(blob);\n",
              "      a.download = filename;\n",
              "      div.appendChild(a);\n",
              "      a.click();\n",
              "      div.remove();\n",
              "    }\n",
              "  "
            ],
            "text/plain": [
              "<IPython.core.display.Javascript object>"
            ]
          },
          "metadata": {
            "tags": []
          }
        },
        {
          "output_type": "display_data",
          "data": {
            "application/javascript": [
              "download(\"download_bcfe9fba-4bdc-47fd-a88e-b2c59acd3771\", \"vecs.tsv\", 1807105)"
            ],
            "text/plain": [
              "<IPython.core.display.Javascript object>"
            ]
          },
          "metadata": {
            "tags": []
          }
        },
        {
          "output_type": "display_data",
          "data": {
            "application/javascript": [
              "\n",
              "    async function download(id, filename, size) {\n",
              "      if (!google.colab.kernel.accessAllowed) {\n",
              "        return;\n",
              "      }\n",
              "      const div = document.createElement('div');\n",
              "      const label = document.createElement('label');\n",
              "      label.textContent = `Downloading \"${filename}\": `;\n",
              "      div.appendChild(label);\n",
              "      const progress = document.createElement('progress');\n",
              "      progress.max = size;\n",
              "      div.appendChild(progress);\n",
              "      document.body.appendChild(div);\n",
              "\n",
              "      const buffers = [];\n",
              "      let downloaded = 0;\n",
              "\n",
              "      const channel = await google.colab.kernel.comms.open(id);\n",
              "      // Send a message to notify the kernel that we're ready.\n",
              "      channel.send({})\n",
              "\n",
              "      for await (const message of channel.messages) {\n",
              "        // Send a message to notify the kernel that we're ready.\n",
              "        channel.send({})\n",
              "        if (message.buffers) {\n",
              "          for (const buffer of message.buffers) {\n",
              "            buffers.push(buffer);\n",
              "            downloaded += buffer.byteLength;\n",
              "            progress.value = downloaded;\n",
              "          }\n",
              "        }\n",
              "      }\n",
              "      const blob = new Blob(buffers, {type: 'application/binary'});\n",
              "      const a = document.createElement('a');\n",
              "      a.href = window.URL.createObjectURL(blob);\n",
              "      a.download = filename;\n",
              "      div.appendChild(a);\n",
              "      a.click();\n",
              "      div.remove();\n",
              "    }\n",
              "  "
            ],
            "text/plain": [
              "<IPython.core.display.Javascript object>"
            ]
          },
          "metadata": {
            "tags": []
          }
        },
        {
          "output_type": "display_data",
          "data": {
            "application/javascript": [
              "download(\"download_5d289edc-8807-483e-b350-afb3c20559fe\", \"meta.tsv\", 75974)"
            ],
            "text/plain": [
              "<IPython.core.display.Javascript object>"
            ]
          },
          "metadata": {
            "tags": []
          }
        }
      ]
    },
    {
      "cell_type": "code",
      "metadata": {
        "colab_type": "code",
        "id": "cG8-ArY-qDcz",
        "colab": {
          "base_uri": "https://localhost:8080/",
          "height": 51
        },
        "outputId": "7826f3b0-7573-4863-bede-66fc97307465"
      },
      "source": [
        "sentence = [\"granny starting to fear spiders in the garden might be real\", \"game of thrones season finale showing this sunday night\"]\n",
        "sequences = tokenizer.texts_to_sequences(sentence)\n",
        "padded = pad_sequences(sequences, maxlen=max_length, padding=padding_type, truncating=trunc_type)\n",
        "print(model.predict(padded))"
      ],
      "execution_count": 18,
      "outputs": [
        {
          "output_type": "stream",
          "text": [
            "[[8.6728406e-01]\n",
            " [3.0543622e-05]]\n"
          ],
          "name": "stdout"
        }
      ]
    },
    {
      "cell_type": "markdown",
      "metadata": {
        "id": "FRdPTd9WBxHJ",
        "colab_type": "text"
      },
      "source": [
        "## We Need to Tune the Hyperparameters"
      ]
    },
    {
      "cell_type": "code",
      "metadata": {
        "id": "_oxLrNwQCZ6N",
        "colab_type": "code",
        "colab": {}
      },
      "source": [
        "vocab_size = 1000 # was 10000\n",
        "embedding_dim = 16 # or 32 \n",
        "max_length = 16 # was 32\n",
        "trunc_type='post'\n",
        "padding_type='post'\n",
        "oov_tok = \"<OOV>\"\n",
        "training_size = 20000"
      ],
      "execution_count": 19,
      "outputs": []
    },
    {
      "cell_type": "code",
      "metadata": {
        "colab_type": "code",
        "id": "IB_eq9EmCnDk",
        "colab": {}
      },
      "source": [
        "tokenizer = Tokenizer(num_words=vocab_size, oov_token=oov_tok)\n",
        "tokenizer.fit_on_texts(training_sentences)\n",
        "\n",
        "word_index = tokenizer.word_index\n",
        "\n",
        "training_sequences = tokenizer.texts_to_sequences(training_sentences)\n",
        "training_padded = pad_sequences(training_sequences, maxlen=max_length, padding=padding_type, truncating=trunc_type)\n",
        "\n",
        "testing_sequences = tokenizer.texts_to_sequences(testing_sentences)\n",
        "testing_padded = pad_sequences(testing_sequences, maxlen=max_length, padding=padding_type, truncating=trunc_type)"
      ],
      "execution_count": 23,
      "outputs": []
    },
    {
      "cell_type": "code",
      "metadata": {
        "colab_type": "code",
        "id": "C4VipAb5CnDq",
        "colab": {}
      },
      "source": [
        "# Need this block to get it to work with TensorFlow 2.x\n",
        "import numpy as np\n",
        "training_padded = np.array(training_padded)\n",
        "training_labels = np.array(training_labels)\n",
        "testing_padded = np.array(testing_padded)\n",
        "testing_labels = np.array(testing_labels)"
      ],
      "execution_count": 24,
      "outputs": []
    },
    {
      "cell_type": "code",
      "metadata": {
        "colab_type": "code",
        "id": "M9V0Kx8xCQnH",
        "colab": {}
      },
      "source": [
        "model = tf.keras.Sequential([\n",
        "    tf.keras.layers.Embedding(vocab_size, embedding_dim, input_length=max_length),\n",
        "    tf.keras.layers.GlobalAveragePooling1D(),\n",
        "    tf.keras.layers.Dense(24, activation='relu'),\n",
        "    tf.keras.layers.Dense(1, activation='sigmoid')\n",
        "])\n",
        "model.compile(loss='binary_crossentropy',optimizer='adam',metrics=['accuracy'])"
      ],
      "execution_count": 25,
      "outputs": []
    },
    {
      "cell_type": "code",
      "metadata": {
        "colab_type": "code",
        "id": "CeFxjI3DCQnJ",
        "colab": {
          "base_uri": "https://localhost:8080/",
          "height": 289
        },
        "outputId": "1146d8c0-a66b-44cb-98b7-2ebde4a7563e"
      },
      "source": [
        "model.summary()\n"
      ],
      "execution_count": 26,
      "outputs": [
        {
          "output_type": "stream",
          "text": [
            "Model: \"sequential_2\"\n",
            "_________________________________________________________________\n",
            "Layer (type)                 Output Shape              Param #   \n",
            "=================================================================\n",
            "embedding_2 (Embedding)      (None, 16, 16)            16000     \n",
            "_________________________________________________________________\n",
            "global_average_pooling1d_2 ( (None, 16)                0         \n",
            "_________________________________________________________________\n",
            "dense_4 (Dense)              (None, 24)                408       \n",
            "_________________________________________________________________\n",
            "dense_5 (Dense)              (None, 1)                 25        \n",
            "=================================================================\n",
            "Total params: 16,433\n",
            "Trainable params: 16,433\n",
            "Non-trainable params: 0\n",
            "_________________________________________________________________\n"
          ],
          "name": "stdout"
        }
      ]
    },
    {
      "cell_type": "code",
      "metadata": {
        "colab_type": "code",
        "id": "_IAZ349JCQnK",
        "colab": {
          "base_uri": "https://localhost:8080/",
          "height": 1000
        },
        "outputId": "22c5e44a-e8d9-4884-9be2-891a138b3ec1"
      },
      "source": [
        "num_epochs = 30\n",
        "history = model.fit(training_padded, training_labels, epochs=num_epochs, validation_data=(testing_padded, testing_labels), verbose=2)"
      ],
      "execution_count": 27,
      "outputs": [
        {
          "output_type": "stream",
          "text": [
            "Epoch 1/30\n",
            "625/625 - 2s - loss: 0.5322 - accuracy: 0.7372 - val_loss: 0.4143 - val_accuracy: 0.8098\n",
            "Epoch 2/30\n",
            "625/625 - 2s - loss: 0.3802 - accuracy: 0.8270 - val_loss: 0.3983 - val_accuracy: 0.8131\n",
            "Epoch 3/30\n",
            "625/625 - 2s - loss: 0.3631 - accuracy: 0.8356 - val_loss: 0.4060 - val_accuracy: 0.8140\n",
            "Epoch 4/30\n",
            "625/625 - 2s - loss: 0.3573 - accuracy: 0.8383 - val_loss: 0.4034 - val_accuracy: 0.8116\n",
            "Epoch 5/30\n",
            "625/625 - 2s - loss: 0.3540 - accuracy: 0.8399 - val_loss: 0.4047 - val_accuracy: 0.8126\n",
            "Epoch 6/30\n",
            "625/625 - 2s - loss: 0.3528 - accuracy: 0.8382 - val_loss: 0.4095 - val_accuracy: 0.8122\n",
            "Epoch 7/30\n",
            "625/625 - 2s - loss: 0.3506 - accuracy: 0.8425 - val_loss: 0.4024 - val_accuracy: 0.8125\n",
            "Epoch 8/30\n",
            "625/625 - 2s - loss: 0.3487 - accuracy: 0.8409 - val_loss: 0.4030 - val_accuracy: 0.8150\n",
            "Epoch 9/30\n",
            "625/625 - 2s - loss: 0.3468 - accuracy: 0.8408 - val_loss: 0.3998 - val_accuracy: 0.8144\n",
            "Epoch 10/30\n",
            "625/625 - 2s - loss: 0.3423 - accuracy: 0.8436 - val_loss: 0.3960 - val_accuracy: 0.8161\n",
            "Epoch 11/30\n",
            "625/625 - 2s - loss: 0.3384 - accuracy: 0.8457 - val_loss: 0.3954 - val_accuracy: 0.8211\n",
            "Epoch 12/30\n",
            "625/625 - 2s - loss: 0.3353 - accuracy: 0.8479 - val_loss: 0.3954 - val_accuracy: 0.8189\n",
            "Epoch 13/30\n",
            "625/625 - 2s - loss: 0.3315 - accuracy: 0.8511 - val_loss: 0.3940 - val_accuracy: 0.8204\n",
            "Epoch 14/30\n",
            "625/625 - 2s - loss: 0.3288 - accuracy: 0.8531 - val_loss: 0.3937 - val_accuracy: 0.8211\n",
            "Epoch 15/30\n",
            "625/625 - 2s - loss: 0.3262 - accuracy: 0.8534 - val_loss: 0.3956 - val_accuracy: 0.8219\n",
            "Epoch 16/30\n",
            "625/625 - 2s - loss: 0.3238 - accuracy: 0.8543 - val_loss: 0.3963 - val_accuracy: 0.8204\n",
            "Epoch 17/30\n",
            "625/625 - 2s - loss: 0.3218 - accuracy: 0.8570 - val_loss: 0.3947 - val_accuracy: 0.8201\n",
            "Epoch 18/30\n",
            "625/625 - 2s - loss: 0.3194 - accuracy: 0.8581 - val_loss: 0.3975 - val_accuracy: 0.8165\n",
            "Epoch 19/30\n",
            "625/625 - 2s - loss: 0.3170 - accuracy: 0.8594 - val_loss: 0.4000 - val_accuracy: 0.8152\n",
            "Epoch 20/30\n",
            "625/625 - 2s - loss: 0.3155 - accuracy: 0.8593 - val_loss: 0.3994 - val_accuracy: 0.8196\n",
            "Epoch 21/30\n",
            "625/625 - 2s - loss: 0.3137 - accuracy: 0.8620 - val_loss: 0.4011 - val_accuracy: 0.8180\n",
            "Epoch 22/30\n",
            "625/625 - 2s - loss: 0.3128 - accuracy: 0.8613 - val_loss: 0.4020 - val_accuracy: 0.8196\n",
            "Epoch 23/30\n",
            "625/625 - 2s - loss: 0.3109 - accuracy: 0.8633 - val_loss: 0.4040 - val_accuracy: 0.8189\n",
            "Epoch 24/30\n",
            "625/625 - 2s - loss: 0.3096 - accuracy: 0.8641 - val_loss: 0.4054 - val_accuracy: 0.8196\n",
            "Epoch 25/30\n",
            "625/625 - 2s - loss: 0.3083 - accuracy: 0.8638 - val_loss: 0.4073 - val_accuracy: 0.8211\n",
            "Epoch 26/30\n",
            "625/625 - 2s - loss: 0.3066 - accuracy: 0.8647 - val_loss: 0.4138 - val_accuracy: 0.8137\n",
            "Epoch 27/30\n",
            "625/625 - 2s - loss: 0.3058 - accuracy: 0.8646 - val_loss: 0.4099 - val_accuracy: 0.8159\n",
            "Epoch 28/30\n",
            "625/625 - 2s - loss: 0.3054 - accuracy: 0.8647 - val_loss: 0.4120 - val_accuracy: 0.8176\n",
            "Epoch 29/30\n",
            "625/625 - 2s - loss: 0.3034 - accuracy: 0.8658 - val_loss: 0.4121 - val_accuracy: 0.8176\n",
            "Epoch 30/30\n",
            "625/625 - 2s - loss: 0.3026 - accuracy: 0.8658 - val_loss: 0.4149 - val_accuracy: 0.8153\n"
          ],
          "name": "stdout"
        }
      ]
    },
    {
      "cell_type": "code",
      "metadata": {
        "id": "bH37bP6DCc2q",
        "colab_type": "code",
        "colab": {
          "base_uri": "https://localhost:8080/",
          "height": 541
        },
        "outputId": "64e8750e-b9cf-4c2f-f430-fb2b7b7016d4"
      },
      "source": [
        "import matplotlib.pyplot as plt\n",
        "\n",
        "\n",
        "def plot_graphs(history, string):\n",
        "  plt.plot(history.history[string])\n",
        "  plt.plot(history.history['val_'+string])\n",
        "  plt.xlabel(\"Epochs\")\n",
        "  plt.ylabel(string)\n",
        "  plt.legend([string, 'val_'+string])\n",
        "  plt.show()\n",
        "  \n",
        "plot_graphs(history, \"accuracy\")\n",
        "plot_graphs(history, \"loss\")"
      ],
      "execution_count": 28,
      "outputs": [
        {
          "output_type": "display_data",
          "data": {
            "image/png": "[encoded data removed]",
            "text/plain": [
              "<Figure size 432x288 with 1 Axes>"
            ]
          },
          "metadata": {
            "tags": [],
            "needs_background": "light"
          }
        },
        {
          "output_type": "display_data",
          "data": {
            "image/png": "[encoded data removed]",
            "text/plain": [
              "<Figure size 432x288 with 1 Axes>"
            ]
          },
          "metadata": {
            "tags": [],
            "needs_background": "light"
          }
        }
      ]
    }
  ]
}