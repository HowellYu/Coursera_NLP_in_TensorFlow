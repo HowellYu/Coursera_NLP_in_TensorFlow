{
  "nbformat": 4,
  "nbformat_minor": 0,
  "metadata": {
    "accelerator": "GPU",
    "colab": {
      "name": "Course 3 - Week 3 - Lesson 2 - Sarcasm with Bidirectional LSTM.ipynb",
      "provenance": [],
      "collapsed_sections": [],
      "toc_visible": true
    },
    "kernelspec": {
      "display_name": "Python 3",
      "language": "python",
      "name": "python3"
    },
    "language_info": {
      "codemirror_mode": {
        "name": "ipython",
        "version": 3
      },
      "file_extension": ".py",
      "mimetype": "text/x-python",
      "name": "python",
      "nbconvert_exporter": "python",
      "pygments_lexer": "ipython3",
      "version": "3.7.6"
    }
  },
  "cells": [
    {
      "cell_type": "code",
      "metadata": {
        "colab_type": "code",
        "id": "zX4Kg8DUTKWO",
        "colab": {}
      },
      "source": [
        "#@title Licensed under the Apache License, Version 2.0 (the \"License\");\n",
        "# you may not use this file except in compliance with the License.\n",
        "# You may obtain a copy of the License at\n",
        "#\n",
        "# https://www.apache.org/licenses/LICENSE-2.0\n",
        "#\n",
        "# Unless required by applicable law or agreed to in writing, software\n",
        "# distributed under the License is distributed on an \"AS IS\" BASIS,\n",
        "# WITHOUT WARRANTIES OR CONDITIONS OF ANY KIND, either express or implied.\n",
        "# See the License for the specific language governing permissions and\n",
        "# limitations under the License."
      ],
      "execution_count": 1,
      "outputs": []
    },
    {
      "cell_type": "markdown",
      "metadata": {
        "id": "dgKEtjEoT7uA",
        "colab_type": "text"
      },
      "source": [
        "<a href=\"https://colab.research.google.com/github/lmoroney/dlaicourse/blob/master/TensorFlow%20In%20Practice/Course%203%20-%20NLP/Course%203%20-%20Week%203%20-%20Lesson%202.ipynb\" target=\"_parent\"><img src=\"https://colab.research.google.com/assets/colab-badge.svg\" alt=\"Open In Colab\"/></a>"
      ]
    },
    {
      "cell_type": "code",
      "metadata": {
        "colab_type": "code",
        "id": "jGwXGIXvFhXW",
        "colab": {
          "base_uri": "https://localhost:8080/",
          "height": 1000
        },
        "outputId": "4f93416e-718a-448c-89a7-8fecbba598af"
      },
      "source": [
        "import numpy as np\n",
        "\n",
        "import json\n",
        "import tensorflow as tf\n",
        "\n",
        "from tensorflow.keras.preprocessing.text import Tokenizer\n",
        "from tensorflow.keras.preprocessing.sequence import pad_sequences\n",
        "\n",
        "!wget --no-check-certificate \\\n",
        "    https://storage.googleapis.com/laurencemoroney-blog.appspot.com/sarcasm.json \\\n",
        "    -O /tmp/sarcasm.json\n",
        "\n",
        "vocab_size = 1000\n",
        "embedding_dim = 16\n",
        "max_length = 120\n",
        "trunc_type='post'\n",
        "padding_type='post'\n",
        "oov_tok = \"<OOV>\"\n",
        "training_size = 20000\n",
        "\n",
        "\n",
        "with open(\"/tmp/sarcasm.json\", 'r') as f:\n",
        "    datastore = json.load(f)\n",
        "\n",
        "\n",
        "sentences = []\n",
        "labels = []\n",
        "urls = []\n",
        "for item in datastore:\n",
        "    sentences.append(item['headline'])\n",
        "    labels.append(item['is_sarcastic'])\n",
        "\n",
        "training_sentences = sentences[0:training_size]\n",
        "testing_sentences = sentences[training_size:]\n",
        "training_labels = labels[0:training_size]\n",
        "testing_labels = labels[training_size:]\n",
        "\n",
        "tokenizer = Tokenizer(num_words=vocab_size, oov_token=oov_tok)\n",
        "tokenizer.fit_on_texts(training_sentences)\n",
        "\n",
        "word_index = tokenizer.word_index\n",
        "\n",
        "training_sequences = tokenizer.texts_to_sequences(training_sentences)\n",
        "training_padded = pad_sequences(training_sequences, maxlen=max_length, padding=padding_type, truncating=trunc_type)\n",
        "\n",
        "testing_sequences = tokenizer.texts_to_sequences(testing_sentences)\n",
        "testing_padded = pad_sequences(testing_sequences, maxlen=max_length, padding=padding_type, truncating=trunc_type)\n",
        "\n",
        "model = tf.keras.Sequential([\n",
        "    tf.keras.layers.Embedding(vocab_size, embedding_dim, input_length=max_length),\n",
        "    tf.keras.layers.Bidirectional(tf.keras.layers.LSTM(32)),\n",
        "    tf.keras.layers.Dense(24, activation='relu'),\n",
        "    tf.keras.layers.Dense(1, activation='sigmoid')\n",
        "])\n",
        "model.compile(loss='binary_crossentropy',optimizer='adam',metrics=['accuracy'])\n",
        "model.summary()\n",
        "\n",
        "num_epochs = 50\n",
        "training_padded = np.array(training_padded)\n",
        "training_labels = np.array(training_labels)\n",
        "testing_padded = np.array(testing_padded)\n",
        "testing_labels = np.array(testing_labels)\n",
        "history = model.fit(training_padded, training_labels, epochs=num_epochs, validation_data=(testing_padded, testing_labels), verbose=1)\n"
      ],
      "execution_count": 2,
      "outputs": [
        {
          "output_type": "stream",
          "text": [
            "--2020-09-10 04:40:26--  https://storage.googleapis.com/laurencemoroney-blog.appspot.com/sarcasm.json\n",
            "Resolving storage.googleapis.com (storage.googleapis.com)... 74.125.20.128, 74.125.142.128, 74.125.195.128, ...\n",
            "Connecting to storage.googleapis.com (storage.googleapis.com)|74.125.20.128|:443... connected.\n",
            "HTTP request sent, awaiting response... 200 OK\n",
            "Length: 5643545 (5.4M) [application/json]\n",
            "Saving to: ‘/tmp/sarcasm.json’\n",
            "\n",
            "\r/tmp/sarcasm.json     0%[                    ]       0  --.-KB/s               \r/tmp/sarcasm.json   100%[===================>]   5.38M  --.-KB/s    in 0.03s   \n",
            "\n",
            "2020-09-10 04:40:26 (186 MB/s) - ‘/tmp/sarcasm.json’ saved [5643545/5643545]\n",
            "\n",
            "Model: \"sequential\"\n",
            "_________________________________________________________________\n",
            "Layer (type)                 Output Shape              Param #   \n",
            "=================================================================\n",
            "embedding (Embedding)        (None, 120, 16)           16000     \n",
            "_________________________________________________________________\n",
            "bidirectional (Bidirectional (None, 64)                12544     \n",
            "_________________________________________________________________\n",
            "dense (Dense)                (None, 24)                1560      \n",
            "_________________________________________________________________\n",
            "dense_1 (Dense)              (None, 1)                 25        \n",
            "=================================================================\n",
            "Total params: 30,129\n",
            "Trainable params: 30,129\n",
            "Non-trainable params: 0\n",
            "_________________________________________________________________\n",
            "Epoch 1/50\n",
            "625/625 [==============================] - 10s 15ms/step - loss: 0.4512 - accuracy: 0.7718 - val_loss: 0.3894 - val_accuracy: 0.8210\n",
            "Epoch 2/50\n",
            "625/625 [==============================] - 9s 14ms/step - loss: 0.3584 - accuracy: 0.8350 - val_loss: 0.3755 - val_accuracy: 0.8289\n",
            "Epoch 3/50\n",
            "625/625 [==============================] - 9s 14ms/step - loss: 0.3398 - accuracy: 0.8443 - val_loss: 0.4031 - val_accuracy: 0.8101\n",
            "Epoch 4/50\n",
            "625/625 [==============================] - 9s 14ms/step - loss: 0.3202 - accuracy: 0.8569 - val_loss: 0.3679 - val_accuracy: 0.8351\n",
            "Epoch 5/50\n",
            "625/625 [==============================] - 9s 14ms/step - loss: 0.3055 - accuracy: 0.8623 - val_loss: 0.3755 - val_accuracy: 0.8310\n",
            "Epoch 6/50\n",
            "625/625 [==============================] - 9s 15ms/step - loss: 0.2955 - accuracy: 0.8699 - val_loss: 0.3808 - val_accuracy: 0.8278\n",
            "Epoch 7/50\n",
            "625/625 [==============================] - 9s 14ms/step - loss: 0.2832 - accuracy: 0.8743 - val_loss: 0.3744 - val_accuracy: 0.8305\n",
            "Epoch 8/50\n",
            "625/625 [==============================] - 9s 14ms/step - loss: 0.2754 - accuracy: 0.8789 - val_loss: 0.3853 - val_accuracy: 0.8292\n",
            "Epoch 9/50\n",
            "625/625 [==============================] - 9s 14ms/step - loss: 0.2676 - accuracy: 0.8827 - val_loss: 0.3872 - val_accuracy: 0.8269\n",
            "Epoch 10/50\n",
            "625/625 [==============================] - 9s 15ms/step - loss: 0.2600 - accuracy: 0.8878 - val_loss: 0.4090 - val_accuracy: 0.8268\n",
            "Epoch 11/50\n",
            "625/625 [==============================] - 9s 14ms/step - loss: 0.2505 - accuracy: 0.8903 - val_loss: 0.4164 - val_accuracy: 0.8238\n",
            "Epoch 12/50\n",
            "625/625 [==============================] - 9s 15ms/step - loss: 0.2445 - accuracy: 0.8939 - val_loss: 0.4563 - val_accuracy: 0.8214\n",
            "Epoch 13/50\n",
            "625/625 [==============================] - 9s 14ms/step - loss: 0.2380 - accuracy: 0.8956 - val_loss: 0.4305 - val_accuracy: 0.8274\n",
            "Epoch 14/50\n",
            "625/625 [==============================] - 9s 14ms/step - loss: 0.2291 - accuracy: 0.9038 - val_loss: 0.4409 - val_accuracy: 0.8241\n",
            "Epoch 15/50\n",
            "625/625 [==============================] - 9s 14ms/step - loss: 0.2210 - accuracy: 0.9076 - val_loss: 0.4606 - val_accuracy: 0.8190\n",
            "Epoch 16/50\n",
            "625/625 [==============================] - 9s 14ms/step - loss: 0.2151 - accuracy: 0.9082 - val_loss: 0.4699 - val_accuracy: 0.8177\n",
            "Epoch 17/50\n",
            "625/625 [==============================] - 9s 14ms/step - loss: 0.2080 - accuracy: 0.9112 - val_loss: 0.4752 - val_accuracy: 0.8188\n",
            "Epoch 18/50\n",
            "625/625 [==============================] - 9s 14ms/step - loss: 0.1990 - accuracy: 0.9178 - val_loss: 0.5264 - val_accuracy: 0.8135\n",
            "Epoch 19/50\n",
            "625/625 [==============================] - 9s 14ms/step - loss: 0.1935 - accuracy: 0.9193 - val_loss: 0.5432 - val_accuracy: 0.8179\n",
            "Epoch 20/50\n",
            "625/625 [==============================] - 9s 14ms/step - loss: 0.1897 - accuracy: 0.9211 - val_loss: 0.5585 - val_accuracy: 0.8128\n",
            "Epoch 21/50\n",
            "625/625 [==============================] - 9s 14ms/step - loss: 0.1801 - accuracy: 0.9254 - val_loss: 0.5837 - val_accuracy: 0.8132\n",
            "Epoch 22/50\n",
            "625/625 [==============================] - 9s 14ms/step - loss: 0.1759 - accuracy: 0.9272 - val_loss: 0.5770 - val_accuracy: 0.8126\n",
            "Epoch 23/50\n",
            "625/625 [==============================] - 9s 15ms/step - loss: 0.1702 - accuracy: 0.9299 - val_loss: 0.6260 - val_accuracy: 0.8113\n",
            "Epoch 24/50\n",
            "625/625 [==============================] - 9s 15ms/step - loss: 0.1599 - accuracy: 0.9329 - val_loss: 0.6333 - val_accuracy: 0.8110\n",
            "Epoch 25/50\n",
            "625/625 [==============================] - 9s 14ms/step - loss: 0.1587 - accuracy: 0.9330 - val_loss: 0.6851 - val_accuracy: 0.8061\n",
            "Epoch 26/50\n",
            "625/625 [==============================] - 9s 14ms/step - loss: 0.1516 - accuracy: 0.9367 - val_loss: 0.7360 - val_accuracy: 0.8107\n",
            "Epoch 27/50\n",
            "625/625 [==============================] - 9s 14ms/step - loss: 0.1476 - accuracy: 0.9387 - val_loss: 0.7423 - val_accuracy: 0.8076\n",
            "Epoch 28/50\n",
            "625/625 [==============================] - 9s 14ms/step - loss: 0.1439 - accuracy: 0.9398 - val_loss: 0.7833 - val_accuracy: 0.8097\n",
            "Epoch 29/50\n",
            "625/625 [==============================] - 9s 14ms/step - loss: 0.1339 - accuracy: 0.9442 - val_loss: 0.8390 - val_accuracy: 0.8028\n",
            "Epoch 30/50\n",
            "625/625 [==============================] - 9s 14ms/step - loss: 0.1299 - accuracy: 0.9456 - val_loss: 0.8421 - val_accuracy: 0.8010\n",
            "Epoch 31/50\n",
            "625/625 [==============================] - 9s 14ms/step - loss: 0.1202 - accuracy: 0.9499 - val_loss: 0.9673 - val_accuracy: 0.7991\n",
            "Epoch 32/50\n",
            "625/625 [==============================] - 9s 14ms/step - loss: 0.1213 - accuracy: 0.9492 - val_loss: 0.9632 - val_accuracy: 0.7959\n",
            "Epoch 33/50\n",
            "625/625 [==============================] - 9s 14ms/step - loss: 0.1128 - accuracy: 0.9537 - val_loss: 1.0413 - val_accuracy: 0.7973\n",
            "Epoch 34/50\n",
            "625/625 [==============================] - 9s 14ms/step - loss: 0.1089 - accuracy: 0.9549 - val_loss: 1.0915 - val_accuracy: 0.7982\n",
            "Epoch 35/50\n",
            "625/625 [==============================] - 9s 14ms/step - loss: 0.1054 - accuracy: 0.9568 - val_loss: 1.1217 - val_accuracy: 0.7973\n",
            "Epoch 36/50\n",
            "625/625 [==============================] - 9s 14ms/step - loss: 0.0997 - accuracy: 0.9595 - val_loss: 1.0797 - val_accuracy: 0.7964\n",
            "Epoch 37/50\n",
            "625/625 [==============================] - 9s 14ms/step - loss: 0.1024 - accuracy: 0.9574 - val_loss: 1.1290 - val_accuracy: 0.8006\n",
            "Epoch 38/50\n",
            "625/625 [==============================] - 9s 14ms/step - loss: 0.0916 - accuracy: 0.9614 - val_loss: 1.2351 - val_accuracy: 0.8004\n",
            "Epoch 39/50\n",
            "625/625 [==============================] - 9s 14ms/step - loss: 0.0880 - accuracy: 0.9635 - val_loss: 1.1790 - val_accuracy: 0.7958\n",
            "Epoch 40/50\n",
            "625/625 [==============================] - 9s 14ms/step - loss: 0.0889 - accuracy: 0.9638 - val_loss: 1.3379 - val_accuracy: 0.7985\n",
            "Epoch 41/50\n",
            "625/625 [==============================] - 9s 14ms/step - loss: 0.0866 - accuracy: 0.9633 - val_loss: 1.3466 - val_accuracy: 0.8001\n",
            "Epoch 42/50\n",
            "625/625 [==============================] - 9s 15ms/step - loss: 0.0843 - accuracy: 0.9646 - val_loss: 1.3589 - val_accuracy: 0.7936\n",
            "Epoch 43/50\n",
            "625/625 [==============================] - 9s 15ms/step - loss: 0.0778 - accuracy: 0.9682 - val_loss: 1.5096 - val_accuracy: 0.7970\n",
            "Epoch 44/50\n",
            "625/625 [==============================] - 9s 14ms/step - loss: 0.0721 - accuracy: 0.9709 - val_loss: 1.5466 - val_accuracy: 0.7924\n",
            "Epoch 45/50\n",
            "625/625 [==============================] - 9s 14ms/step - loss: 0.0709 - accuracy: 0.9704 - val_loss: 1.5708 - val_accuracy: 0.7900\n",
            "Epoch 46/50\n",
            "625/625 [==============================] - 9s 15ms/step - loss: 0.0744 - accuracy: 0.9687 - val_loss: 1.4997 - val_accuracy: 0.7951\n",
            "Epoch 47/50\n",
            "625/625 [==============================] - 9s 15ms/step - loss: 0.0699 - accuracy: 0.9707 - val_loss: 1.5316 - val_accuracy: 0.7952\n",
            "Epoch 48/50\n",
            "625/625 [==============================] - 9s 14ms/step - loss: 0.0657 - accuracy: 0.9725 - val_loss: 1.6840 - val_accuracy: 0.7922\n",
            "Epoch 49/50\n",
            "625/625 [==============================] - 9s 14ms/step - loss: 0.0621 - accuracy: 0.9747 - val_loss: 1.7169 - val_accuracy: 0.7992\n",
            "Epoch 50/50\n",
            "625/625 [==============================] - 9s 14ms/step - loss: 0.0597 - accuracy: 0.9755 - val_loss: 1.7529 - val_accuracy: 0.7915\n"
          ],
          "name": "stdout"
        }
      ]
    },
    {
      "cell_type": "code",
      "metadata": {
        "colab_type": "code",
        "id": "g9DC6dmLF8DC",
        "colab": {
          "base_uri": "https://localhost:8080/",
          "height": 541
        },
        "outputId": "9ad4d3f4-303f-4842-f535-c73c2b59f00b"
      },
      "source": [
        "import matplotlib.pyplot as plt\n",
        "\n",
        "\n",
        "def plot_graphs(history, string):\n",
        "  plt.plot(history.history[string])\n",
        "  plt.plot(history.history['val_'+string])\n",
        "  plt.xlabel(\"Epochs\")\n",
        "  plt.ylabel(string)\n",
        "  plt.legend([string, 'val_'+string])\n",
        "  plt.show()\n",
        "\n",
        "plot_graphs(history, 'accuracy')\n",
        "plot_graphs(history, 'loss')"
      ],
      "execution_count": 3,
      "outputs": [
        {
          "output_type": "display_data",
          "data": {
            "image/png": "[encoded data removed]",
            "text/plain": [
              "<Figure size 432x288 with 1 Axes>"
            ]
          },
          "metadata": {
            "tags": [],
            "needs_background": "light"
          }
        },
        {
          "output_type": "display_data",
          "data": {
            "image/png": "[encoded data removed]",
            "text/plain": [
              "<Figure size 432x288 with 1 Axes>"
            ]
          },
          "metadata": {
            "tags": [],
            "needs_background": "light"
          }
        }
      ]
    },
    {
      "cell_type": "code",
      "metadata": {
        "colab_type": "code",
        "id": "7ZEZIUppGhdi",
        "colab": {}
      },
      "source": [
        "model.save(\"test.h5\")"
      ],
      "execution_count": 4,
      "outputs": []
    }
  ]
}