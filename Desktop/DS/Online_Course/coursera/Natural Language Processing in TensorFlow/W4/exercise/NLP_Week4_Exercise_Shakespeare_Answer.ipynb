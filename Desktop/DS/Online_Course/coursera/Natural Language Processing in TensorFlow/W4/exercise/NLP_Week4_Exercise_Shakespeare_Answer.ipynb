{
  "nbformat": 4,
  "nbformat_minor": 0,
  "metadata": {
    "accelerator": "GPU",
    "colab": {
      "name": "NLP_Week4_Exercise_Shakespeare_Answer.ipynb",
      "provenance": [],
      "toc_visible": true
    },
    "kernelspec": {
      "display_name": "Python 3",
      "name": "python3"
    }
  },
  "cells": [
    {
      "cell_type": "code",
      "metadata": {
        "id": "zX4Kg8DUTKWO",
        "colab_type": "code",
        "colab": {}
      },
      "source": [
        "#@title Licensed under the Apache License, Version 2.0 (the \"License\");\n",
        "# you may not use this file except in compliance with the License.\n",
        "# You may obtain a copy of the License at\n",
        "#\n",
        "# https://www.apache.org/licenses/LICENSE-2.0\n",
        "#\n",
        "# Unless required by applicable law or agreed to in writing, software\n",
        "# distributed under the License is distributed on an \"AS IS\" BASIS,\n",
        "# WITHOUT WARRANTIES OR CONDITIONS OF ANY KIND, either express or implied.\n",
        "# See the License for the specific language governing permissions and\n",
        "# limitations under the License."
      ],
      "execution_count": 1,
      "outputs": []
    },
    {
      "cell_type": "code",
      "metadata": {
        "colab_type": "code",
        "id": "BOwsuGQQY9OL",
        "colab": {}
      },
      "source": [
        "from tensorflow.keras.preprocessing.sequence import pad_sequences\n",
        "from tensorflow.keras.layers import Embedding, LSTM, Dense, Dropout, Bidirectional\n",
        "from tensorflow.keras.preprocessing.text import Tokenizer\n",
        "from tensorflow.keras.models import Sequential\n",
        "from tensorflow.keras.optimizers import Adam\n",
        "from tensorflow.keras import regularizers\n",
        "import tensorflow.keras.utils as ku \n",
        "import numpy as np "
      ],
      "execution_count": 2,
      "outputs": []
    },
    {
      "cell_type": "code",
      "metadata": {
        "colab_type": "code",
        "id": "PRnDnCW-Z7qv",
        "colab": {
          "base_uri": "https://localhost:8080/",
          "height": 204
        },
        "outputId": "0221c385-63d9-4fa5-c574-02cefa9b793e"
      },
      "source": [
        "tokenizer = Tokenizer()\n",
        "!wget --no-check-certificate \\\n",
        "    https://storage.googleapis.com/laurencemoroney-blog.appspot.com/sonnets.txt \\\n",
        "    -O /tmp/sonnets.txt\n",
        "data = open('/tmp/sonnets.txt').read()\n",
        "\n",
        "corpus = data.lower().split(\"\\n\")\n",
        "\n",
        "\n",
        "tokenizer.fit_on_texts(corpus)\n",
        "total_words = len(tokenizer.word_index) + 1\n",
        "\n",
        "# create input sequences using list of tokens\n",
        "input_sequences = []\n",
        "for line in corpus:\n",
        "\ttoken_list = tokenizer.texts_to_sequences([line])[0]\n",
        "\tfor i in range(1, len(token_list)):\n",
        "\t\tn_gram_sequence = token_list[:i+1]\n",
        "\t\tinput_sequences.append(n_gram_sequence)\n",
        "\n",
        "\n",
        "# pad sequences \n",
        "max_sequence_len = max([len(x) for x in input_sequences])\n",
        "input_sequences = np.array(pad_sequences(input_sequences, maxlen=max_sequence_len, padding='pre'))\n",
        "\n",
        "# create predictors and label\n",
        "predictors, label = input_sequences[:,:-1],input_sequences[:,-1]\n",
        "\n",
        "label = ku.to_categorical(label, num_classes=total_words)"
      ],
      "execution_count": 3,
      "outputs": [
        {
          "output_type": "stream",
          "text": [
            "--2020-09-11 02:45:51--  https://storage.googleapis.com/laurencemoroney-blog.appspot.com/sonnets.txt\n",
            "Resolving storage.googleapis.com (storage.googleapis.com)... 74.125.199.128, 74.125.142.128, 74.125.195.128, ...\n",
            "Connecting to storage.googleapis.com (storage.googleapis.com)|74.125.199.128|:443... connected.\n",
            "HTTP request sent, awaiting response... 200 OK\n",
            "Length: 93578 (91K) [text/plain]\n",
            "Saving to: ‘/tmp/sonnets.txt’\n",
            "\n",
            "\r/tmp/sonnets.txt      0%[                    ]       0  --.-KB/s               \r/tmp/sonnets.txt    100%[===================>]  91.38K  --.-KB/s    in 0.001s  \n",
            "\n",
            "2020-09-11 02:45:51 (69.0 MB/s) - ‘/tmp/sonnets.txt’ saved [93578/93578]\n",
            "\n"
          ],
          "name": "stdout"
        }
      ]
    },
    {
      "cell_type": "code",
      "metadata": {
        "colab_type": "code",
        "id": "w9vH8Y59ajYL",
        "colab": {
          "base_uri": "https://localhost:8080/",
          "height": 374
        },
        "outputId": "e58f4d78-65e4-4f31-eaee-8efb576c7d60"
      },
      "source": [
        "model = Sequential()\n",
        "model.add(Embedding(total_words, 100, input_length=max_sequence_len-1))\n",
        "model.add(Bidirectional(LSTM(150, return_sequences = True)))\n",
        "model.add(Dropout(0.2))\n",
        "model.add(LSTM(100))\n",
        "model.add(Dense(total_words/2, activation='relu', kernel_regularizer=regularizers.l2(0.01)))\n",
        "model.add(Dense(total_words, activation='softmax'))\n",
        "model.compile(loss='categorical_crossentropy', optimizer='adam', metrics=['accuracy'])\n",
        "print(model.summary())\n"
      ],
      "execution_count": 4,
      "outputs": [
        {
          "output_type": "stream",
          "text": [
            "Model: \"sequential\"\n",
            "_________________________________________________________________\n",
            "Layer (type)                 Output Shape              Param #   \n",
            "=================================================================\n",
            "embedding (Embedding)        (None, 10, 100)           321100    \n",
            "_________________________________________________________________\n",
            "bidirectional (Bidirectional (None, 10, 300)           301200    \n",
            "_________________________________________________________________\n",
            "dropout (Dropout)            (None, 10, 300)           0         \n",
            "_________________________________________________________________\n",
            "lstm_1 (LSTM)                (None, 100)               160400    \n",
            "_________________________________________________________________\n",
            "dense (Dense)                (None, 1605)              162105    \n",
            "_________________________________________________________________\n",
            "dense_1 (Dense)              (None, 3211)              5156866   \n",
            "=================================================================\n",
            "Total params: 6,101,671\n",
            "Trainable params: 6,101,671\n",
            "Non-trainable params: 0\n",
            "_________________________________________________________________\n",
            "None\n"
          ],
          "name": "stdout"
        }
      ]
    },
    {
      "cell_type": "code",
      "metadata": {
        "colab_type": "code",
        "id": "AIg2f1HBxqof",
        "colab": {
          "base_uri": "https://localhost:8080/",
          "height": 1000
        },
        "outputId": "471ac524-8162-4d7f-8792-cc6e0b472d50"
      },
      "source": [
        " history = model.fit(predictors, label, epochs=100, verbose=1)"
      ],
      "execution_count": 5,
      "outputs": [
        {
          "output_type": "stream",
          "text": [
            "Epoch 1/100\n",
            "484/484 [==============================] - 6s 12ms/step - loss: 6.9014 - accuracy: 0.0217\n",
            "Epoch 2/100\n",
            "484/484 [==============================] - 6s 12ms/step - loss: 6.5017 - accuracy: 0.0219\n",
            "Epoch 3/100\n",
            "484/484 [==============================] - 6s 11ms/step - loss: 6.4148 - accuracy: 0.0230\n",
            "Epoch 4/100\n",
            "484/484 [==============================] - 6s 11ms/step - loss: 6.3024 - accuracy: 0.0299\n",
            "Epoch 5/100\n",
            "484/484 [==============================] - 6s 11ms/step - loss: 6.1919 - accuracy: 0.0344\n",
            "Epoch 6/100\n",
            "484/484 [==============================] - 6s 12ms/step - loss: 6.0995 - accuracy: 0.0379\n",
            "Epoch 7/100\n",
            "484/484 [==============================] - 6s 12ms/step - loss: 6.0153 - accuracy: 0.0412\n",
            "Epoch 8/100\n",
            "484/484 [==============================] - 6s 11ms/step - loss: 5.9291 - accuracy: 0.0448\n",
            "Epoch 9/100\n",
            "484/484 [==============================] - 6s 12ms/step - loss: 5.8333 - accuracy: 0.0515\n",
            "Epoch 10/100\n",
            "484/484 [==============================] - 6s 12ms/step - loss: 5.7276 - accuracy: 0.0564\n",
            "Epoch 11/100\n",
            "484/484 [==============================] - 6s 12ms/step - loss: 5.6242 - accuracy: 0.0605\n",
            "Epoch 12/100\n",
            "484/484 [==============================] - 6s 12ms/step - loss: 5.5257 - accuracy: 0.0668\n",
            "Epoch 13/100\n",
            "484/484 [==============================] - 6s 12ms/step - loss: 5.4248 - accuracy: 0.0759\n",
            "Epoch 14/100\n",
            "484/484 [==============================] - 6s 12ms/step - loss: 5.3169 - accuracy: 0.0817\n",
            "Epoch 15/100\n",
            "484/484 [==============================] - 6s 12ms/step - loss: 5.2131 - accuracy: 0.0896\n",
            "Epoch 16/100\n",
            "484/484 [==============================] - 6s 11ms/step - loss: 5.1149 - accuracy: 0.0939\n",
            "Epoch 17/100\n",
            "484/484 [==============================] - 5s 11ms/step - loss: 5.0124 - accuracy: 0.1026\n",
            "Epoch 18/100\n",
            "484/484 [==============================] - 6s 12ms/step - loss: 4.9077 - accuracy: 0.1134\n",
            "Epoch 19/100\n",
            "484/484 [==============================] - 6s 12ms/step - loss: 4.8090 - accuracy: 0.1243\n",
            "Epoch 20/100\n",
            "484/484 [==============================] - 6s 12ms/step - loss: 4.7114 - accuracy: 0.1276\n",
            "Epoch 21/100\n",
            "484/484 [==============================] - 6s 12ms/step - loss: 4.6142 - accuracy: 0.1402\n",
            "Epoch 22/100\n",
            "484/484 [==============================] - 5s 11ms/step - loss: 4.5189 - accuracy: 0.1515\n",
            "Epoch 23/100\n",
            "484/484 [==============================] - 5s 11ms/step - loss: 4.4201 - accuracy: 0.1614\n",
            "Epoch 24/100\n",
            "484/484 [==============================] - 6s 11ms/step - loss: 4.3184 - accuracy: 0.1748\n",
            "Epoch 25/100\n",
            "484/484 [==============================] - 6s 12ms/step - loss: 4.2243 - accuracy: 0.1855\n",
            "Epoch 26/100\n",
            "484/484 [==============================] - 6s 12ms/step - loss: 4.1263 - accuracy: 0.1980\n",
            "Epoch 27/100\n",
            "484/484 [==============================] - 6s 12ms/step - loss: 4.0356 - accuracy: 0.2108\n",
            "Epoch 28/100\n",
            "484/484 [==============================] - 6s 12ms/step - loss: 3.9414 - accuracy: 0.2266\n",
            "Epoch 29/100\n",
            "484/484 [==============================] - 6s 12ms/step - loss: 3.8379 - accuracy: 0.2443\n",
            "Epoch 30/100\n",
            "484/484 [==============================] - 6s 12ms/step - loss: 3.7517 - accuracy: 0.2548\n",
            "Epoch 31/100\n",
            "484/484 [==============================] - 6s 12ms/step - loss: 3.6602 - accuracy: 0.2760\n",
            "Epoch 32/100\n",
            "484/484 [==============================] - 6s 12ms/step - loss: 3.5770 - accuracy: 0.2883\n",
            "Epoch 33/100\n",
            "484/484 [==============================] - 6s 12ms/step - loss: 3.4917 - accuracy: 0.3075\n",
            "Epoch 34/100\n",
            "484/484 [==============================] - 5s 11ms/step - loss: 3.3983 - accuracy: 0.3267\n",
            "Epoch 35/100\n",
            "484/484 [==============================] - 6s 11ms/step - loss: 3.3223 - accuracy: 0.3443\n",
            "Epoch 36/100\n",
            "484/484 [==============================] - 6s 12ms/step - loss: 3.2422 - accuracy: 0.3589\n",
            "Epoch 37/100\n",
            "484/484 [==============================] - 6s 12ms/step - loss: 3.1694 - accuracy: 0.3792\n",
            "Epoch 38/100\n",
            "484/484 [==============================] - 6s 12ms/step - loss: 3.0962 - accuracy: 0.3961\n",
            "Epoch 39/100\n",
            "484/484 [==============================] - 6s 12ms/step - loss: 3.0159 - accuracy: 0.4115\n",
            "Epoch 40/100\n",
            "484/484 [==============================] - 6s 12ms/step - loss: 2.9476 - accuracy: 0.4275\n",
            "Epoch 41/100\n",
            "484/484 [==============================] - 6s 12ms/step - loss: 2.8837 - accuracy: 0.4393\n",
            "Epoch 42/100\n",
            "484/484 [==============================] - 6s 11ms/step - loss: 2.8201 - accuracy: 0.4557\n",
            "Epoch 43/100\n",
            "484/484 [==============================] - 6s 12ms/step - loss: 2.7593 - accuracy: 0.4713\n",
            "Epoch 44/100\n",
            "484/484 [==============================] - 6s 12ms/step - loss: 2.6926 - accuracy: 0.4864\n",
            "Epoch 45/100\n",
            "484/484 [==============================] - 6s 11ms/step - loss: 2.6362 - accuracy: 0.5005\n",
            "Epoch 46/100\n",
            "484/484 [==============================] - 6s 12ms/step - loss: 2.5729 - accuracy: 0.5135\n",
            "Epoch 47/100\n",
            "484/484 [==============================] - 5s 11ms/step - loss: 2.5213 - accuracy: 0.5247\n",
            "Epoch 48/100\n",
            "484/484 [==============================] - 6s 12ms/step - loss: 2.4693 - accuracy: 0.5354\n",
            "Epoch 49/100\n",
            "484/484 [==============================] - 6s 12ms/step - loss: 2.4266 - accuracy: 0.5484\n",
            "Epoch 50/100\n",
            "484/484 [==============================] - 6s 12ms/step - loss: 2.3647 - accuracy: 0.5585\n",
            "Epoch 51/100\n",
            "484/484 [==============================] - 6s 11ms/step - loss: 2.3167 - accuracy: 0.5676\n",
            "Epoch 52/100\n",
            "484/484 [==============================] - 6s 12ms/step - loss: 2.2827 - accuracy: 0.5789\n",
            "Epoch 53/100\n",
            "484/484 [==============================] - 6s 12ms/step - loss: 2.2315 - accuracy: 0.5887\n",
            "Epoch 54/100\n",
            "484/484 [==============================] - 6s 12ms/step - loss: 2.1937 - accuracy: 0.6002\n",
            "Epoch 55/100\n",
            "484/484 [==============================] - 6s 12ms/step - loss: 2.1493 - accuracy: 0.6106\n",
            "Epoch 56/100\n",
            "484/484 [==============================] - 6s 12ms/step - loss: 2.1086 - accuracy: 0.6213\n",
            "Epoch 57/100\n",
            "484/484 [==============================] - 6s 12ms/step - loss: 2.0636 - accuracy: 0.6317\n",
            "Epoch 58/100\n",
            "484/484 [==============================] - 6s 12ms/step - loss: 2.0315 - accuracy: 0.6330\n",
            "Epoch 59/100\n",
            "484/484 [==============================] - 6s 12ms/step - loss: 1.9942 - accuracy: 0.6425\n",
            "Epoch 60/100\n",
            "484/484 [==============================] - 6s 12ms/step - loss: 1.9441 - accuracy: 0.6563\n",
            "Epoch 61/100\n",
            "484/484 [==============================] - 6s 11ms/step - loss: 1.9222 - accuracy: 0.6568\n",
            "Epoch 62/100\n",
            "484/484 [==============================] - 6s 12ms/step - loss: 1.9007 - accuracy: 0.6600\n",
            "Epoch 63/100\n",
            "484/484 [==============================] - 5s 11ms/step - loss: 1.8607 - accuracy: 0.6698\n",
            "Epoch 64/100\n",
            "484/484 [==============================] - 6s 12ms/step - loss: 1.8391 - accuracy: 0.6706\n",
            "Epoch 65/100\n",
            "484/484 [==============================] - 5s 11ms/step - loss: 1.7949 - accuracy: 0.6866\n",
            "Epoch 66/100\n",
            "484/484 [==============================] - 6s 12ms/step - loss: 1.7628 - accuracy: 0.6899\n",
            "Epoch 67/100\n",
            "484/484 [==============================] - 6s 12ms/step - loss: 1.7452 - accuracy: 0.6920\n",
            "Epoch 68/100\n",
            "484/484 [==============================] - 6s 12ms/step - loss: 1.7241 - accuracy: 0.6973\n",
            "Epoch 69/100\n",
            "484/484 [==============================] - 6s 12ms/step - loss: 1.6847 - accuracy: 0.7059\n",
            "Epoch 70/100\n",
            "484/484 [==============================] - 6s 12ms/step - loss: 1.6578 - accuracy: 0.7112\n",
            "Epoch 71/100\n",
            "484/484 [==============================] - 6s 12ms/step - loss: 1.6252 - accuracy: 0.7171\n",
            "Epoch 72/100\n",
            "484/484 [==============================] - 6s 12ms/step - loss: 1.6198 - accuracy: 0.7159\n",
            "Epoch 73/100\n",
            "484/484 [==============================] - 6s 12ms/step - loss: 1.5942 - accuracy: 0.7222\n",
            "Epoch 74/100\n",
            "484/484 [==============================] - 6s 12ms/step - loss: 1.5778 - accuracy: 0.7267\n",
            "Epoch 75/100\n",
            "484/484 [==============================] - 6s 12ms/step - loss: 1.5384 - accuracy: 0.7309\n",
            "Epoch 76/100\n",
            "484/484 [==============================] - 6s 12ms/step - loss: 1.5153 - accuracy: 0.7392\n",
            "Epoch 77/100\n",
            "484/484 [==============================] - 5s 11ms/step - loss: 1.5072 - accuracy: 0.7402\n",
            "Epoch 78/100\n",
            "484/484 [==============================] - 6s 12ms/step - loss: 1.4919 - accuracy: 0.7414\n",
            "Epoch 79/100\n",
            "484/484 [==============================] - 6s 12ms/step - loss: 1.4720 - accuracy: 0.7462\n",
            "Epoch 80/100\n",
            "484/484 [==============================] - 6s 12ms/step - loss: 1.4428 - accuracy: 0.7509\n",
            "Epoch 81/100\n",
            "484/484 [==============================] - 6s 12ms/step - loss: 1.4186 - accuracy: 0.7579\n",
            "Epoch 82/100\n",
            "484/484 [==============================] - 6s 12ms/step - loss: 1.4017 - accuracy: 0.7613\n",
            "Epoch 83/100\n",
            "484/484 [==============================] - 6s 12ms/step - loss: 1.3936 - accuracy: 0.7581\n",
            "Epoch 84/100\n",
            "484/484 [==============================] - 6s 12ms/step - loss: 1.3880 - accuracy: 0.7594\n",
            "Epoch 85/100\n",
            "484/484 [==============================] - 6s 12ms/step - loss: 1.3696 - accuracy: 0.7651\n",
            "Epoch 86/100\n",
            "484/484 [==============================] - 6s 12ms/step - loss: 1.3519 - accuracy: 0.7665\n",
            "Epoch 87/100\n",
            "484/484 [==============================] - 6s 12ms/step - loss: 1.3327 - accuracy: 0.7699\n",
            "Epoch 88/100\n",
            "484/484 [==============================] - 6s 12ms/step - loss: 1.3168 - accuracy: 0.7748\n",
            "Epoch 89/100\n",
            "484/484 [==============================] - 6s 12ms/step - loss: 1.3092 - accuracy: 0.7751\n",
            "Epoch 90/100\n",
            "484/484 [==============================] - 6s 12ms/step - loss: 1.2952 - accuracy: 0.7773\n",
            "Epoch 91/100\n",
            "484/484 [==============================] - 6s 11ms/step - loss: 1.2797 - accuracy: 0.7808\n",
            "Epoch 92/100\n",
            "484/484 [==============================] - 6s 12ms/step - loss: 1.2629 - accuracy: 0.7789\n",
            "Epoch 93/100\n",
            "484/484 [==============================] - 6s 11ms/step - loss: 1.2553 - accuracy: 0.7865\n",
            "Epoch 94/100\n",
            "484/484 [==============================] - 6s 12ms/step - loss: 1.2450 - accuracy: 0.7819\n",
            "Epoch 95/100\n",
            "484/484 [==============================] - 6s 12ms/step - loss: 1.2329 - accuracy: 0.7870\n",
            "Epoch 96/100\n",
            "484/484 [==============================] - 6s 12ms/step - loss: 1.2185 - accuracy: 0.7899\n",
            "Epoch 97/100\n",
            "484/484 [==============================] - 6s 12ms/step - loss: 1.2057 - accuracy: 0.7917\n",
            "Epoch 98/100\n",
            "484/484 [==============================] - 6s 11ms/step - loss: 1.1993 - accuracy: 0.7929\n",
            "Epoch 99/100\n",
            "484/484 [==============================] - 6s 11ms/step - loss: 1.1956 - accuracy: 0.7923\n",
            "Epoch 100/100\n",
            "484/484 [==============================] - 6s 12ms/step - loss: 1.1836 - accuracy: 0.7948\n"
          ],
          "name": "stdout"
        }
      ]
    },
    {
      "cell_type": "code",
      "metadata": {
        "colab_type": "code",
        "id": "1fXTEO3GJ282",
        "colab": {
          "base_uri": "https://localhost:8080/",
          "height": 545
        },
        "outputId": "56d4000b-6003-44b3-c53a-12662b5852dd"
      },
      "source": [
        "import matplotlib.pyplot as plt\n",
        "acc = history.history['accuracy']\n",
        "loss = history.history['loss']\n",
        "\n",
        "epochs = range(len(acc))\n",
        "\n",
        "plt.plot(epochs, acc, 'b', label='Training accuracy')\n",
        "plt.title('Training accuracy')\n",
        "\n",
        "plt.figure()\n",
        "\n",
        "plt.plot(epochs, loss, 'b', label='Training Loss')\n",
        "plt.title('Training loss')\n",
        "plt.legend()\n",
        "\n",
        "plt.show()"
      ],
      "execution_count": 6,
      "outputs": [
        {
          "output_type": "display_data",
          "data": {
            "image/png": "[encoded data removed]",
            "text/plain": [
              "<Figure size 432x288 with 1 Axes>"
            ]
          },
          "metadata": {
            "tags": [],
            "needs_background": "light"
          }
        },
        {
          "output_type": "display_data",
          "data": {
            "image/png": "[encoded data removed]",
            "text/plain": [
              "<Figure size 432x288 with 1 Axes>"
            ]
          },
          "metadata": {
            "tags": [],
            "needs_background": "light"
          }
        }
      ]
    },
    {
      "cell_type": "code",
      "metadata": {
        "colab_type": "code",
        "id": "6Vc6PHgxa6Hm",
        "colab": {
          "base_uri": "https://localhost:8080/",
          "height": 105
        },
        "outputId": "8b2da85f-9f8c-4d96-968e-d21f7a2ccda0"
      },
      "source": [
        "seed_text = \"Help me Obi Wan Kenobi, you're my only hope\"\n",
        "next_words = 100\n",
        "  \n",
        "for _ in range(next_words):\n",
        "\ttoken_list = tokenizer.texts_to_sequences([seed_text])[0]\n",
        "\ttoken_list = pad_sequences([token_list], maxlen=max_sequence_len-1, padding='pre')\n",
        "\tpredicted = model.predict_classes(token_list, verbose=0)\n",
        "\toutput_word = \"\"\n",
        "\tfor word, index in tokenizer.word_index.items():\n",
        "\t\tif index == predicted:\n",
        "\t\t\toutput_word = word\n",
        "\t\t\tbreak\n",
        "\tseed_text += \" \" + output_word\n",
        "print(seed_text)"
      ],
      "execution_count": 7,
      "outputs": [
        {
          "output_type": "stream",
          "text": [
            "WARNING:tensorflow:From <ipython-input-7-622d307fa19a>:7: Sequential.predict_classes (from tensorflow.python.keras.engine.sequential) is deprecated and will be removed after 2021-01-01.\n",
            "Instructions for updating:\n",
            "Please use instead:* `np.argmax(model.predict(x), axis=-1)`,   if your model does multi-class classification   (e.g. if it uses a `softmax` last-layer activation).* `(model.predict(x) > 0.5).astype(\"int32\")`,   if your model does binary classification   (e.g. if it uses a `sigmoid` last-layer activation).\n",
            "Help me Obi Wan Kenobi, you're my only hope doth groan doth thee the lie to me be thine ill ill best there ' with thee were mine own decay ever in thine eye alone for me lose every hours of good rare small deeds lies new near appear express'd quite express'd fled fled lies taken brought to play you burn live seen live new made new lives a goddess kill thee happy cheeks days releasing forsworn me ' me thinks him made a winds and make me remain rare grow rage hath hence shown broken broken taken keep up back i haste them for thee so told i\n"
          ],
          "name": "stdout"
        }
      ]
    }
  ]
}